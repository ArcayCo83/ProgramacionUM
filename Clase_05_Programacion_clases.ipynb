{
  "nbformat": 4,
  "nbformat_minor": 0,
  "metadata": {
    "colab": {
      "provenance": [],
      "authorship_tag": "ABX9TyO9JCM4/lDs6MYgQHEc8EiE",
      "include_colab_link": true
    },
    "kernelspec": {
      "name": "python3",
      "display_name": "Python 3"
    },
    "language_info": {
      "name": "python"
    }
  },
  "cells": [
    {
      "cell_type": "markdown",
      "metadata": {
        "id": "view-in-github",
        "colab_type": "text"
      },
      "source": [
        "<a href=\"https://colab.research.google.com/github/ArcayCo83/ProgramacionUM/blob/main/Clase_05_Programacion_clases.ipynb\" target=\"_parent\"><img src=\"https://colab.research.google.com/assets/colab-badge.svg\" alt=\"Open In Colab\"/></a>"
      ]
    },
    {
      "cell_type": "markdown",
      "source": [
        "# Creación de clases\n",
        "\n",
        "¿Qué es la creación de clases?\n",
        "\n",
        "Es el proceso de crear variables que no se encuentran definidas por defecto en Python, pero que nosotros le diremos qué variables tendrán incluidas.\n",
        "\n",
        "En palabras simples, es una **PLANTILLA** para crear objetos, los cuales, además, se van 'arrastrando' y guardando en la memoria.\n",
        "\n",
        "En esta ocasión vamos a combinar lo que hemos aprendido de pandas con el uso de clases para crear nuestra propia librería de datos.\n",
        "\n",
        "Vamos a lo básico, definiremos una clase llamada **MiClase** a la que le atribuiremos el valor 5.\n"
      ],
      "metadata": {
        "id": "CkvgPIOswDO-"
      }
    },
    {
      "cell_type": "code",
      "execution_count": null,
      "metadata": {
        "id": "R53D88XowCz1"
      },
      "outputs": [],
      "source": [
        "class MiClase:\n",
        "  x = 5"
      ]
    },
    {
      "cell_type": "markdown",
      "source": [
        "Ahora usted tiene cargado **un número** en su clase, pero **NO HACE NADA POR SÍ SOLO**"
      ],
      "metadata": {
        "id": "6r5TtvtRxl2f"
      }
    },
    {
      "cell_type": "code",
      "source": [
        "obj1 = MiClase()\n",
        "print(obj1.x)"
      ],
      "metadata": {
        "colab": {
          "base_uri": "https://localhost:8080/"
        },
        "id": "vtuTNSKqxxPf",
        "outputId": "b523e681-4603-4fe2-8da3-874596f99c24"
      },
      "execution_count": null,
      "outputs": [
        {
          "output_type": "stream",
          "name": "stdout",
          "text": [
            "5\n"
          ]
        }
      ]
    },
    {
      "cell_type": "markdown",
      "source": [
        "Por ahora esto parece una manera **POCO PRÁCTICA** de crear variables a partir de la definición de otras cosas, casi como algo muy sofisticado, pero que al final hace lo mismo que cualquier otra cosa.\n",
        "\n",
        "Pero ahora veamos la potencialidad de las clases mediante el...\n",
        "\n",
        "# Método `__init__`\n",
        "\n",
        "El método '__init__` es un constructor de lenguajes de programación, con él construiremos una nueva y compleja forma de estructura de variables.\n",
        "\n",
        "Creemos ahora una lista a partir de una clase, a la lista le llamaremos `Producto`\n"
      ],
      "metadata": {
        "id": "c7-rtN3Kx7it"
      }
    },
    {
      "cell_type": "code",
      "source": [
        "class Producto:\n",
        "  def __init__(self, articulo, cantidad, precio):\n",
        "    self.articulo = articulo\n",
        "    self.cantidad = cantidad\n",
        "    self.precio = precio"
      ],
      "metadata": {
        "id": "jWFx0FQ9yg2P"
      },
      "execution_count": null,
      "outputs": []
    },
    {
      "cell_type": "markdown",
      "source": [
        "Ahora la clase está creada, pero no hay nada en esa lista para ser comprobado, ¿dónde están los productos?\n",
        "\n",
        "¿Cómo los agregamos?"
      ],
      "metadata": {
        "id": "DJr2mO81zYXi"
      }
    },
    {
      "cell_type": "code",
      "source": [
        "producto1 = Producto('Arroz', 2, 3000)\n",
        "print(producto1.articulo)\n",
        "print(producto1.cantidad)\n",
        "print(producto1.precio)"
      ],
      "metadata": {
        "colab": {
          "base_uri": "https://localhost:8080/"
        },
        "id": "y3Q0UYonzdwT",
        "outputId": "21a76b4d-e980-43ba-de4b-62d1bf57ce08"
      },
      "execution_count": null,
      "outputs": [
        {
          "output_type": "stream",
          "name": "stdout",
          "text": [
            "Arroz\n",
            "2\n",
            "3000\n"
          ]
        }
      ]
    },
    {
      "cell_type": "markdown",
      "source": [
        "# Métodos en las clases\n",
        "\n",
        "Otra de las gracias de las clases es que pueden crear funciones dentro del cuerpo de la clase, lo que permite que se añadan comportamientos útiles para cada instancia de clase. Veamos un **método de clase** en nuestro modelo de productos."
      ],
      "metadata": {
        "id": "y2XkPmlL0CkW"
      }
    },
    {
      "cell_type": "code",
      "source": [
        "class Producto:\n",
        "  def __init__(self, articulo, cantidad, precio):\n",
        "    self.articulo = articulo\n",
        "    self.cantidad = cantidad\n",
        "    self.precio = precio\n",
        "# Ojo con la indentación - El espacio que hay entre el borde y la definición es CLAVE\n",
        "  def descripcion(self):\n",
        "    print(f'El {self.articulo} cuya cantidad es {self.cantidad} kilos', '\\n',\n",
        "          f'tiene un precio de ${self.precio}')\n",
        "\n"
      ],
      "metadata": {
        "id": "8iLNCjKt0BDe"
      },
      "execution_count": null,
      "outputs": []
    },
    {
      "cell_type": "code",
      "source": [
        "# Agreguemos ahora 3 kilos de arroz a un valor de 2400 pesos\n",
        "\n",
        "producto1 = Producto('Arroz', 3, 2400)\n",
        "producto1.descripcion()"
      ],
      "metadata": {
        "colab": {
          "base_uri": "https://localhost:8080/"
        },
        "id": "6Km0zkqr011z",
        "outputId": "e7f90845-9baf-40db-b563-fcd4e638ce7c"
      },
      "execution_count": null,
      "outputs": [
        {
          "output_type": "stream",
          "name": "stdout",
          "text": [
            "El Arroz cuya cantidad es 3 kilos \n",
            " tiene un precio de $2400\n"
          ]
        }
      ]
    },
    {
      "cell_type": "markdown",
      "source": [
        "# Añadir restricciones\n",
        "\n",
        "Claro que esto no es tan fácil ⛔\n",
        "\n",
        "Una de las claves que tenemos que buscar es recordar esa clase antigua en la que hablamos de **herencia**, **encapsulación** y **polimorfismo**.\n",
        "\n",
        "En otras palabras, lo que estamso buscando, es poder heredar estas variables que estamos agregando a un listado, luego poder exportar ese listado. En otras palabras, armar formularios, cosas de las cuales podamos obtener **inteligencia de datos**.\n",
        "\n",
        "Y lo más importante para la inteligencia de datos es el poder recordar que existen **tipos de datos**, los más importantes que usaremos son:\n",
        "\n",
        "+ `str` que es string, es decir, texto, el más grande de todos.\n",
        "\n",
        "+ `float` que es float, que permite datos tipo decimales continuos.\n",
        "\n",
        "+ `int` que es integer, que permite datos tipo números enteros.\n",
        "\n",
        "+ `bool` que es boolean, lo que permite datos del tipo `True` o `False` (verdadero o falso).\n",
        "\n",
        "+ `date` que es date, lo que permite datos del tipo fecha.\n",
        "\n",
        "Entonces, para nuestro caso de productos, **siempre debemos comprender la relevancia de los datos que estamos manipulando**\n",
        "\n",
        "Hagamos un análisis introspectivo de los datos que componen nuestra clase `Producto`.\n",
        "\n",
        "+ `articulo`: Es una variable que podría ser texto o números, (por ejemplo el yogur 1+1). Como **puede ser texto** se usa la variable **MÁS GRANDE**, es decir, `articulo` debe ser **SIEMPRE** tipo `string`.\n",
        "\n",
        "+ `cantidad`: Es una variable que **TIENE QUE SER NÚMERO**, pero no necesariamente un número entero, pues, usted podría llevar 1.5 kilos de pan o 2.7 kilos de manzanas, es por ello que `cantidad` debe ser **SIEMPRE** tipo `float`.\n",
        "\n",
        "+ `precio`: El caso del precio **ES INHERENTE AL PAÍS O LA MONEDA QUE ESTEMOS USANDO EN NUESTRO EJERCICIO**. Si usted está trabajando con **DÓLARES** debe usar `float`, pero en este caso, usaremos pesos chilenos, por lo que la variable tiene que ser `int`.\n",
        "\n",
        "\n"
      ],
      "metadata": {
        "id": "VNKCyQ4X2AFv"
      }
    },
    {
      "cell_type": "code",
      "source": [
        "# Mejoremos nuestro código para el ingreso de los productos\n",
        "\n",
        "class Producto:\n",
        "  def __init__(self, articulo, cantidad, precio):\n",
        "    #Validación de artículo como string\n",
        "    if not isinstance(articulo, str):\n",
        "      raise ValueError('El artículo debe ser un string.')\n",
        "    self.articulo = articulo\n",
        "\n",
        "    #Validación que cantidad sea float\n",
        "    if not isinstance(cantidad, float):\n",
        "      raise ValueError('La cantidad debe ser un decimal.')\n",
        "    self.cantidad = cantidad\n",
        "\n",
        "    #Validación que precio sea integer\n",
        "    if not isinstance(precio, int):\n",
        "      raise ValueError('El precio debe ser un número entero.')\n",
        "    self.precio = precio\n",
        "\n",
        "  def descripcion(self):\n",
        "    print(f'El {self.articulo} cuya cantidad es {self.cantidad} kilos', '\\n',\n",
        "          f'tiene un precio de ${self.precio}')"
      ],
      "metadata": {
        "id": "5fpU7Gtg4Z7b"
      },
      "execution_count": null,
      "outputs": []
    },
    {
      "cell_type": "code",
      "source": [
        "# Probemos nuestro código\n",
        "\n",
        "producto1 = Producto('Lápiz', 3.0, 9)\n",
        "producto1.descripcion()"
      ],
      "metadata": {
        "colab": {
          "base_uri": "https://localhost:8080/"
        },
        "id": "-UuJg-4k5RpL",
        "outputId": "10ec03ef-4e9a-499d-ebef-6d4b2a74c44b"
      },
      "execution_count": null,
      "outputs": [
        {
          "output_type": "stream",
          "name": "stdout",
          "text": [
            "El Lápiz cuya cantidad es 3.0 kilos \n",
            " tiene un precio de $9\n"
          ]
        }
      ]
    },
    {
      "cell_type": "markdown",
      "source": [
        "¿Qué pasa si ingresamos lo siguiente?\n",
        "\n",
        "producto1 = Producto('Lápiz', 3, 9)\n",
        "producto1.descripcion()\n",
        "\n",
        "¿O esto?\n",
        "\n",
        "producto1 = Producto('Lápiz', 3.0, 9.5)\n",
        "producto1.descripcion()\n",
        "\n",
        "El resultado del código se ve **FEO**, es decir, no es un resultado limpio y agradable a la vista de quien esté corriendo el script.\n",
        "\n",
        "**Recuerde que usted muchas veces va a trabajar con personas que NO SABEN programación**. Esto implica que usted deberá muchas veces hacer que los mensajes de error sean **LO MÁS CLAROS POSIBLES**.\n",
        "\n",
        "A arreglar el código de nuevo:"
      ],
      "metadata": {
        "id": "_KFhLHkt52Cc"
      }
    },
    {
      "cell_type": "code",
      "source": [
        "class Producto:\n",
        "  def __init__(self, articulo, cantidad, precio):\n",
        "    #Validación de artículo como string\n",
        "    if not isinstance(articulo, str):\n",
        "      raise ValueError('El artículo debe ser un string.')\n",
        "    self.articulo = articulo\n",
        "\n",
        "    #Validación que cantidad sea float\n",
        "    if not isinstance(cantidad, float):\n",
        "      raise ValueError('La cantidad debe ser un decimal.')\n",
        "    self.cantidad = cantidad\n",
        "\n",
        "    #Validación que precio sea integer\n",
        "    if not isinstance(precio, int):\n",
        "      raise ValueError('El precio debe ser un número entero.')\n",
        "    self.precio = precio\n",
        "\n",
        "try:\n",
        "  producto1 = Producto('Lápiz', 2.0, 1000)\n",
        "  print(f'El artículo: {producto1.articulo} \\n'\n",
        "        f'Cantidad: {producto1.cantidad} \\n',\n",
        "        f'Precio: {producto1.precio}')\n",
        "\n",
        "except ValueError as e:\n",
        "  print(e)"
      ],
      "metadata": {
        "colab": {
          "base_uri": "https://localhost:8080/"
        },
        "id": "sPT7EjVQ6l0B",
        "outputId": "74d10d8f-d77c-48f1-97b0-e4d1d3e03749"
      },
      "execution_count": null,
      "outputs": [
        {
          "output_type": "stream",
          "name": "stdout",
          "text": [
            "El artículo: Lápiz \n",
            "Cantidad: 2.0 \n",
            " Precio: 1000\n"
          ]
        }
      ]
    },
    {
      "cell_type": "markdown",
      "source": [
        "# Ahora ya has creado tu primera clase\n",
        "\n",
        "Pero esto no ha agregado nada, las variables se van intercambiando unas por otras, pero no tenemos acceso a un historial de variables.\n",
        "\n",
        "¿Cómo creo mi lista de productos?\n",
        "\n",
        "¿Cuándo uso `pandas`?\n",
        "\n",
        "¿Cómo paso esto a Excel?\n",
        "\n",
        "¿Puedo hacer gráficos?\n",
        "\n",
        "Eso y más a la vuelta del receso."
      ],
      "metadata": {
        "id": "QIqZ3_1a7ZjF"
      }
    },
    {
      "cell_type": "markdown",
      "source": [
        "# Crear una lista para almacenar clases\n",
        "\n",
        "Ya aprendimos sobre cómo crear y mejorar el código de una clase, pero eso no ha agregado nada 😞...\n",
        "\n",
        "¿Cómo creo mi lista de productos?\n",
        "\n",
        "Defina una lista vacía para ello."
      ],
      "metadata": {
        "id": "81OH7_39z1W9"
      }
    },
    {
      "cell_type": "code",
      "source": [
        "productos = [] #lista vacía\n",
        "\n",
        "def agregar_producto(articulo, cantidad, precio):\n",
        "  producto = Producto(articulo, cantidad, precio)\n",
        "  productos.append(producto)\n",
        "\n",
        "def imprimir_productos():\n",
        "  for producto in productos:\n",
        "    print('Artículo:', producto.articulo)\n",
        "    print('Cantidad:', producto.cantidad)\n",
        "    print('Precio:', producto.precio)\n",
        "    print('---------')\n"
      ],
      "metadata": {
        "id": "fWUGpRfIz01E"
      },
      "execution_count": null,
      "outputs": []
    },
    {
      "cell_type": "code",
      "source": [
        "# Ahora agreguemos un producto a nuestra lista de productos\n",
        "\n",
        "imprimir_productos()"
      ],
      "metadata": {
        "id": "gB_tDMDuity8"
      },
      "execution_count": null,
      "outputs": []
    },
    {
      "cell_type": "code",
      "source": [
        "agregar_producto('Fideos', 20.0, 19900)\n",
        "agregar_producto('Salsa de Tomates', 24.0, 12720)\n",
        "imprimir_productos()"
      ],
      "metadata": {
        "colab": {
          "base_uri": "https://localhost:8080/"
        },
        "id": "399siLBfjhzS",
        "outputId": "fd6cb4f0-998d-4a02-8d10-d2314bece4d6"
      },
      "execution_count": null,
      "outputs": [
        {
          "output_type": "stream",
          "name": "stdout",
          "text": [
            "Artículo: Fideos\n",
            "Cantidad: 20.0\n",
            "Precio: 19900\n",
            "---------\n",
            "Artículo: Salsa de Tomates\n",
            "Cantidad: 24.0\n",
            "Precio: 12720\n",
            "---------\n"
          ]
        }
      ]
    },
    {
      "cell_type": "code",
      "source": [
        "#Agreguemos muchos productos ahora\n",
        "\n",
        "agregar_producto('Manzana', 12.64, 5596)\n",
        "agregar_producto('Banana', 20.56, 3308)\n",
        "agregar_producto('Cereal', 12.34, 3307)\n",
        "agregar_producto('Detergente', 13.74, 8054)\n",
        "agregar_producto('Espinaca', 16.76, 1408)\n",
        "agregar_producto('Frijoles', 24.40, 3849)\n",
        "agregar_producto('Galletas', 1.64, 5916)\n",
        "agregar_producto('Harina', 10.27, 3235)\n",
        "agregar_producto('Insecticida', 6.67, 2121)\n",
        "agregar_producto('Jabón', 10.18, 9958)\n",
        "agregar_producto('Kiwi', 1.79, 1793)\n",
        "agregar_producto('Lechuga', 23.02, 7243)\n",
        "agregar_producto('Mango', 11.94, 9085)\n",
        "agregar_producto('Naranja', 16.71, 5523)\n",
        "agregar_producto('Oregano', 20.17, 5490)\n",
        "agregar_producto('Pasta dental', 17.21, 8190)\n",
        "agregar_producto('Queso', 13.66, 4468)\n",
        "agregar_producto('Rábanos', 9.65, 9289)\n",
        "agregar_producto('Salsa de Tomate', 3.15, 2485)\n",
        "agregar_producto('Toallitas', 23.34, 8295)\n",
        "agregar_producto('Uvas', 16.90, 8678)\n",
        "agregar_producto('Vinagre', 24.10, 4720)\n",
        "agregar_producto('Waffles', 7.34, 9163)\n",
        "agregar_producto('Champú', 2.01, 3328)\n",
        "agregar_producto('Yogurt', 12.45, 2218)\n",
        "agregar_producto('Zanahorias', 14.32, 9334)\n",
        "agregar_producto('Aceite', 14.14, 8716)\n",
        "agregar_producto('Berenjenas', 2.72, 6984)\n",
        "agregar_producto('Champiñones', 2.36, 7044)\n",
        "agregar_producto('Desinfectante', 15.17, 7097)\n",
        "agregar_producto('Enjuague bucal', 10.63, 1052)\n",
        "agregar_producto('Fideos', 17.49, 9643)\n",
        "agregar_producto('Guisantes', 7.16, 2080)\n",
        "agregar_producto('Huevos', 4.48, 6083)\n",
        "agregar_producto('Impermeabilizante', 10.59, 2146)\n",
        "agregar_producto('Jugo de Naranja', 15.45, 5971)\n",
        "agregar_producto('Ketchup', 6.99, 5779)\n",
        "agregar_producto('Limpiador de pisos', 10.26, 5392)\n",
        "agregar_producto('Mantequilla', 4.70, 3533)\n",
        "agregar_producto('Nuez', 14.63, 6794)\n",
        "agregar_producto('Obleas', 12.30, 4658)\n",
        "agregar_producto('Papel higiénico', 22.10, 6198)\n",
        "agregar_producto('Queso rallado', 21.96, 880)\n",
        "agregar_producto('Rompope', 8.57, 5233)\n",
        "agregar_producto('Sal', 24.35, 3772)\n",
        "agregar_producto('Té', 24.97, 1333)\n",
        "agregar_producto('Ungüento', 10.21, 9444)\n",
        "agregar_producto('Vinagreta', 8.92, 3810)\n",
        "agregar_producto('Whisky', 23.62, 3916)\n",
        "agregar_producto('Extracto de vainilla', 13.50, 9972)\n"
      ],
      "metadata": {
        "id": "qPoZ6JZRolIy"
      },
      "execution_count": null,
      "outputs": []
    },
    {
      "cell_type": "code",
      "source": [
        "print(productos)"
      ],
      "metadata": {
        "colab": {
          "base_uri": "https://localhost:8080/"
        },
        "id": "cWEhtR6BovNS",
        "outputId": "f9f1d024-fd8c-4501-da30-b2903ae14710"
      },
      "execution_count": null,
      "outputs": [
        {
          "output_type": "stream",
          "name": "stdout",
          "text": [
            "[<__main__.Producto object at 0x796f88f6f670>, <__main__.Producto object at 0x796f88f6e200>, <__main__.Producto object at 0x796f88ef01f0>, <__main__.Producto object at 0x796f88ef0250>, <__main__.Producto object at 0x796f88ef0160>, <__main__.Producto object at 0x796f88ef0100>, <__main__.Producto object at 0x796f88ef00a0>, <__main__.Producto object at 0x796f88ef0040>, <__main__.Producto object at 0x796f88ef0f10>, <__main__.Producto object at 0x796f88ef0f70>, <__main__.Producto object at 0x796f88ef0fd0>, <__main__.Producto object at 0x796f88ef1030>, <__main__.Producto object at 0x796f88ef1090>, <__main__.Producto object at 0x796f88ef10f0>, <__main__.Producto object at 0x796f88ef1150>, <__main__.Producto object at 0x796f88ef11b0>, <__main__.Producto object at 0x796f88ef1210>, <__main__.Producto object at 0x796f88ef1270>, <__main__.Producto object at 0x796f88ef12d0>, <__main__.Producto object at 0x796f88ef1330>, <__main__.Producto object at 0x796f88ef1390>, <__main__.Producto object at 0x796f88ef13f0>, <__main__.Producto object at 0x796f88f6ecb0>, <__main__.Producto object at 0x796f88f6ebc0>, <__main__.Producto object at 0x796f88f6f640>, <__main__.Producto object at 0x796f88f6d270>, <__main__.Producto object at 0x796f88f6e4a0>, <__main__.Producto object at 0x796f88f6fac0>, <__main__.Producto object at 0x796f88f6fb50>, <__main__.Producto object at 0x796f88f6db70>, <__main__.Producto object at 0x796f88f6dcc0>, <__main__.Producto object at 0x796f88f6d8d0>, <__main__.Producto object at 0x796f88f6c790>, <__main__.Producto object at 0x796f88f6f160>, <__main__.Producto object at 0x796f88f6cee0>, <__main__.Producto object at 0x796f88f6c3a0>, <__main__.Producto object at 0x796f88f6d0f0>, <__main__.Producto object at 0x796f88f6c910>, <__main__.Producto object at 0x796f88f6c430>, <__main__.Producto object at 0x796f88f6fd30>, <__main__.Producto object at 0x796f88f6c160>, <__main__.Producto object at 0x796f88f6d030>, <__main__.Producto object at 0x796f88f6fb80>, <__main__.Producto object at 0x796f88f6d810>, <__main__.Producto object at 0x796f88f6f4f0>, <__main__.Producto object at 0x796f88f6ceb0>, <__main__.Producto object at 0x796f88f6ce50>, <__main__.Producto object at 0x796f88f6f040>, <__main__.Producto object at 0x796f88f6dfc0>, <__main__.Producto object at 0x796f88f6e560>, <__main__.Producto object at 0x796f88f6cc10>, <__main__.Producto object at 0x796f88f6c100>]\n"
          ]
        }
      ]
    },
    {
      "cell_type": "markdown",
      "source": [
        "# ¿Pero qué es eso?\n",
        "\n",
        "Al ocupar el comando print no obtuvimos nada, o sea, obtuvimos algo, pero lo que está resultando es la representación lógica de los objetos en Python.\n",
        "\n",
        "Ahora, esta es la importancia de ir arreglando nuestro código en la medida que trabajamos en él.\n",
        "\n",
        "Vamos a volver a definir la clase"
      ],
      "metadata": {
        "id": "sELmg-SWqVCH"
      }
    },
    {
      "cell_type": "code",
      "source": [
        "class Producto:\n",
        "  def __init__(self, articulo, cantidad, precio):\n",
        "    #Validación de artículo como string\n",
        "    if not isinstance(articulo, str):\n",
        "      raise ValueError('El artículo debe ser un string.')\n",
        "    self.articulo = articulo\n",
        "\n",
        "    #Validación que cantidad sea float\n",
        "    if not isinstance(cantidad, float):\n",
        "      raise ValueError('La cantidad debe ser un decimal.')\n",
        "    self.cantidad = cantidad\n",
        "\n",
        "    #Validación que precio sea integer\n",
        "    if not isinstance(precio, int):\n",
        "      raise ValueError('El precio debe ser un número entero.')\n",
        "    self.precio = precio\n",
        "\n",
        "  #ACÁ AÑADIMOS UN NUEVO CÓDIGO\n",
        "  def __str__(self):\n",
        "    return f'Artículo: {self.articulo}, Cantidad: {self.cantidad}, Precio: {self.precio}'\n",
        "\n",
        "try:\n",
        "  producto1 = Producto('Lápiz', 2.0, 1000)\n",
        "  print(f'El artículo: {producto1.articulo} \\n'\n",
        "        f'Cantidad: {producto1.cantidad} \\n',\n",
        "        f'Precio: {producto1.precio}')\n",
        "\n",
        "except ValueError as e:\n",
        "  print(e)"
      ],
      "metadata": {
        "colab": {
          "base_uri": "https://localhost:8080/"
        },
        "outputId": "732e9e4b-f440-4c79-b2c3-f1460d09d5af",
        "id": "HjIxnF3Aq0cO"
      },
      "execution_count": null,
      "outputs": [
        {
          "output_type": "stream",
          "name": "stdout",
          "text": [
            "El artículo: Lápiz \n",
            "Cantidad: 2.0 \n",
            " Precio: 1000\n"
          ]
        }
      ]
    },
    {
      "cell_type": "code",
      "source": [
        "productos = [] #lista vacía\n",
        "\n",
        "def agregar_producto(articulo, cantidad, precio):\n",
        "  producto = Producto(articulo, cantidad, precio)\n",
        "  productos.append(producto)\n",
        "\n",
        "def imprimir_productos():\n",
        "  for producto in productos:\n",
        "    print('Artículo:', producto.articulo)\n",
        "    print('Cantidad:', producto.cantidad)\n",
        "    print('Precio:', producto.precio)\n",
        "    print('---------')\n",
        "\n",
        "agregar_producto('Fideos', 20.0, 19900)\n",
        "agregar_producto('Salsa de Tomates', 24.0, 12720)\n",
        "imprimir_productos()"
      ],
      "metadata": {
        "colab": {
          "base_uri": "https://localhost:8080/"
        },
        "id": "Co6ZytTjrhiE",
        "outputId": "edd94f73-98c7-46e0-81be-8f1a169783ea"
      },
      "execution_count": null,
      "outputs": [
        {
          "output_type": "stream",
          "name": "stdout",
          "text": [
            "Artículo: Fideos\n",
            "Cantidad: 20.0\n",
            "Precio: 19900\n",
            "---------\n",
            "Artículo: Salsa de Tomates\n",
            "Cantidad: 24.0\n",
            "Precio: 12720\n",
            "---------\n"
          ]
        }
      ]
    },
    {
      "cell_type": "code",
      "source": [
        "for producto in productos:\n",
        "  print(producto)"
      ],
      "metadata": {
        "colab": {
          "base_uri": "https://localhost:8080/"
        },
        "id": "kUVA11Y4ryEt",
        "outputId": "f841e13e-f6c9-4876-da8b-a56c40f52f61"
      },
      "execution_count": null,
      "outputs": [
        {
          "output_type": "stream",
          "name": "stdout",
          "text": [
            "Artículo: Fideos, Cantidad: 20.0, Precio: 19900\n",
            "Artículo: Salsa de Tomates, Cantidad: 24.0, Precio: 12720\n",
            "Artículo: Manzana, Cantidad: 12.64, Precio: 5596\n",
            "Artículo: Banana, Cantidad: 20.56, Precio: 3308\n",
            "Artículo: Cereal, Cantidad: 12.34, Precio: 3307\n",
            "Artículo: Detergente, Cantidad: 13.74, Precio: 8054\n",
            "Artículo: Espinaca, Cantidad: 16.76, Precio: 1408\n",
            "Artículo: Frijoles, Cantidad: 24.4, Precio: 3849\n",
            "Artículo: Galletas, Cantidad: 1.64, Precio: 5916\n",
            "Artículo: Harina, Cantidad: 10.27, Precio: 3235\n",
            "Artículo: Insecticida, Cantidad: 6.67, Precio: 2121\n",
            "Artículo: Jabón, Cantidad: 10.18, Precio: 9958\n",
            "Artículo: Kiwi, Cantidad: 1.79, Precio: 1793\n",
            "Artículo: Lechuga, Cantidad: 23.02, Precio: 7243\n",
            "Artículo: Mango, Cantidad: 11.94, Precio: 9085\n",
            "Artículo: Naranja, Cantidad: 16.71, Precio: 5523\n",
            "Artículo: Oregano, Cantidad: 20.17, Precio: 5490\n",
            "Artículo: Pasta dental, Cantidad: 17.21, Precio: 8190\n",
            "Artículo: Queso, Cantidad: 13.66, Precio: 4468\n",
            "Artículo: Rábanos, Cantidad: 9.65, Precio: 9289\n",
            "Artículo: Salsa de Tomate, Cantidad: 3.15, Precio: 2485\n",
            "Artículo: Toallitas, Cantidad: 23.34, Precio: 8295\n",
            "Artículo: Uvas, Cantidad: 16.9, Precio: 8678\n",
            "Artículo: Vinagre, Cantidad: 24.1, Precio: 4720\n",
            "Artículo: Waffles, Cantidad: 7.34, Precio: 9163\n",
            "Artículo: Champú, Cantidad: 2.01, Precio: 3328\n",
            "Artículo: Yogurt, Cantidad: 12.45, Precio: 2218\n",
            "Artículo: Zanahorias, Cantidad: 14.32, Precio: 9334\n",
            "Artículo: Aceite, Cantidad: 14.14, Precio: 8716\n",
            "Artículo: Berenjenas, Cantidad: 2.72, Precio: 6984\n",
            "Artículo: Champiñones, Cantidad: 2.36, Precio: 7044\n",
            "Artículo: Desinfectante, Cantidad: 15.17, Precio: 7097\n",
            "Artículo: Enjuague bucal, Cantidad: 10.63, Precio: 1052\n",
            "Artículo: Fideos, Cantidad: 17.49, Precio: 9643\n",
            "Artículo: Guisantes, Cantidad: 7.16, Precio: 2080\n",
            "Artículo: Huevos, Cantidad: 4.48, Precio: 6083\n",
            "Artículo: Impermeabilizante, Cantidad: 10.59, Precio: 2146\n",
            "Artículo: Jugo de Naranja, Cantidad: 15.45, Precio: 5971\n",
            "Artículo: Ketchup, Cantidad: 6.99, Precio: 5779\n",
            "Artículo: Limpiador de pisos, Cantidad: 10.26, Precio: 5392\n",
            "Artículo: Mantequilla, Cantidad: 4.7, Precio: 3533\n",
            "Artículo: Nuez, Cantidad: 14.63, Precio: 6794\n",
            "Artículo: Obleas, Cantidad: 12.3, Precio: 4658\n",
            "Artículo: Papel higiénico, Cantidad: 22.1, Precio: 6198\n",
            "Artículo: Queso rallado, Cantidad: 21.96, Precio: 880\n",
            "Artículo: Rompope, Cantidad: 8.57, Precio: 5233\n",
            "Artículo: Sal, Cantidad: 24.35, Precio: 3772\n",
            "Artículo: Té, Cantidad: 24.97, Precio: 1333\n",
            "Artículo: Ungüento, Cantidad: 10.21, Precio: 9444\n",
            "Artículo: Vinagreta, Cantidad: 8.92, Precio: 3810\n",
            "Artículo: Whisky, Cantidad: 23.62, Precio: 3916\n",
            "Artículo: Extracto de vainilla, Cantidad: 13.5, Precio: 9972\n"
          ]
        }
      ]
    },
    {
      "cell_type": "code",
      "source": [
        "#VOLVEMOS A AGREGAR LOS PRODUCTOS\n",
        "\n",
        "agregar_producto('Manzana', 12.64, 5596)\n",
        "agregar_producto('Banana', 20.56, 3308)\n",
        "agregar_producto('Cereal', 12.34, 3307)\n",
        "agregar_producto('Detergente', 13.74, 8054)\n",
        "agregar_producto('Espinaca', 16.76, 1408)\n",
        "agregar_producto('Frijoles', 24.40, 3849)\n",
        "agregar_producto('Galletas', 1.64, 5916)\n",
        "agregar_producto('Harina', 10.27, 3235)\n",
        "agregar_producto('Insecticida', 6.67, 2121)\n",
        "agregar_producto('Jabón', 10.18, 9958)\n",
        "agregar_producto('Kiwi', 1.79, 1793)\n",
        "agregar_producto('Lechuga', 23.02, 7243)\n",
        "agregar_producto('Mango', 11.94, 9085)\n",
        "agregar_producto('Naranja', 16.71, 5523)\n",
        "agregar_producto('Oregano', 20.17, 5490)\n",
        "agregar_producto('Pasta dental', 17.21, 8190)\n",
        "agregar_producto('Queso', 13.66, 4468)\n",
        "agregar_producto('Rábanos', 9.65, 9289)\n",
        "agregar_producto('Salsa de Tomate', 3.15, 2485)\n",
        "agregar_producto('Toallitas', 23.34, 8295)\n",
        "agregar_producto('Uvas', 16.90, 8678)\n",
        "agregar_producto('Vinagre', 24.10, 4720)\n",
        "agregar_producto('Waffles', 7.34, 9163)\n",
        "agregar_producto('Champú', 2.01, 3328)\n",
        "agregar_producto('Yogurt', 12.45, 2218)\n",
        "agregar_producto('Zanahorias', 14.32, 9334)\n",
        "agregar_producto('Aceite', 14.14, 8716)\n",
        "agregar_producto('Berenjenas', 2.72, 6984)\n",
        "agregar_producto('Champiñones', 2.36, 7044)\n",
        "agregar_producto('Desinfectante', 15.17, 7097)\n",
        "agregar_producto('Enjuague bucal', 10.63, 1052)\n",
        "agregar_producto('Fideos', 17.49, 9643)\n",
        "agregar_producto('Guisantes', 7.16, 2080)\n",
        "agregar_producto('Huevos', 4.48, 6083)\n",
        "agregar_producto('Impermeabilizante', 10.59, 2146)\n",
        "agregar_producto('Jugo de Naranja', 15.45, 5971)\n",
        "agregar_producto('Ketchup', 6.99, 5779)\n",
        "agregar_producto('Limpiador de pisos', 10.26, 5392)\n",
        "agregar_producto('Mantequilla', 4.70, 3533)\n",
        "agregar_producto('Nuez', 14.63, 6794)\n",
        "agregar_producto('Obleas', 12.30, 4658)\n",
        "agregar_producto('Papel higiénico', 22.10, 6198)\n",
        "agregar_producto('Queso rallado', 21.96, 880)\n",
        "agregar_producto('Rompope', 8.57, 5233)\n",
        "agregar_producto('Sal', 24.35, 3772)\n",
        "agregar_producto('Té', 24.97, 1333)\n",
        "agregar_producto('Ungüento', 10.21, 9444)\n",
        "agregar_producto('Vinagreta', 8.92, 3810)\n",
        "agregar_producto('Whisky', 23.62, 3916)\n",
        "agregar_producto('Extracto de vainilla', 13.50, 9972)\n"
      ],
      "metadata": {
        "id": "YIjYHrtzsBG_"
      },
      "execution_count": null,
      "outputs": []
    },
    {
      "cell_type": "code",
      "source": [
        "for producto in productos:\n",
        "  print(producto)"
      ],
      "metadata": {
        "colab": {
          "base_uri": "https://localhost:8080/"
        },
        "id": "5QEUD3QTsEiP",
        "outputId": "e6106d0f-01de-40c6-c9f7-d9721b95543d"
      },
      "execution_count": null,
      "outputs": [
        {
          "output_type": "stream",
          "name": "stdout",
          "text": [
            "Artículo: Fideos, Cantidad: 20.0, Precio: 19900\n",
            "Artículo: Salsa de Tomates, Cantidad: 24.0, Precio: 12720\n",
            "Artículo: Manzana, Cantidad: 12.64, Precio: 5596\n",
            "Artículo: Banana, Cantidad: 20.56, Precio: 3308\n",
            "Artículo: Cereal, Cantidad: 12.34, Precio: 3307\n",
            "Artículo: Detergente, Cantidad: 13.74, Precio: 8054\n",
            "Artículo: Espinaca, Cantidad: 16.76, Precio: 1408\n",
            "Artículo: Frijoles, Cantidad: 24.4, Precio: 3849\n",
            "Artículo: Galletas, Cantidad: 1.64, Precio: 5916\n",
            "Artículo: Harina, Cantidad: 10.27, Precio: 3235\n",
            "Artículo: Insecticida, Cantidad: 6.67, Precio: 2121\n",
            "Artículo: Jabón, Cantidad: 10.18, Precio: 9958\n",
            "Artículo: Kiwi, Cantidad: 1.79, Precio: 1793\n",
            "Artículo: Lechuga, Cantidad: 23.02, Precio: 7243\n",
            "Artículo: Mango, Cantidad: 11.94, Precio: 9085\n",
            "Artículo: Naranja, Cantidad: 16.71, Precio: 5523\n",
            "Artículo: Oregano, Cantidad: 20.17, Precio: 5490\n",
            "Artículo: Pasta dental, Cantidad: 17.21, Precio: 8190\n",
            "Artículo: Queso, Cantidad: 13.66, Precio: 4468\n",
            "Artículo: Rábanos, Cantidad: 9.65, Precio: 9289\n",
            "Artículo: Salsa de Tomate, Cantidad: 3.15, Precio: 2485\n",
            "Artículo: Toallitas, Cantidad: 23.34, Precio: 8295\n",
            "Artículo: Uvas, Cantidad: 16.9, Precio: 8678\n",
            "Artículo: Vinagre, Cantidad: 24.1, Precio: 4720\n",
            "Artículo: Waffles, Cantidad: 7.34, Precio: 9163\n",
            "Artículo: Champú, Cantidad: 2.01, Precio: 3328\n",
            "Artículo: Yogurt, Cantidad: 12.45, Precio: 2218\n",
            "Artículo: Zanahorias, Cantidad: 14.32, Precio: 9334\n",
            "Artículo: Aceite, Cantidad: 14.14, Precio: 8716\n",
            "Artículo: Berenjenas, Cantidad: 2.72, Precio: 6984\n",
            "Artículo: Champiñones, Cantidad: 2.36, Precio: 7044\n",
            "Artículo: Desinfectante, Cantidad: 15.17, Precio: 7097\n",
            "Artículo: Enjuague bucal, Cantidad: 10.63, Precio: 1052\n",
            "Artículo: Fideos, Cantidad: 17.49, Precio: 9643\n",
            "Artículo: Guisantes, Cantidad: 7.16, Precio: 2080\n",
            "Artículo: Huevos, Cantidad: 4.48, Precio: 6083\n",
            "Artículo: Impermeabilizante, Cantidad: 10.59, Precio: 2146\n",
            "Artículo: Jugo de Naranja, Cantidad: 15.45, Precio: 5971\n",
            "Artículo: Ketchup, Cantidad: 6.99, Precio: 5779\n",
            "Artículo: Limpiador de pisos, Cantidad: 10.26, Precio: 5392\n",
            "Artículo: Mantequilla, Cantidad: 4.7, Precio: 3533\n",
            "Artículo: Nuez, Cantidad: 14.63, Precio: 6794\n",
            "Artículo: Obleas, Cantidad: 12.3, Precio: 4658\n",
            "Artículo: Papel higiénico, Cantidad: 22.1, Precio: 6198\n",
            "Artículo: Queso rallado, Cantidad: 21.96, Precio: 880\n",
            "Artículo: Rompope, Cantidad: 8.57, Precio: 5233\n",
            "Artículo: Sal, Cantidad: 24.35, Precio: 3772\n",
            "Artículo: Té, Cantidad: 24.97, Precio: 1333\n",
            "Artículo: Ungüento, Cantidad: 10.21, Precio: 9444\n",
            "Artículo: Vinagreta, Cantidad: 8.92, Precio: 3810\n",
            "Artículo: Whisky, Cantidad: 23.62, Precio: 3916\n",
            "Artículo: Extracto de vainilla, Cantidad: 13.5, Precio: 9972\n"
          ]
        }
      ]
    },
    {
      "cell_type": "code",
      "source": [
        "import pandas as pd\n",
        "\n",
        "class Producto:\n",
        "  def __init__(self, articulo, cantidad, precio):\n",
        "    #Validación de artículo como string\n",
        "    if not isinstance(articulo, str):\n",
        "      raise ValueError('El artículo debe ser un string.')\n",
        "    self.articulo = articulo\n",
        "\n",
        "    #Validación que cantidad sea float\n",
        "    if not isinstance(cantidad, float):\n",
        "      raise ValueError('La cantidad debe ser un decimal.')\n",
        "    self.cantidad = cantidad\n",
        "\n",
        "    #Validación que precio sea integer\n",
        "    if not isinstance(precio, int):\n",
        "      raise ValueError('El precio debe ser un número entero.')\n",
        "    self.precio = precio\n",
        "\n",
        "  #ACÁ AÑADIMOS UN NUEVO CÓDIGO\n",
        "  def __str__(self):\n",
        "    return f'Artículo: {self.articulo}, Cantidad: {self.cantidad}, Precio: {self.precio}'\n",
        "\n",
        "try:\n",
        "  producto1 = Producto('Lápiz', 2.0, 1000)\n",
        "  print(f'El artículo: {producto1.articulo} \\n'\n",
        "        f'Cantidad: {producto1.cantidad} \\n',\n",
        "        f'Precio: {producto1.precio}')\n",
        "\n",
        "except ValueError as e:\n",
        "  print(e)\n",
        "\n",
        "productos = productos\n",
        "\n",
        "# Creación de dataframe\n",
        "\n",
        "datos = {\n",
        "    'Artìculo': [producto.articulo for producto in productos],\n",
        "    'Cantidad': [producto.cantidad for producto in productos],\n",
        "    'Precio': [producto.precio for producto in productos]\n",
        "}\n",
        "\n",
        "df = pd.DataFrame(datos)\n",
        "\n",
        "print(df)"
      ],
      "metadata": {
        "colab": {
          "base_uri": "https://localhost:8080/"
        },
        "id": "u9qI9GWJsZNJ",
        "outputId": "c24cb957-dc7f-4825-8f2d-fdb5b806943d"
      },
      "execution_count": null,
      "outputs": [
        {
          "output_type": "stream",
          "name": "stdout",
          "text": [
            "El artículo: Lápiz \n",
            "Cantidad: 2.0 \n",
            " Precio: 1000\n",
            "                Artìculo  Cantidad  Precio\n",
            "0                 Fideos     20.00   19900\n",
            "1       Salsa de Tomates     24.00   12720\n",
            "2                Manzana     12.64    5596\n",
            "3                 Banana     20.56    3308\n",
            "4                 Cereal     12.34    3307\n",
            "5             Detergente     13.74    8054\n",
            "6               Espinaca     16.76    1408\n",
            "7               Frijoles     24.40    3849\n",
            "8               Galletas      1.64    5916\n",
            "9                 Harina     10.27    3235\n",
            "10           Insecticida      6.67    2121\n",
            "11                 Jabón     10.18    9958\n",
            "12                  Kiwi      1.79    1793\n",
            "13               Lechuga     23.02    7243\n",
            "14                 Mango     11.94    9085\n",
            "15               Naranja     16.71    5523\n",
            "16               Oregano     20.17    5490\n",
            "17          Pasta dental     17.21    8190\n",
            "18                 Queso     13.66    4468\n",
            "19               Rábanos      9.65    9289\n",
            "20       Salsa de Tomate      3.15    2485\n",
            "21             Toallitas     23.34    8295\n",
            "22                  Uvas     16.90    8678\n",
            "23               Vinagre     24.10    4720\n",
            "24               Waffles      7.34    9163\n",
            "25                Champú      2.01    3328\n",
            "26                Yogurt     12.45    2218\n",
            "27            Zanahorias     14.32    9334\n",
            "28                Aceite     14.14    8716\n",
            "29            Berenjenas      2.72    6984\n",
            "30           Champiñones      2.36    7044\n",
            "31         Desinfectante     15.17    7097\n",
            "32        Enjuague bucal     10.63    1052\n",
            "33                Fideos     17.49    9643\n",
            "34             Guisantes      7.16    2080\n",
            "35                Huevos      4.48    6083\n",
            "36     Impermeabilizante     10.59    2146\n",
            "37       Jugo de Naranja     15.45    5971\n",
            "38               Ketchup      6.99    5779\n",
            "39    Limpiador de pisos     10.26    5392\n",
            "40           Mantequilla      4.70    3533\n",
            "41                  Nuez     14.63    6794\n",
            "42                Obleas     12.30    4658\n",
            "43       Papel higiénico     22.10    6198\n",
            "44         Queso rallado     21.96     880\n",
            "45               Rompope      8.57    5233\n",
            "46                   Sal     24.35    3772\n",
            "47                    Té     24.97    1333\n",
            "48              Ungüento     10.21    9444\n",
            "49             Vinagreta      8.92    3810\n",
            "50                Whisky     23.62    3916\n",
            "51  Extracto de vainilla     13.50    9972\n"
          ]
        }
      ]
    },
    {
      "cell_type": "code",
      "source": [
        "# Instalación de librería necesaria para exportar a Excel\n",
        "\n",
        "!pip install openpyxl"
      ],
      "metadata": {
        "colab": {
          "base_uri": "https://localhost:8080/"
        },
        "id": "RN8NHOxSt076",
        "outputId": "ff718f7f-67af-4d9e-99cd-1c6f0dae0222"
      },
      "execution_count": null,
      "outputs": [
        {
          "output_type": "stream",
          "name": "stdout",
          "text": [
            "Requirement already satisfied: openpyxl in /usr/local/lib/python3.10/dist-packages (3.1.2)\n",
            "Requirement already satisfied: et-xmlfile in /usr/local/lib/python3.10/dist-packages (from openpyxl) (1.1.0)\n"
          ]
        }
      ]
    },
    {
      "cell_type": "code",
      "source": [
        "# Exportación\n",
        "\n",
        "df.to_excel('productos.xlsx', index = False, engine = 'openpyxl')"
      ],
      "metadata": {
        "id": "U5vIdbJVt7Jb"
      },
      "execution_count": null,
      "outputs": []
    },
    {
      "cell_type": "code",
      "source": [
        "df"
      ],
      "metadata": {
        "colab": {
          "base_uri": "https://localhost:8080/",
          "height": 1000
        },
        "id": "0a9ULL9Quoba",
        "outputId": "03a907de-bb90-4aaf-c8f7-4ea68a946b10"
      },
      "execution_count": null,
      "outputs": [
        {
          "output_type": "execute_result",
          "data": {
            "text/plain": [
              "                Artìculo  Cantidad  Precio\n",
              "0                 Fideos     20.00   19900\n",
              "1       Salsa de Tomates     24.00   12720\n",
              "2                Manzana     12.64    5596\n",
              "3                 Banana     20.56    3308\n",
              "4                 Cereal     12.34    3307\n",
              "5             Detergente     13.74    8054\n",
              "6               Espinaca     16.76    1408\n",
              "7               Frijoles     24.40    3849\n",
              "8               Galletas      1.64    5916\n",
              "9                 Harina     10.27    3235\n",
              "10           Insecticida      6.67    2121\n",
              "11                 Jabón     10.18    9958\n",
              "12                  Kiwi      1.79    1793\n",
              "13               Lechuga     23.02    7243\n",
              "14                 Mango     11.94    9085\n",
              "15               Naranja     16.71    5523\n",
              "16               Oregano     20.17    5490\n",
              "17          Pasta dental     17.21    8190\n",
              "18                 Queso     13.66    4468\n",
              "19               Rábanos      9.65    9289\n",
              "20       Salsa de Tomate      3.15    2485\n",
              "21             Toallitas     23.34    8295\n",
              "22                  Uvas     16.90    8678\n",
              "23               Vinagre     24.10    4720\n",
              "24               Waffles      7.34    9163\n",
              "25                Champú      2.01    3328\n",
              "26                Yogurt     12.45    2218\n",
              "27            Zanahorias     14.32    9334\n",
              "28                Aceite     14.14    8716\n",
              "29            Berenjenas      2.72    6984\n",
              "30           Champiñones      2.36    7044\n",
              "31         Desinfectante     15.17    7097\n",
              "32        Enjuague bucal     10.63    1052\n",
              "33                Fideos     17.49    9643\n",
              "34             Guisantes      7.16    2080\n",
              "35                Huevos      4.48    6083\n",
              "36     Impermeabilizante     10.59    2146\n",
              "37       Jugo de Naranja     15.45    5971\n",
              "38               Ketchup      6.99    5779\n",
              "39    Limpiador de pisos     10.26    5392\n",
              "40           Mantequilla      4.70    3533\n",
              "41                  Nuez     14.63    6794\n",
              "42                Obleas     12.30    4658\n",
              "43       Papel higiénico     22.10    6198\n",
              "44         Queso rallado     21.96     880\n",
              "45               Rompope      8.57    5233\n",
              "46                   Sal     24.35    3772\n",
              "47                    Té     24.97    1333\n",
              "48              Ungüento     10.21    9444\n",
              "49             Vinagreta      8.92    3810\n",
              "50                Whisky     23.62    3916\n",
              "51  Extracto de vainilla     13.50    9972"
            ],
            "text/html": [
              "\n",
              "  <div id=\"df-ec4627fc-01ab-45ec-b5cc-6441c0557914\" class=\"colab-df-container\">\n",
              "    <div>\n",
              "<style scoped>\n",
              "    .dataframe tbody tr th:only-of-type {\n",
              "        vertical-align: middle;\n",
              "    }\n",
              "\n",
              "    .dataframe tbody tr th {\n",
              "        vertical-align: top;\n",
              "    }\n",
              "\n",
              "    .dataframe thead th {\n",
              "        text-align: right;\n",
              "    }\n",
              "</style>\n",
              "<table border=\"1\" class=\"dataframe\">\n",
              "  <thead>\n",
              "    <tr style=\"text-align: right;\">\n",
              "      <th></th>\n",
              "      <th>Artìculo</th>\n",
              "      <th>Cantidad</th>\n",
              "      <th>Precio</th>\n",
              "    </tr>\n",
              "  </thead>\n",
              "  <tbody>\n",
              "    <tr>\n",
              "      <th>0</th>\n",
              "      <td>Fideos</td>\n",
              "      <td>20.00</td>\n",
              "      <td>19900</td>\n",
              "    </tr>\n",
              "    <tr>\n",
              "      <th>1</th>\n",
              "      <td>Salsa de Tomates</td>\n",
              "      <td>24.00</td>\n",
              "      <td>12720</td>\n",
              "    </tr>\n",
              "    <tr>\n",
              "      <th>2</th>\n",
              "      <td>Manzana</td>\n",
              "      <td>12.64</td>\n",
              "      <td>5596</td>\n",
              "    </tr>\n",
              "    <tr>\n",
              "      <th>3</th>\n",
              "      <td>Banana</td>\n",
              "      <td>20.56</td>\n",
              "      <td>3308</td>\n",
              "    </tr>\n",
              "    <tr>\n",
              "      <th>4</th>\n",
              "      <td>Cereal</td>\n",
              "      <td>12.34</td>\n",
              "      <td>3307</td>\n",
              "    </tr>\n",
              "    <tr>\n",
              "      <th>5</th>\n",
              "      <td>Detergente</td>\n",
              "      <td>13.74</td>\n",
              "      <td>8054</td>\n",
              "    </tr>\n",
              "    <tr>\n",
              "      <th>6</th>\n",
              "      <td>Espinaca</td>\n",
              "      <td>16.76</td>\n",
              "      <td>1408</td>\n",
              "    </tr>\n",
              "    <tr>\n",
              "      <th>7</th>\n",
              "      <td>Frijoles</td>\n",
              "      <td>24.40</td>\n",
              "      <td>3849</td>\n",
              "    </tr>\n",
              "    <tr>\n",
              "      <th>8</th>\n",
              "      <td>Galletas</td>\n",
              "      <td>1.64</td>\n",
              "      <td>5916</td>\n",
              "    </tr>\n",
              "    <tr>\n",
              "      <th>9</th>\n",
              "      <td>Harina</td>\n",
              "      <td>10.27</td>\n",
              "      <td>3235</td>\n",
              "    </tr>\n",
              "    <tr>\n",
              "      <th>10</th>\n",
              "      <td>Insecticida</td>\n",
              "      <td>6.67</td>\n",
              "      <td>2121</td>\n",
              "    </tr>\n",
              "    <tr>\n",
              "      <th>11</th>\n",
              "      <td>Jabón</td>\n",
              "      <td>10.18</td>\n",
              "      <td>9958</td>\n",
              "    </tr>\n",
              "    <tr>\n",
              "      <th>12</th>\n",
              "      <td>Kiwi</td>\n",
              "      <td>1.79</td>\n",
              "      <td>1793</td>\n",
              "    </tr>\n",
              "    <tr>\n",
              "      <th>13</th>\n",
              "      <td>Lechuga</td>\n",
              "      <td>23.02</td>\n",
              "      <td>7243</td>\n",
              "    </tr>\n",
              "    <tr>\n",
              "      <th>14</th>\n",
              "      <td>Mango</td>\n",
              "      <td>11.94</td>\n",
              "      <td>9085</td>\n",
              "    </tr>\n",
              "    <tr>\n",
              "      <th>15</th>\n",
              "      <td>Naranja</td>\n",
              "      <td>16.71</td>\n",
              "      <td>5523</td>\n",
              "    </tr>\n",
              "    <tr>\n",
              "      <th>16</th>\n",
              "      <td>Oregano</td>\n",
              "      <td>20.17</td>\n",
              "      <td>5490</td>\n",
              "    </tr>\n",
              "    <tr>\n",
              "      <th>17</th>\n",
              "      <td>Pasta dental</td>\n",
              "      <td>17.21</td>\n",
              "      <td>8190</td>\n",
              "    </tr>\n",
              "    <tr>\n",
              "      <th>18</th>\n",
              "      <td>Queso</td>\n",
              "      <td>13.66</td>\n",
              "      <td>4468</td>\n",
              "    </tr>\n",
              "    <tr>\n",
              "      <th>19</th>\n",
              "      <td>Rábanos</td>\n",
              "      <td>9.65</td>\n",
              "      <td>9289</td>\n",
              "    </tr>\n",
              "    <tr>\n",
              "      <th>20</th>\n",
              "      <td>Salsa de Tomate</td>\n",
              "      <td>3.15</td>\n",
              "      <td>2485</td>\n",
              "    </tr>\n",
              "    <tr>\n",
              "      <th>21</th>\n",
              "      <td>Toallitas</td>\n",
              "      <td>23.34</td>\n",
              "      <td>8295</td>\n",
              "    </tr>\n",
              "    <tr>\n",
              "      <th>22</th>\n",
              "      <td>Uvas</td>\n",
              "      <td>16.90</td>\n",
              "      <td>8678</td>\n",
              "    </tr>\n",
              "    <tr>\n",
              "      <th>23</th>\n",
              "      <td>Vinagre</td>\n",
              "      <td>24.10</td>\n",
              "      <td>4720</td>\n",
              "    </tr>\n",
              "    <tr>\n",
              "      <th>24</th>\n",
              "      <td>Waffles</td>\n",
              "      <td>7.34</td>\n",
              "      <td>9163</td>\n",
              "    </tr>\n",
              "    <tr>\n",
              "      <th>25</th>\n",
              "      <td>Champú</td>\n",
              "      <td>2.01</td>\n",
              "      <td>3328</td>\n",
              "    </tr>\n",
              "    <tr>\n",
              "      <th>26</th>\n",
              "      <td>Yogurt</td>\n",
              "      <td>12.45</td>\n",
              "      <td>2218</td>\n",
              "    </tr>\n",
              "    <tr>\n",
              "      <th>27</th>\n",
              "      <td>Zanahorias</td>\n",
              "      <td>14.32</td>\n",
              "      <td>9334</td>\n",
              "    </tr>\n",
              "    <tr>\n",
              "      <th>28</th>\n",
              "      <td>Aceite</td>\n",
              "      <td>14.14</td>\n",
              "      <td>8716</td>\n",
              "    </tr>\n",
              "    <tr>\n",
              "      <th>29</th>\n",
              "      <td>Berenjenas</td>\n",
              "      <td>2.72</td>\n",
              "      <td>6984</td>\n",
              "    </tr>\n",
              "    <tr>\n",
              "      <th>30</th>\n",
              "      <td>Champiñones</td>\n",
              "      <td>2.36</td>\n",
              "      <td>7044</td>\n",
              "    </tr>\n",
              "    <tr>\n",
              "      <th>31</th>\n",
              "      <td>Desinfectante</td>\n",
              "      <td>15.17</td>\n",
              "      <td>7097</td>\n",
              "    </tr>\n",
              "    <tr>\n",
              "      <th>32</th>\n",
              "      <td>Enjuague bucal</td>\n",
              "      <td>10.63</td>\n",
              "      <td>1052</td>\n",
              "    </tr>\n",
              "    <tr>\n",
              "      <th>33</th>\n",
              "      <td>Fideos</td>\n",
              "      <td>17.49</td>\n",
              "      <td>9643</td>\n",
              "    </tr>\n",
              "    <tr>\n",
              "      <th>34</th>\n",
              "      <td>Guisantes</td>\n",
              "      <td>7.16</td>\n",
              "      <td>2080</td>\n",
              "    </tr>\n",
              "    <tr>\n",
              "      <th>35</th>\n",
              "      <td>Huevos</td>\n",
              "      <td>4.48</td>\n",
              "      <td>6083</td>\n",
              "    </tr>\n",
              "    <tr>\n",
              "      <th>36</th>\n",
              "      <td>Impermeabilizante</td>\n",
              "      <td>10.59</td>\n",
              "      <td>2146</td>\n",
              "    </tr>\n",
              "    <tr>\n",
              "      <th>37</th>\n",
              "      <td>Jugo de Naranja</td>\n",
              "      <td>15.45</td>\n",
              "      <td>5971</td>\n",
              "    </tr>\n",
              "    <tr>\n",
              "      <th>38</th>\n",
              "      <td>Ketchup</td>\n",
              "      <td>6.99</td>\n",
              "      <td>5779</td>\n",
              "    </tr>\n",
              "    <tr>\n",
              "      <th>39</th>\n",
              "      <td>Limpiador de pisos</td>\n",
              "      <td>10.26</td>\n",
              "      <td>5392</td>\n",
              "    </tr>\n",
              "    <tr>\n",
              "      <th>40</th>\n",
              "      <td>Mantequilla</td>\n",
              "      <td>4.70</td>\n",
              "      <td>3533</td>\n",
              "    </tr>\n",
              "    <tr>\n",
              "      <th>41</th>\n",
              "      <td>Nuez</td>\n",
              "      <td>14.63</td>\n",
              "      <td>6794</td>\n",
              "    </tr>\n",
              "    <tr>\n",
              "      <th>42</th>\n",
              "      <td>Obleas</td>\n",
              "      <td>12.30</td>\n",
              "      <td>4658</td>\n",
              "    </tr>\n",
              "    <tr>\n",
              "      <th>43</th>\n",
              "      <td>Papel higiénico</td>\n",
              "      <td>22.10</td>\n",
              "      <td>6198</td>\n",
              "    </tr>\n",
              "    <tr>\n",
              "      <th>44</th>\n",
              "      <td>Queso rallado</td>\n",
              "      <td>21.96</td>\n",
              "      <td>880</td>\n",
              "    </tr>\n",
              "    <tr>\n",
              "      <th>45</th>\n",
              "      <td>Rompope</td>\n",
              "      <td>8.57</td>\n",
              "      <td>5233</td>\n",
              "    </tr>\n",
              "    <tr>\n",
              "      <th>46</th>\n",
              "      <td>Sal</td>\n",
              "      <td>24.35</td>\n",
              "      <td>3772</td>\n",
              "    </tr>\n",
              "    <tr>\n",
              "      <th>47</th>\n",
              "      <td>Té</td>\n",
              "      <td>24.97</td>\n",
              "      <td>1333</td>\n",
              "    </tr>\n",
              "    <tr>\n",
              "      <th>48</th>\n",
              "      <td>Ungüento</td>\n",
              "      <td>10.21</td>\n",
              "      <td>9444</td>\n",
              "    </tr>\n",
              "    <tr>\n",
              "      <th>49</th>\n",
              "      <td>Vinagreta</td>\n",
              "      <td>8.92</td>\n",
              "      <td>3810</td>\n",
              "    </tr>\n",
              "    <tr>\n",
              "      <th>50</th>\n",
              "      <td>Whisky</td>\n",
              "      <td>23.62</td>\n",
              "      <td>3916</td>\n",
              "    </tr>\n",
              "    <tr>\n",
              "      <th>51</th>\n",
              "      <td>Extracto de vainilla</td>\n",
              "      <td>13.50</td>\n",
              "      <td>9972</td>\n",
              "    </tr>\n",
              "  </tbody>\n",
              "</table>\n",
              "</div>\n",
              "    <div class=\"colab-df-buttons\">\n",
              "\n",
              "  <div class=\"colab-df-container\">\n",
              "    <button class=\"colab-df-convert\" onclick=\"convertToInteractive('df-ec4627fc-01ab-45ec-b5cc-6441c0557914')\"\n",
              "            title=\"Convert this dataframe to an interactive table.\"\n",
              "            style=\"display:none;\">\n",
              "\n",
              "  <svg xmlns=\"http://www.w3.org/2000/svg\" height=\"24px\" viewBox=\"0 -960 960 960\">\n",
              "    <path d=\"M120-120v-720h720v720H120Zm60-500h600v-160H180v160Zm220 220h160v-160H400v160Zm0 220h160v-160H400v160ZM180-400h160v-160H180v160Zm440 0h160v-160H620v160ZM180-180h160v-160H180v160Zm440 0h160v-160H620v160Z\"/>\n",
              "  </svg>\n",
              "    </button>\n",
              "\n",
              "  <style>\n",
              "    .colab-df-container {\n",
              "      display:flex;\n",
              "      gap: 12px;\n",
              "    }\n",
              "\n",
              "    .colab-df-convert {\n",
              "      background-color: #E8F0FE;\n",
              "      border: none;\n",
              "      border-radius: 50%;\n",
              "      cursor: pointer;\n",
              "      display: none;\n",
              "      fill: #1967D2;\n",
              "      height: 32px;\n",
              "      padding: 0 0 0 0;\n",
              "      width: 32px;\n",
              "    }\n",
              "\n",
              "    .colab-df-convert:hover {\n",
              "      background-color: #E2EBFA;\n",
              "      box-shadow: 0px 1px 2px rgba(60, 64, 67, 0.3), 0px 1px 3px 1px rgba(60, 64, 67, 0.15);\n",
              "      fill: #174EA6;\n",
              "    }\n",
              "\n",
              "    .colab-df-buttons div {\n",
              "      margin-bottom: 4px;\n",
              "    }\n",
              "\n",
              "    [theme=dark] .colab-df-convert {\n",
              "      background-color: #3B4455;\n",
              "      fill: #D2E3FC;\n",
              "    }\n",
              "\n",
              "    [theme=dark] .colab-df-convert:hover {\n",
              "      background-color: #434B5C;\n",
              "      box-shadow: 0px 1px 3px 1px rgba(0, 0, 0, 0.15);\n",
              "      filter: drop-shadow(0px 1px 2px rgba(0, 0, 0, 0.3));\n",
              "      fill: #FFFFFF;\n",
              "    }\n",
              "  </style>\n",
              "\n",
              "    <script>\n",
              "      const buttonEl =\n",
              "        document.querySelector('#df-ec4627fc-01ab-45ec-b5cc-6441c0557914 button.colab-df-convert');\n",
              "      buttonEl.style.display =\n",
              "        google.colab.kernel.accessAllowed ? 'block' : 'none';\n",
              "\n",
              "      async function convertToInteractive(key) {\n",
              "        const element = document.querySelector('#df-ec4627fc-01ab-45ec-b5cc-6441c0557914');\n",
              "        const dataTable =\n",
              "          await google.colab.kernel.invokeFunction('convertToInteractive',\n",
              "                                                    [key], {});\n",
              "        if (!dataTable) return;\n",
              "\n",
              "        const docLinkHtml = 'Like what you see? Visit the ' +\n",
              "          '<a target=\"_blank\" href=https://colab.research.google.com/notebooks/data_table.ipynb>data table notebook</a>'\n",
              "          + ' to learn more about interactive tables.';\n",
              "        element.innerHTML = '';\n",
              "        dataTable['output_type'] = 'display_data';\n",
              "        await google.colab.output.renderOutput(dataTable, element);\n",
              "        const docLink = document.createElement('div');\n",
              "        docLink.innerHTML = docLinkHtml;\n",
              "        element.appendChild(docLink);\n",
              "      }\n",
              "    </script>\n",
              "  </div>\n",
              "\n",
              "\n",
              "<div id=\"df-924f64f4-981d-4362-8ab6-a5b4385db270\">\n",
              "  <button class=\"colab-df-quickchart\" onclick=\"quickchart('df-924f64f4-981d-4362-8ab6-a5b4385db270')\"\n",
              "            title=\"Suggest charts.\"\n",
              "            style=\"display:none;\">\n",
              "\n",
              "<svg xmlns=\"http://www.w3.org/2000/svg\" height=\"24px\"viewBox=\"0 0 24 24\"\n",
              "     width=\"24px\">\n",
              "    <g>\n",
              "        <path d=\"M19 3H5c-1.1 0-2 .9-2 2v14c0 1.1.9 2 2 2h14c1.1 0 2-.9 2-2V5c0-1.1-.9-2-2-2zM9 17H7v-7h2v7zm4 0h-2V7h2v10zm4 0h-2v-4h2v4z\"/>\n",
              "    </g>\n",
              "</svg>\n",
              "  </button>\n",
              "\n",
              "<style>\n",
              "  .colab-df-quickchart {\n",
              "      --bg-color: #E8F0FE;\n",
              "      --fill-color: #1967D2;\n",
              "      --hover-bg-color: #E2EBFA;\n",
              "      --hover-fill-color: #174EA6;\n",
              "      --disabled-fill-color: #AAA;\n",
              "      --disabled-bg-color: #DDD;\n",
              "  }\n",
              "\n",
              "  [theme=dark] .colab-df-quickchart {\n",
              "      --bg-color: #3B4455;\n",
              "      --fill-color: #D2E3FC;\n",
              "      --hover-bg-color: #434B5C;\n",
              "      --hover-fill-color: #FFFFFF;\n",
              "      --disabled-bg-color: #3B4455;\n",
              "      --disabled-fill-color: #666;\n",
              "  }\n",
              "\n",
              "  .colab-df-quickchart {\n",
              "    background-color: var(--bg-color);\n",
              "    border: none;\n",
              "    border-radius: 50%;\n",
              "    cursor: pointer;\n",
              "    display: none;\n",
              "    fill: var(--fill-color);\n",
              "    height: 32px;\n",
              "    padding: 0;\n",
              "    width: 32px;\n",
              "  }\n",
              "\n",
              "  .colab-df-quickchart:hover {\n",
              "    background-color: var(--hover-bg-color);\n",
              "    box-shadow: 0 1px 2px rgba(60, 64, 67, 0.3), 0 1px 3px 1px rgba(60, 64, 67, 0.15);\n",
              "    fill: var(--button-hover-fill-color);\n",
              "  }\n",
              "\n",
              "  .colab-df-quickchart-complete:disabled,\n",
              "  .colab-df-quickchart-complete:disabled:hover {\n",
              "    background-color: var(--disabled-bg-color);\n",
              "    fill: var(--disabled-fill-color);\n",
              "    box-shadow: none;\n",
              "  }\n",
              "\n",
              "  .colab-df-spinner {\n",
              "    border: 2px solid var(--fill-color);\n",
              "    border-color: transparent;\n",
              "    border-bottom-color: var(--fill-color);\n",
              "    animation:\n",
              "      spin 1s steps(1) infinite;\n",
              "  }\n",
              "\n",
              "  @keyframes spin {\n",
              "    0% {\n",
              "      border-color: transparent;\n",
              "      border-bottom-color: var(--fill-color);\n",
              "      border-left-color: var(--fill-color);\n",
              "    }\n",
              "    20% {\n",
              "      border-color: transparent;\n",
              "      border-left-color: var(--fill-color);\n",
              "      border-top-color: var(--fill-color);\n",
              "    }\n",
              "    30% {\n",
              "      border-color: transparent;\n",
              "      border-left-color: var(--fill-color);\n",
              "      border-top-color: var(--fill-color);\n",
              "      border-right-color: var(--fill-color);\n",
              "    }\n",
              "    40% {\n",
              "      border-color: transparent;\n",
              "      border-right-color: var(--fill-color);\n",
              "      border-top-color: var(--fill-color);\n",
              "    }\n",
              "    60% {\n",
              "      border-color: transparent;\n",
              "      border-right-color: var(--fill-color);\n",
              "    }\n",
              "    80% {\n",
              "      border-color: transparent;\n",
              "      border-right-color: var(--fill-color);\n",
              "      border-bottom-color: var(--fill-color);\n",
              "    }\n",
              "    90% {\n",
              "      border-color: transparent;\n",
              "      border-bottom-color: var(--fill-color);\n",
              "    }\n",
              "  }\n",
              "</style>\n",
              "\n",
              "  <script>\n",
              "    async function quickchart(key) {\n",
              "      const quickchartButtonEl =\n",
              "        document.querySelector('#' + key + ' button');\n",
              "      quickchartButtonEl.disabled = true;  // To prevent multiple clicks.\n",
              "      quickchartButtonEl.classList.add('colab-df-spinner');\n",
              "      try {\n",
              "        const charts = await google.colab.kernel.invokeFunction(\n",
              "            'suggestCharts', [key], {});\n",
              "      } catch (error) {\n",
              "        console.error('Error during call to suggestCharts:', error);\n",
              "      }\n",
              "      quickchartButtonEl.classList.remove('colab-df-spinner');\n",
              "      quickchartButtonEl.classList.add('colab-df-quickchart-complete');\n",
              "    }\n",
              "    (() => {\n",
              "      let quickchartButtonEl =\n",
              "        document.querySelector('#df-924f64f4-981d-4362-8ab6-a5b4385db270 button');\n",
              "      quickchartButtonEl.style.display =\n",
              "        google.colab.kernel.accessAllowed ? 'block' : 'none';\n",
              "    })();\n",
              "  </script>\n",
              "</div>\n",
              "    </div>\n",
              "  </div>\n"
            ]
          },
          "metadata": {},
          "execution_count": 43
        }
      ]
    },
    {
      "cell_type": "markdown",
      "source": [
        "# Librería numpy\n",
        "\n",
        "Ahora que ya tenemos nuestro DataFrame creado, que ya sabemos cómo se pueden crear clases, armar nuestros propios set de datos, el siguiente paso que debemos lograr es analizar los datos de manera apropiada.\n",
        "\n",
        "Para esto usaremos la librería `numpy`, que es usada para el cálculo numérico y análisis matriciales y multidimensionales.\n",
        "\n",
        "Ya vimos en la primera parte del curso que para calcular los promedios había que hacer una función for iterable, pero esto es **demasiado largo** para grandes listas de elementos.\n",
        "\n",
        "Ahora calcularemos de nuestro dataframe de productos lo siguiente:\n",
        "\n",
        "+ [Promedio de los precios](https://es.wikipedia.org/wiki/Media_(matem%C3%A1ticas))\n",
        "\n",
        "+ [Mediana de los precios](https://es.wikipedia.org/wiki/Mediana_(estad%C3%ADstica))\n",
        "\n",
        "+ [Desviación estándar de los precios](https://es.wikipedia.org/wiki/Desviaci%C3%B3n_t%C3%ADpica)"
      ],
      "metadata": {
        "id": "nI1L99f1vUpc"
      }
    },
    {
      "cell_type": "code",
      "source": [
        "import numpy as np\n",
        "\n",
        "media_precio = np.mean(df['Precio'])\n",
        "mediana_precio = np.median(df['Precio'])\n",
        "desv_estandar_precio = np.std(df['Precio'])\n",
        "\n",
        "print(f'La media del precio es {media_precio}', '\\n',\n",
        "      f'La mediana de los precios es {mediana_precio}', '\\n',\n",
        "      f'La desviación estándar del precio es {desv_estandar_precio}')\n"
      ],
      "metadata": {
        "colab": {
          "base_uri": "https://localhost:8080/"
        },
        "id": "tbAT492vvty_",
        "outputId": "080d7400-3878-400f-9f75-151b093157c1"
      },
      "execution_count": null,
      "outputs": [
        {
          "output_type": "stream",
          "name": "stdout",
          "text": [
            "La media del precio es 5888.538461538462 \n",
            " La mediana de los precios es 5559.5 \n",
            " La desviación estándar del precio es 3438.487539051584\n"
          ]
        }
      ]
    },
    {
      "cell_type": "markdown",
      "source": [
        "Mucho más sencillo, ¿no?\n",
        "\n",
        "Pero el problema pasa por la cantidad de decimales, por lo que, usted ya sabe que debe arreglar esto usando la función round. Pero ahora **NO LA USAREMOS EN EL PRINT, SINO QUE EN LA CREACIÓN DE VARIABLES**."
      ],
      "metadata": {
        "id": "_pw9uZk9x1cO"
      }
    },
    {
      "cell_type": "code",
      "source": [
        "import numpy as np\n",
        "\n",
        "media_precio = round(np.mean(df['Precio']),2)\n",
        "mediana_precio = round(np.median(df['Precio']),2)\n",
        "desv_estandar_precio = round(np.std(df['Precio']),2)\n",
        "\n",
        "print(f'La media del precio es {media_precio}','\\n',\n",
        "      f'La mediana de los precios es {mediana_precio}','\\n',\n",
        "      f'La desviación estándar del precio es {desv_estandar_precio}')\n"
      ],
      "metadata": {
        "colab": {
          "base_uri": "https://localhost:8080/"
        },
        "outputId": "d119b491-7272-428c-ae3c-fb9fb5160cda",
        "id": "wnkHnP1byHWE"
      },
      "execution_count": null,
      "outputs": [
        {
          "output_type": "stream",
          "name": "stdout",
          "text": [
            "La media del precio es 5888.54 \n",
            " La mediana de los precios es 5559.5 \n",
            " La desviación estándar del precio es 3438.49\n"
          ]
        }
      ]
    }
  ]
}