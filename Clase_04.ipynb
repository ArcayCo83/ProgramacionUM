{
  "nbformat": 4,
  "nbformat_minor": 0,
  "metadata": {
    "colab": {
      "provenance": [],
      "authorship_tag": "ABX9TyM7B7nFCCOQIyDK96NSWo9g",
      "include_colab_link": true
    },
    "kernelspec": {
      "name": "python3",
      "display_name": "Python 3"
    },
    "language_info": {
      "name": "python"
    }
  },
  "cells": [
    {
      "cell_type": "markdown",
      "metadata": {
        "id": "view-in-github",
        "colab_type": "text"
      },
      "source": [
        "<a href=\"https://colab.research.google.com/github/ArcayCo83/ProgramacionUM/blob/main/Clase_04.ipynb\" target=\"_parent\"><img src=\"https://colab.research.google.com/assets/colab-badge.svg\" alt=\"Open In Colab\"/></a>"
      ]
    },
    {
      "cell_type": "code",
      "execution_count": null,
      "metadata": {
        "colab": {
          "base_uri": "https://localhost:8080/"
        },
        "id": "yOsy9HGvF-cX",
        "outputId": "3bafdb7f-64e1-4fc3-81ee-9e539f595a9e"
      },
      "outputs": [
        {
          "output_type": "stream",
          "name": "stdout",
          "text": [
            "La segunda fruta es: plátano\n"
          ]
        }
      ],
      "source": [
        "# Ejercicio de tuplas 01\n",
        "frutas = ('manzana', 'plátano', 'naranja')\n",
        "segundafruta = frutas[1]\n",
        "print(f'La segunda fruta es:', segundafruta)"
      ]
    },
    {
      "cell_type": "code",
      "source": [
        "# Ejercicio de lista de tuplas 02\n",
        "# Recuerde que usamos [ ] para las listas y () para las tuplas y {} para los diccionarios\n",
        "\n",
        "personas = [ ('Juan', 25), ('María', 22), ('Carlos', 21), ('Ana', 22) ]\n",
        "# Este código creó una lista de tuplas\n",
        "\n",
        "# Extraer los nombres de las personas en la lista y almacenarlas en una nueva lista\n",
        "\n",
        "nombres = [ nombre[0] for nombre in personas ]\n",
        "print(f'Los nombres de las personas son:', nombres)"
      ],
      "metadata": {
        "colab": {
          "base_uri": "https://localhost:8080/"
        },
        "id": "Dyu45h65HGoc",
        "outputId": "36c35742-aae6-43ad-bad2-06ea914523e2"
      },
      "execution_count": null,
      "outputs": [
        {
          "output_type": "stream",
          "name": "stdout",
          "text": [
            "Los nombres de las personas son: ['Juan', 'María', 'Carlos', 'Ana']\n"
          ]
        }
      ]
    },
    {
      "cell_type": "code",
      "source": [
        "# Extraer las edades de esa lista\n",
        "\n",
        "edades = [ edad[1] for edad in personas ]\n",
        "print(f'Las edades de las personas son:', edades)\n",
        "\n",
        "edad_maxima = max(edades)\n",
        "edad_minima = min(edades)\n",
        "promedio_edad = sum(edades) / len(edades)\n",
        "\n",
        "print(f'La edad más grande de las personas es:', edad_maxima, '\\n',\n",
        "      'la persona con menos edad del grupo es:', edad_minima, '\\n',\n",
        "      'y el promedio de edad del grupo es:', promedio_edad)"
      ],
      "metadata": {
        "colab": {
          "base_uri": "https://localhost:8080/"
        },
        "id": "f0sKBfZEIHVE",
        "outputId": "0d6d3a07-e118-4857-9824-da8b5774536d"
      },
      "execution_count": null,
      "outputs": [
        {
          "output_type": "stream",
          "name": "stdout",
          "text": [
            "Las edades de las personas son: [25, 22, 21, 22]\n",
            "La edad más grande de las personas es: 25 \n",
            " la persona con menos edad del grupo es: 21 \n",
            " y el promedio de edad del grupo es: 22.5\n"
          ]
        }
      ]
    },
    {
      "cell_type": "code",
      "source": [
        "# Ejercicio de función de suma de los elementos de una tupla\n",
        "\n",
        "# Primero debemos definir la función\n",
        "\n",
        "def suma_tupla(tup):\n",
        "  return sum(tup)\n",
        "\n",
        "tupla_ejemplo = ( 1, 2, 3, 4, 5)\n",
        "suma_tupla(tupla_ejemplo)\n",
        "\n"
      ],
      "metadata": {
        "colab": {
          "base_uri": "https://localhost:8080/"
        },
        "id": "uVfkRnl3JtMO",
        "outputId": "241ea274-1d79-4408-91cf-4492d3d711a4"
      },
      "execution_count": null,
      "outputs": [
        {
          "output_type": "execute_result",
          "data": {
            "text/plain": [
              "15"
            ]
          },
          "metadata": {},
          "execution_count": 9
        }
      ]
    },
    {
      "cell_type": "code",
      "source": [
        "# Creación de una función para la ecuación de la recta\n",
        "\n",
        "def ecuacion_recta(x):\n",
        "  return 3*x - 5\n",
        "\n",
        "y0 = ecuacion_recta(0)\n",
        "y1 = ecuacion_recta(1)\n",
        "\n",
        "((0, y0), (1, y1))"
      ],
      "metadata": {
        "colab": {
          "base_uri": "https://localhost:8080/"
        },
        "id": "fLurSnsfKyzk",
        "outputId": "2dc6bd49-5ebc-4483-ef18-78dc17423d0f"
      },
      "execution_count": null,
      "outputs": [
        {
          "output_type": "execute_result",
          "data": {
            "text/plain": [
              "((0, -5), (1, -2))"
            ]
          },
          "metadata": {},
          "execution_count": 11
        }
      ]
    },
    {
      "cell_type": "code",
      "source": [
        "# Comparación de dos listas y mostrar elementos en común\n",
        "\n",
        "lista_A = [ 1, 2, 3, 4, 5 ]\n",
        "lista_B = [ 3, 5, 6, 7 ]\n",
        "\n",
        "elementoscomunes = [ elemento for elemento in lista_A if elemento in lista_B ]\n",
        "\n",
        "print(f'Los elementos en común son:', elementoscomunes)"
      ],
      "metadata": {
        "colab": {
          "base_uri": "https://localhost:8080/"
        },
        "id": "SPQupqtZLoBp",
        "outputId": "c5b054c0-0ea3-46f3-e398-842a7ec80b71"
      },
      "execution_count": null,
      "outputs": [
        {
          "output_type": "stream",
          "name": "stdout",
          "text": [
            "Los elementos en común son: [3, 5]\n"
          ]
        }
      ]
    },
    {
      "cell_type": "code",
      "source": [
        "# Comparación de diccionarios y mostrar las claves iguales\n",
        "\n",
        "diccionario_A = { \"a\": 1, \"b\": 2, \"c\": 3 }\n",
        "diccionario_B = { \"b\": 4, \"c\": 5, \"d\": 6 }\n",
        "\n",
        "clavescomun = [ clave for clave in diccionario_A if clave in diccionario_B ]\n",
        "\n",
        "print('Las claves en común son:', clavescomun)"
      ],
      "metadata": {
        "colab": {
          "base_uri": "https://localhost:8080/"
        },
        "id": "mmkElBt1MZKY",
        "outputId": "3f357114-e6c5-4175-e6f1-4ebb8c03ebf1"
      },
      "execution_count": null,
      "outputs": [
        {
          "output_type": "stream",
          "name": "stdout",
          "text": [
            "Las claves en común son: ['b', 'c']\n"
          ]
        }
      ]
    },
    {
      "cell_type": "code",
      "source": [
        "# Comparación de dos tuplas si tienen los mismos elementos\n",
        "\n",
        "tupla_A = (1, 2, 3, 4)\n",
        "tupla_B = (3, 4, 1, 2)\n",
        "\n",
        "tuplasiguales = set(tupla_A) == set(tupla_B)\n",
        "print('Las tuplas son iguales:', tuplasiguales)\n"
      ],
      "metadata": {
        "colab": {
          "base_uri": "https://localhost:8080/"
        },
        "id": "exB8KaEYP79Y",
        "outputId": "d4007b64-310f-4c8c-b974-fc70da40019a"
      },
      "execution_count": null,
      "outputs": [
        {
          "output_type": "stream",
          "name": "stdout",
          "text": [
            "Las tuplas son iguales: True\n"
          ]
        }
      ]
    },
    {
      "cell_type": "code",
      "source": [
        "# Comparación de elemntos iguales dentro de las tuplas\n",
        "\n",
        "tupla_C = (5, 6, 7, 8)\n",
        "tupla_D = (9, 8, 5, 10)\n",
        "\n",
        "numeroscomun = set(tupla_C).intersection(set(tupla_D))\n",
        "print(f'Los números en comun son:', numeroscomun)"
      ],
      "metadata": {
        "colab": {
          "base_uri": "https://localhost:8080/"
        },
        "id": "jYWEv8dGQchq",
        "outputId": "1fa12bea-6ee9-43d2-9034-e09a0419f354"
      },
      "execution_count": null,
      "outputs": [
        {
          "output_type": "stream",
          "name": "stdout",
          "text": [
            "Los números en comun son: {8, 5}\n"
          ]
        }
      ]
    },
    {
      "cell_type": "code",
      "source": [
        "# Alternativas a print\n",
        "# Como ya habíamos definido que las tuplas A y B eran iguales, ahora consideremos un cambio para mejor formato\n",
        "\n",
        "if tuplasiguales:\n",
        "  resultado = 'son iguales'\n",
        "else:\n",
        "  resultado = 'no son iguales'\n",
        "\n",
        "mensajesalida = f'Las tuplas {resultado}'\n",
        "\n",
        "mensajesalida\n",
        "\n",
        "# Con esto evitamos el uso de True o False y entregamos un mensaje más limpio.\n"
      ],
      "metadata": {
        "colab": {
          "base_uri": "https://localhost:8080/",
          "height": 35
        },
        "id": "PHm-Hm64RPgV",
        "outputId": "fbc2b209-628d-4550-ee51-e6107bc30cfa"
      },
      "execution_count": null,
      "outputs": [
        {
          "output_type": "execute_result",
          "data": {
            "text/plain": [
              "'Las tuplas son iguales'"
            ],
            "application/vnd.google.colaboratory.intrinsic+json": {
              "type": "string"
            }
          },
          "metadata": {},
          "execution_count": 19
        }
      ]
    },
    {
      "cell_type": "code",
      "source": [
        "# Comparemos las tuplas A y C para comprobar qué sucede.\n",
        "\n",
        "comparaciontupla = set(tupla_A) == set(tupla_C)\n",
        "\n",
        "if comparaciontupla:\n",
        "  res = 'son lo mismo'\n",
        "else:\n",
        "  res = 'no son lo mismo'\n",
        "\n",
        "mensaje = f'las tuplas {res}'\n",
        "\n",
        "mensaje"
      ],
      "metadata": {
        "colab": {
          "base_uri": "https://localhost:8080/",
          "height": 35
        },
        "id": "qg4s697NTBkz",
        "outputId": "55edd7ce-0de9-49f0-b335-8deeaeb06dcb"
      },
      "execution_count": null,
      "outputs": [
        {
          "output_type": "execute_result",
          "data": {
            "text/plain": [
              "'las tuplas no son lo mismo'"
            ],
            "application/vnd.google.colaboratory.intrinsic+json": {
              "type": "string"
            }
          },
          "metadata": {},
          "execution_count": 20
        }
      ]
    }
  ]
}