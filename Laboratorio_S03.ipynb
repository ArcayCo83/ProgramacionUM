{
  "nbformat": 4,
  "nbformat_minor": 0,
  "metadata": {
    "colab": {
      "provenance": [],
      "authorship_tag": "ABX9TyPLBrr4OuiXZKf9QTJYiYUz",
      "include_colab_link": true
    },
    "kernelspec": {
      "name": "python3",
      "display_name": "Python 3"
    },
    "language_info": {
      "name": "python"
    }
  },
  "cells": [
    {
      "cell_type": "markdown",
      "metadata": {
        "id": "view-in-github",
        "colab_type": "text"
      },
      "source": [
        "<a href=\"https://colab.research.google.com/github/ArcayCo83/ProgramacionUM/blob/main/Laboratorio_S03.ipynb\" target=\"_parent\"><img src=\"https://colab.research.google.com/assets/colab-badge.svg\" alt=\"Open In Colab\"/></a>"
      ]
    },
    {
      "cell_type": "markdown",
      "source": [
        "# Laboratorio Semana 3\n",
        "\n",
        "El día de hoy vamos a practicar ejercicios para la prueba.\n",
        "\n",
        "## Ejercicio 01\n",
        "\n",
        "Redacte en formato LaTeX el siguiente enunciado:\n",
        "\n",
        "El triple de un número que está entre 10 y 25 inclusive, sumado por la suma de los cuadrados de ese número menos cinco veces el mismo número.\n",
        "\n"
      ],
      "metadata": {
        "id": "ZIPIcgKqiCls"
      }
    },
    {
      "cell_type": "markdown",
      "source": [
        "## Respuesta 01 en LaTeX\n",
        "\n",
        "$$ 3 x + x^2 - 5 x $$"
      ],
      "metadata": {
        "id": "MWNm2ALuirWY"
      }
    },
    {
      "cell_type": "markdown",
      "source": [
        "## Ejercicio 01 Código\n",
        "\n",
        "Ahora, en base a lo definido anteriormente, cree un código en Python que permita hacer ese cálculo.\n",
        "\n",
        "Creemos la expresión en nuestra celda de código:"
      ],
      "metadata": {
        "id": "DXpJpZ6pjoQ-"
      }
    },
    {
      "cell_type": "code",
      "execution_count": 1,
      "metadata": {
        "id": "bBopRAqIiB9V"
      },
      "outputs": [],
      "source": [
        "def ejercicio01(x):\n",
        "  # Existe la restricción que el número tiene que estar en el rango [10, 25]\n",
        "  if 10 <= x <= 25:\n",
        "    # cálculo de la expresión anterior\n",
        "    resultado = 3*x + x**2 - 5*x\n",
        "    return resultado\n",
        "  else:\n",
        "    return 'El número no está entre el 10 al 25'\n",
        ""
      ]
    },
    {
      "cell_type": "markdown",
      "source": [
        "# Demuestre\n",
        "\n",
        "Calcule los resultados para su función creada *(la función ejercicio01(x))* para los siguientes números:\n",
        "  + 10\n",
        "  + 14\n",
        "  + 15\n",
        "  + 21\n",
        "  + 33\n",
        "\n",
        "Imprima los resultados de cada uno de las operaciones ejecutadas con su función *ejercicio01(x)* usando **SOLO UNA FUNCIÓN print**.\n",
        "\n"
      ],
      "metadata": {
        "id": "_-t89q9fkeFc"
      }
    },
    {
      "cell_type": "code",
      "source": [
        "# Definición de los números como variables:\n",
        "\n",
        "res01_10 = ejercicio01(10)\n",
        "res01_14 = ejercicio01(14)\n",
        "res01_15 = ejercicio01(15)\n",
        "res01_21 = ejercicio01(21)\n",
        "res01_33 = ejercicio01(33)\n",
        "print('El total calculado para el valor 10 es de:', res01_10, '\\n',\n",
        "      'El total calculado para el valor 14 es de:', res01_14, '\\n',\n",
        "      'El total calculado para el valor 15 es de:', res01_15, '\\n',\n",
        "      'El total calculado para el valor 21 es de:', res01_21, '\\n',\n",
        "      'El total calculado para el valor 33 es de:', res01_33\n",
        "      )"
      ],
      "metadata": {
        "colab": {
          "base_uri": "https://localhost:8080/"
        },
        "id": "567uZxhhk5zG",
        "outputId": "1df9bdc4-bdcd-42ee-ecd9-205b32c376ee"
      },
      "execution_count": 3,
      "outputs": [
        {
          "output_type": "stream",
          "name": "stdout",
          "text": [
            "El total calculado para el valor 10 es de: 80 \n",
            " El total calculado para el valor 14 es de: 168 \n",
            " El total calculado para el valor 15 es de: 195 \n",
            " El total calculado para el valor 21 es de: 399 \n",
            " El total calculado para el valor 33 es de: El número no está entre el 10 al 25\n"
          ]
        }
      ]
    },
    {
      "cell_type": "markdown",
      "source": [
        "# Ejercicio 02\n",
        "\n",
        "Para el siguiente enunciado, cree la definición en LaTeX y luego haga la fórmula respectiva para el caso:\n",
        "\n",
        "La suma de los números que están entre [-2,5] más la suma de los cuadrados de esos números menos tres."
      ],
      "metadata": {
        "id": "2AePJKtRl1E9"
      }
    },
    {
      "cell_type": "markdown",
      "source": [
        "## Respuesta 02 en LaTeX\n",
        "\n",
        "$$ \\sum_{i = -2}^5 i + i^2 - 3$$"
      ],
      "metadata": {
        "id": "mr1yejU7mLqO"
      }
    },
    {
      "cell_type": "markdown",
      "source": [
        "## Respuesta 02 en código\n",
        "\n",
        "Para crear el código del enunciado, este nos dice que debemos **RECORRER** los números desde el -2 hasta el 5.\n",
        "\n",
        "Como hay que **RECORRER** números, se debe usar el bucle **for**.\n",
        "\n",
        "Recuerda que siempre que vayas a usar una **SUMATORIA** debes **INICIALIZAR LA SUMA EN 0**.\n"
      ],
      "metadata": {
        "id": "BJOZ5CqdmqVr"
      }
    },
    {
      "cell_type": "code",
      "source": [
        "# Iniciar la suma en 0\n",
        "\n",
        "suma = 0\n",
        "\n",
        "# Recorrer desde el -2 hasta el 5\n",
        "\n",
        "for i in range(-2, 6):\n",
        "  # Debe ir el -6 porque de lo contrario NO INCLUIRÁ EL LÍMITE SUPERIOR\n",
        "  suma = suma + (i + i**2 - 3)\n",
        "  print('Aquí vemos el paso a paso de la suma', suma)\n",
        "\n",
        "print('El resultado de la operación es', suma)\n",
        ""
      ],
      "metadata": {
        "colab": {
          "base_uri": "https://localhost:8080/"
        },
        "id": "vGWuqSJemKb-",
        "outputId": "744cf7fb-87b7-4eaf-a5bb-3b4ef152819a"
      },
      "execution_count": 4,
      "outputs": [
        {
          "output_type": "stream",
          "name": "stdout",
          "text": [
            "Aquí vemos el paso a paso de la suma -1\n",
            "Aquí vemos el paso a paso de la suma -4\n",
            "Aquí vemos el paso a paso de la suma -7\n",
            "Aquí vemos el paso a paso de la suma -8\n",
            "Aquí vemos el paso a paso de la suma -5\n",
            "Aquí vemos el paso a paso de la suma 4\n",
            "Aquí vemos el paso a paso de la suma 21\n",
            "Aquí vemos el paso a paso de la suma 48\n",
            "El resultado de la operación es 48\n"
          ]
        }
      ]
    },
    {
      "cell_type": "markdown",
      "source": [
        "# Opción 2\n",
        "\n",
        "Para la asignación de código, si te das cuenta, en la línea del **for** usamos:\n",
        "\n",
        "suma = **suma** + (i + i**2 - 3)\n",
        "\n",
        "Pero esto puede resumirse de la siguiente manera:\n",
        "\n",
        "suma **+=** (i + i**2 - 3)\n",
        "\n",
        "¿Qué significa el operador **+=**?\n",
        "\n",
        "Cuando usamos este operador, le damos la chance al código de **AHORRARSE ESPACIO Y POR ENDE BITS DE INFORMACIÓN** Haciendo más eficiente el cálculo y por ello más rápido, **ESTO ES PRIMORDIALMENTE ÚTIL CUANDO SE TRABAJA CON GRANDES SET DE DATOS**.\n",
        "\n",
        "Pongámoslo a prueba:"
      ],
      "metadata": {
        "id": "ZySEIZwmn7tj"
      }
    },
    {
      "cell_type": "code",
      "source": [
        "suma_opcion2 = 0\n",
        "\n",
        "for i in range(-2, 6):\n",
        "  suma_opcion2 += i + i**2 - 3\n",
        "  print('Aquí vemos el paso a paso de la suma opción 2:', suma_opcion2)\n",
        "\n",
        "print('La suma de los números es', suma_opcion2)"
      ],
      "metadata": {
        "colab": {
          "base_uri": "https://localhost:8080/"
        },
        "id": "md8rFT0Kn6pE",
        "outputId": "19aa9d50-1515-4f15-8aac-3131e4d35442"
      },
      "execution_count": 5,
      "outputs": [
        {
          "output_type": "stream",
          "name": "stdout",
          "text": [
            "Aquí vemos el paso a paso de la suma opción 2: -1\n",
            "Aquí vemos el paso a paso de la suma opción 2: -4\n",
            "Aquí vemos el paso a paso de la suma opción 2: -7\n",
            "Aquí vemos el paso a paso de la suma opción 2: -8\n",
            "Aquí vemos el paso a paso de la suma opción 2: -5\n",
            "Aquí vemos el paso a paso de la suma opción 2: 4\n",
            "Aquí vemos el paso a paso de la suma opción 2: 21\n",
            "Aquí vemos el paso a paso de la suma opción 2: 48\n",
            "La suma de los números es 48\n"
          ]
        }
      ]
    },
    {
      "cell_type": "markdown",
      "source": [
        "# Ejercicio 03\n",
        "\n",
        "Construcción de una lista a través de un rango, usando un iterador.\n",
        "\n",
        "Construya una lista que incluya los números del 1 al 99, pero a través de un iterador.\n",
        "\n",
        "Recuerde que en la otra nomenclatura, usted puede crear una lista usando esto:\n",
        "\n",
        "lista_antes = list(range(1, 99+1, 1)\n",
        "\n",
        "De este modo usted crearía una lista con los números del 1 al 99 de uno en uno.\n",
        "\n",
        "Pero ahora se le ha pedido construirla usando un iterador.\n",
        "\n"
      ],
      "metadata": {
        "id": "-gO1i_TlpcjN"
      }
    },
    {
      "cell_type": "code",
      "source": [
        "# Cree una lista vacía (del mismo modo que el de las sumatorias, acá vamos SUMANDO elementos a la lista)\n",
        "\n",
        "lista_ahora = [] # La lista no tiene nada\n",
        "\n",
        "# Defina el rango\n",
        "\n",
        "rango = range(1,99+1)\n",
        "\n",
        "for numero in rango:\n",
        "  lista_ahora.append(numero)\n",
        "\n"
      ],
      "metadata": {
        "id": "NZg52jmZp9cg"
      },
      "execution_count": 7,
      "outputs": []
    },
    {
      "cell_type": "markdown",
      "source": [
        "# Ahora viene lo chido\n",
        "\n",
        "Ahora que ya construiste el iterador, vamos a darle operaciones iterables a nuestro rango, para ello deberás construir dentro de la misma función las siguientes funciones:\n",
        "\n",
        "  + La suma de los cuadrados del 1 hasta el 15\n",
        "  + La suma de los cubos del 20 al 30\n",
        "  + La suma de todos los cubos del 50 al 60 menos los cuadrados del 30 al 50 más el doble de la suma de los números del 90 al final"
      ],
      "metadata": {
        "id": "_zxltsd7rG2f"
      }
    },
    {
      "cell_type": "markdown",
      "source": [
        "# Primero a LaTeX\n",
        "\n",
        "## Suma de los cuadrados del 1 al 15\n",
        "\n",
        "$$ \\sum_{i = 1}^{15} i^2 $$\n",
        "\n",
        "## Suma de los cubos del 20 al 30\n",
        "\n",
        "$$ \\sum_{i = 20}^{30} i^3 $$\n",
        "\n",
        "## Suma final\n",
        "\n",
        " $$ \\sum_{i = 50}^{60} i^3 - \\sum_{i = 30}^{50} i^2 + \\sum_{i = 90}^{99} 2i$$"
      ],
      "metadata": {
        "id": "tnTPEVZauGVc"
      }
    },
    {
      "cell_type": "code",
      "source": [
        "# Luego de llenar la lista tenemos que crear un gran iterador, pero además nos piden hacer sumas:\n",
        "# Recuerda que las sumas deben siempre partir en 0\n",
        "\n",
        "rango_chido = range(1, 99+1) # Rango del 1 al 99\n",
        "lista_chido = []\n",
        "suma_cuadrados = 0 # debe partir en 0\n",
        "suma_cubos_20al30 = 0 # debe partir en 0\n",
        "suma_final = 0 # la suma compuesta más difícil\n",
        "\n",
        "for i in rango_chido:\n",
        "  lista_chido.append(i)\n",
        "\n",
        "  # Sumar los cuadrados del 1 al 15\n",
        "  if 1 <= i <= 15:\n",
        "    suma_cuadrados += i**2 # Para esto servía el += que vimos antes\n",
        "\n",
        "  # Sumar los cubos del 20 al 30\n",
        "  if 20 <= i <= 30:\n",
        "    suma_cubos_20al30 += i**3  # Recuerde que se usan ** para elevar a cualquier número\n",
        "\n",
        "  # Suma final de diferentes rangos\n",
        "  if 50 <= i <= 60:\n",
        "    suma_final += i**3\n",
        "\n",
        "  elif 30 <= i <= 50:\n",
        "    suma_final -= i**2\n",
        "\n",
        "  elif i >= 90:\n",
        "    suma_final += 2* i\n",
        "\n",
        "print('La suma de los cuadrados del 1 al 15 es:', suma_cuadrados, '\\n',\n",
        "      'La suma de los cubos del 20 al 30 es:', suma_cubos_20al30, '\\n',\n",
        "      'La suma compuesta final es:', suma_final)\n",
        "\n"
      ],
      "metadata": {
        "colab": {
          "base_uri": "https://localhost:8080/"
        },
        "id": "3WNiDvmIr0xt",
        "outputId": "4853310a-bd4c-4acf-b891-d2cba1b7f1b7"
      },
      "execution_count": 9,
      "outputs": [
        {
          "output_type": "stream",
          "name": "stdout",
          "text": [
            "La suma de los cuadrados del 1 al 15 es: 1240 \n",
            " La suma de los cubos del 20 al 30 es: 180125 \n",
            " La suma compuesta final es: 1818295\n"
          ]
        }
      ]
    }
  ]
}