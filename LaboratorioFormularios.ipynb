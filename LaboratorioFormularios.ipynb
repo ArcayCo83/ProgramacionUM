{
 "cells": [
  {
   "cell_type": "code",
   "execution_count": 1,
   "id": "6343cdee-4b8c-4b7c-b6ff-9341a7c0a30d",
   "metadata": {},
   "outputs": [],
   "source": [
    "import ipywidgets as widgets\n",
    "from IPython.display import display, clear_output"
   ]
  },
  {
   "cell_type": "code",
   "execution_count": null,
   "id": "4c3448dc-a9bc-4080-ae88-034ded9a67a1",
   "metadata": {},
   "outputs": [],
   "source": [
    "# Creación de los Widgets\n",
    "\n",
    "nombre = widgets.Text(\n",
    "    value = '',\n",
    "    placeholder = 'Ingrese su nombre',\n",
    "    description = 'Nombre',\n",
    "    disabled = False\n",
    ")"
   ]
  },
  {
   "cell_type": "code",
   "execution_count": null,
   "id": "50e00b1b-76c0-449a-9401-04d96b72ace0",
   "metadata": {},
   "outputs": [],
   "source": [
    "nombre"
   ]
  },
  {
   "cell_type": "markdown",
   "id": "1d120888-35fb-4163-bcc8-ac02d66d1c07",
   "metadata": {},
   "source": [
    "Con esto hemos creado nuestro primer widget de un formulario, \n",
    "pero **aún no hemos hecho que haga nada** Es solo una interfaz gráfica, \n",
    "pero que no tiene nada para enviar, guardar o almacenar."
   ]
  },
  {
   "cell_type": "code",
   "execution_count": 2,
   "id": "6f946ac9-6eb8-4573-b7dd-0eb6d383afb1",
   "metadata": {},
   "outputs": [
    {
     "data": {
      "application/vnd.jupyter.widget-view+json": {
       "model_id": "17a4281d979640a8941bc3490a56ab28",
       "version_major": 2,
       "version_minor": 0
      },
      "text/plain": [
       "Text(value='', description='Nombre', placeholder='Ingrese su nombre')"
      ]
     },
     "metadata": {},
     "output_type": "display_data"
    },
    {
     "data": {
      "application/vnd.jupyter.widget-view+json": {
       "model_id": "ff598fc70a2e4ee395f4a7b388e6aaee",
       "version_major": 2,
       "version_minor": 0
      },
      "text/plain": [
       "Text(value='', description='Apellido', placeholder='Ingrese su apellido')"
      ]
     },
     "metadata": {},
     "output_type": "display_data"
    },
    {
     "data": {
      "application/vnd.jupyter.widget-view+json": {
       "model_id": "59d4c5be21f64833abd244f2e649cfe0",
       "version_major": 2,
       "version_minor": 0
      },
      "text/plain": [
       "DatePicker(value=None, description='Fecha de nacimiento')"
      ]
     },
     "metadata": {},
     "output_type": "display_data"
    },
    {
     "data": {
      "application/vnd.jupyter.widget-view+json": {
       "model_id": "19b6a8fff80d426d8b1da5079529965f",
       "version_major": 2,
       "version_minor": 0
      },
      "text/plain": [
       "RadioButtons(description='Género', options=('Masculino', 'Femenino', 'Otro'), value='Masculino')"
      ]
     },
     "metadata": {},
     "output_type": "display_data"
    },
    {
     "data": {
      "application/vnd.jupyter.widget-view+json": {
       "model_id": "83a7dfba3a05429d9688ed1823d8a828",
       "version_major": 2,
       "version_minor": 0
      },
      "text/plain": [
       "Button(description='Enviar datos', style=ButtonStyle())"
      ]
     },
     "metadata": {},
     "output_type": "display_data"
    }
   ],
   "source": [
    "nombre = widgets.Text(\n",
    "    value = '',\n",
    "    placeholder = 'Ingrese su nombre',\n",
    "    description = 'Nombre',\n",
    "    disabled = False\n",
    ")\n",
    "\n",
    "apellido = widgets.Text(\n",
    "    value = '',\n",
    "    placeholder = 'Ingrese su apellido',\n",
    "    description = 'Apellido',\n",
    "    disabled = False\n",
    ")\n",
    "\n",
    "fecha_nacimiento = widgets.DatePicker(\n",
    "    description = 'Fecha de nacimiento',\n",
    "    disabled = False\n",
    ")\n",
    "\n",
    "genero = widgets.RadioButtons(\n",
    "    options = ['Masculino', 'Femenino', 'Otro'],\n",
    "    description = 'Género',\n",
    "    disabled = False\n",
    ")\n",
    "\n",
    "boton_enviar = widgets.Button(description = 'Enviar datos')\n",
    "\n",
    "display(nombre, apellido, fecha_nacimiento, genero, boton_enviar)"
   ]
  },
  {
   "cell_type": "markdown",
   "id": "b7e635d3-810e-4ff5-a5fd-c478bcaa5b05",
   "metadata": {},
   "source": [
    "# Problema\n",
    "\n",
    "Pero el problema que enfrentamos es que al presionar 'Enviar datos', la información se queda allí, no hace absolutamente nada, no se limpia el formulario, no se sabe para dónde va a parar la info, en fin, es todo un problema...\n",
    "\n",
    "Vamos a depurar el código"
   ]
  },
  {
   "cell_type": "code",
   "execution_count": 3,
   "id": "579a9923-826e-4d92-a5ca-625244bce65c",
   "metadata": {},
   "outputs": [
    {
     "data": {
      "application/vnd.jupyter.widget-view+json": {
       "model_id": "556dbdee80c34bee9660900283985f58",
       "version_major": 2,
       "version_minor": 0
      },
      "text/plain": [
       "VBox(children=(Text(value='', description='Nombre', placeholder='Ingrese su nombre'), Text(value='', descripti…"
      ]
     },
     "metadata": {},
     "output_type": "display_data"
    }
   ],
   "source": [
    "nombre = widgets.Text(\n",
    "    value = '',\n",
    "    placeholder = 'Ingrese su nombre',\n",
    "    description = 'Nombre',\n",
    "    disabled = False\n",
    ")\n",
    "\n",
    "apellido = widgets.Text(\n",
    "    value = '',\n",
    "    placeholder = 'Ingrese su apellido',\n",
    "    description = 'Apellido',\n",
    "    disabled = False\n",
    ")\n",
    "\n",
    "fecha_nacimiento = widgets.DatePicker(\n",
    "    description = 'Fecha de nacimiento',\n",
    "    disabled = False\n",
    ")\n",
    "\n",
    "genero = widgets.RadioButtons(\n",
    "    options = ['Masculino', 'Femenino', 'Otro'],\n",
    "    description = 'Género',\n",
    "    disabled = False\n",
    ")\n",
    "\n",
    "boton_enviar = widgets.Button(description = 'Enviar datos')\n",
    "out = widgets.Output()\n",
    "\n",
    "def on_button_click(b):\n",
    "    with out:\n",
    "        out.clear_output()\n",
    "        \n",
    "        print(f'Nombre: {nombre.value}')\n",
    "        print(f'Apellido: {apellido.value}')\n",
    "        print(f'Fecha de nacimiento: {fecha_nacimiento.value}')\n",
    "        print(f'Género: {genero.value}')\n",
    "\n",
    "boton_enviar.on_click(on_button_click)\n",
    "\n",
    "form = widgets.VBox([nombre, apellido, fecha_nacimiento, genero, boton_enviar, out])\n",
    "display(form)"
   ]
  },
  {
   "cell_type": "markdown",
   "id": "a94640e0-7204-425a-8f0e-e9759efc1a81",
   "metadata": {},
   "source": [
    "¡Otro problema!\n",
    "\n",
    "El formulario ahora nos muestra los datos, pero no se resetea a un espacio en blanco, esto no es práctico ni eficiente para los trabajos.\n",
    "\n",
    "Vamos a arreglarlo..."
   ]
  },
  {
   "cell_type": "code",
   "execution_count": 4,
   "id": "33be6ea9-3d76-4e99-be0f-5dc693ccb20b",
   "metadata": {},
   "outputs": [
    {
     "data": {
      "application/vnd.jupyter.widget-view+json": {
       "model_id": "eb974890821842469f079c092dd46fb1",
       "version_major": 2,
       "version_minor": 0
      },
      "text/plain": [
       "VBox(children=(Text(value='', description='Nombre', placeholder='Ingrese su nombre'), Text(value='', descripti…"
      ]
     },
     "metadata": {},
     "output_type": "display_data"
    }
   ],
   "source": [
    "nombre = widgets.Text(\n",
    "    value = '',\n",
    "    placeholder = 'Ingrese su nombre',\n",
    "    description = 'Nombre',\n",
    "    disabled = False\n",
    ")\n",
    "\n",
    "apellido = widgets.Text(\n",
    "    value = '',\n",
    "    placeholder = 'Ingrese su apellido',\n",
    "    description = 'Apellido',\n",
    "    disabled = False\n",
    ")\n",
    "\n",
    "fecha_nacimiento = widgets.DatePicker(\n",
    "    description = 'Fecha de nacimiento',\n",
    "    disabled = False\n",
    ")\n",
    "\n",
    "genero = widgets.RadioButtons(\n",
    "    options = ['Masculino', 'Femenino', 'Otro'],\n",
    "    description = 'Género',\n",
    "    disabled = False\n",
    ")\n",
    "\n",
    "boton_enviar = widgets.Button(description = 'Enviar datos')\n",
    "out = widgets.Output()\n",
    "\n",
    "def on_button_click(b):\n",
    "    with out:\n",
    "        out.clear_output()\n",
    "        \n",
    "        print(f'Nombre: {nombre.value}')\n",
    "        print(f'Apellido: {apellido.value}')\n",
    "        print(f'Fecha de nacimiento: {fecha_nacimiento.value}')\n",
    "        print(f'Género: {genero.value}')\n",
    "        \n",
    "        #Limpiar el formulario\n",
    "        nombre.value = ''\n",
    "        apellido.value = ''\n",
    "        fecha_nacimiento.value = None\n",
    "        genero.value = 'Masculino'\n",
    "\n",
    "boton_enviar.on_click(on_button_click)\n",
    "\n",
    "form = widgets.VBox([nombre, apellido, fecha_nacimiento, genero, boton_enviar, out])\n",
    "display(form)"
   ]
  },
  {
   "cell_type": "markdown",
   "id": "f19015a5-cb75-4fb4-9b0b-241127a462b0",
   "metadata": {},
   "source": [
    "# ¿Y cómo guardamos ahora?\n",
    "\n",
    "El problema es que ahora deseamos guardar la información en un dataframe que pueda ir almacenando las respuestas que vamos recibiendo de las personas"
   ]
  },
  {
   "cell_type": "code",
   "execution_count": 5,
   "id": "85918960-2d0e-48e4-bfff-fac9cd034605",
   "metadata": {},
   "outputs": [
    {
     "data": {
      "application/vnd.jupyter.widget-view+json": {
       "model_id": "6a2bdf4a36a2423eab158336313441a4",
       "version_major": 2,
       "version_minor": 0
      },
      "text/plain": [
       "VBox(children=(Text(value='', description='Nombre', placeholder='Ingrese su nombre'), Text(value='', descripti…"
      ]
     },
     "metadata": {},
     "output_type": "display_data"
    }
   ],
   "source": [
    "import pandas as pd\n",
    "\n",
    "df = pd.DataFrame(columns = ['Nombre', 'Apellido',\n",
    "                             'Fecha de nacimiento', 'Género'])\n",
    "\n",
    "nombre = widgets.Text(\n",
    "    value = '',\n",
    "    placeholder = 'Ingrese su nombre',\n",
    "    description = 'Nombre',\n",
    "    disabled = False\n",
    ")\n",
    "\n",
    "apellido = widgets.Text(\n",
    "    value = '',\n",
    "    placeholder = 'Ingrese su apellido',\n",
    "    description = 'Apellido',\n",
    "    disabled = False\n",
    ")\n",
    "\n",
    "fecha_nacimiento = widgets.DatePicker(\n",
    "    description = 'Fecha de nacimiento',\n",
    "    disabled = False\n",
    ")\n",
    "\n",
    "genero = widgets.RadioButtons(\n",
    "    options = ['Masculino', 'Femenino', 'Otro'],\n",
    "    description = 'Género',\n",
    "    disabled = False\n",
    ")\n",
    "\n",
    "boton_enviar = widgets.Button(description = 'Enviar datos')\n",
    "out = widgets.Output()\n",
    "\n",
    "def on_button_click(b):\n",
    "    global df\n",
    "    \n",
    "    #Añadir al df\n",
    "    \n",
    "    df = df.append({'Nombre': nombre.value,\n",
    "                    'Apellido':  apellido.value,\n",
    "                    'Fecha de nacimiento': fecha_nacimiento.value,\n",
    "                    'Género': genero.value}, ignore_index = True)\n",
    "    \n",
    "    with out:\n",
    "        \n",
    "        out.clear_output()\n",
    "        \n",
    "        print(f'Nombre: {nombre.value}')\n",
    "        print(f'Apellido: {apellido.value}')\n",
    "        print(f'Fecha de nacimiento: {fecha_nacimiento.value}')\n",
    "        print(f'Género: {genero.value}')\n",
    "        \n",
    "        #Limpiar el formulario\n",
    "        nombre.value = ''\n",
    "        apellido.value = ''\n",
    "        fecha_nacimiento.value = None\n",
    "        genero.value = 'Masculino'\n",
    "\n",
    "boton_enviar.on_click(on_button_click)\n",
    "\n",
    "form = widgets.VBox([nombre, apellido, fecha_nacimiento, genero, boton_enviar, out])\n",
    "display(form)"
   ]
  },
  {
   "cell_type": "code",
   "execution_count": 6,
   "id": "509f6db2-6cef-415c-a561-9cfcb143de24",
   "metadata": {},
   "outputs": [
    {
     "data": {
      "text/html": [
       "<div>\n",
       "<style scoped>\n",
       "    .dataframe tbody tr th:only-of-type {\n",
       "        vertical-align: middle;\n",
       "    }\n",
       "\n",
       "    .dataframe tbody tr th {\n",
       "        vertical-align: top;\n",
       "    }\n",
       "\n",
       "    .dataframe thead th {\n",
       "        text-align: right;\n",
       "    }\n",
       "</style>\n",
       "<table border=\"1\" class=\"dataframe\">\n",
       "  <thead>\n",
       "    <tr style=\"text-align: right;\">\n",
       "      <th></th>\n",
       "      <th>Nombre</th>\n",
       "      <th>Apellido</th>\n",
       "      <th>Fecha de nacimiento</th>\n",
       "      <th>Género</th>\n",
       "    </tr>\n",
       "  </thead>\n",
       "  <tbody>\n",
       "  </tbody>\n",
       "</table>\n",
       "</div>"
      ],
      "text/plain": [
       "Empty DataFrame\n",
       "Columns: [Nombre, Apellido, Fecha de nacimiento, Género]\n",
       "Index: []"
      ]
     },
     "metadata": {},
     "output_type": "display_data"
    }
   ],
   "source": [
    "display(df)"
   ]
  },
  {
   "cell_type": "markdown",
   "id": "913c40c8-daa2-4ba3-9fbd-91175dd02c62",
   "metadata": {},
   "source": [
    "¿Y qué edad tienen cada uno?\n",
    "\n",
    "¿Podemos calcularla automáticamente?"
   ]
  },
  {
   "cell_type": "code",
   "execution_count": 7,
   "id": "a7c8a256-45de-4eb9-a5a0-5345ee79590a",
   "metadata": {
    "tags": []
   },
   "outputs": [
    {
     "data": {
      "application/vnd.jupyter.widget-view+json": {
       "model_id": "76efbadc152149728c45c82dbdbd9325",
       "version_major": 2,
       "version_minor": 0
      },
      "text/plain": [
       "VBox(children=(Text(value='', description='Nombre:', placeholder='Ingrese su nombre'), Text(value='', descript…"
      ]
     },
     "metadata": {},
     "output_type": "display_data"
    }
   ],
   "source": [
    "from datetime import date\n",
    "\n",
    "df = pd.DataFrame(columns=['Nombre', 'Apellido', \n",
    "                           'Fecha de Nacimiento', 'Género', 'Edad'])\n",
    "\n",
    "\n",
    "nombre = widgets.Text(\n",
    "    value='',\n",
    "    placeholder='Ingrese su nombre',\n",
    "    description='Nombre:',\n",
    "    disabled=False\n",
    ")\n",
    "\n",
    "apellido = widgets.Text(\n",
    "    value='',\n",
    "    placeholder='Ingrese su apellido',\n",
    "    description='Apellido:',\n",
    "    disabled=False\n",
    ")\n",
    "\n",
    "fecha_nacimiento = widgets.DatePicker(\n",
    "    description='Fecha de nacimiento:',\n",
    "    disabled=False\n",
    ")\n",
    "\n",
    "genero = widgets.RadioButtons(\n",
    "    options=['Masculino', 'Femenino', 'Otro'],\n",
    "    description='Género:',\n",
    "    disabled=False\n",
    ")\n",
    "\n",
    "boton_enviar = widgets.Button(description=\"Enviar\")\n",
    "out = widgets.Output()\n",
    "\n",
    "def calcular_edad(fecha_nac):\n",
    "    # Calcular la diferencia entre la fecha actual y la fecha de nacimiento\n",
    "    delta = date.today() - fecha_nac\n",
    "    edad = delta.days // 365\n",
    "    return edad\n",
    "\n",
    "def on_button_click(b):\n",
    "    global df\n",
    "    \n",
    "    edad = calcular_edad(fecha_nacimiento.value)\n",
    "    \n",
    "    # Añadir la información al DataFrame\n",
    "    df = df.append({'Nombre': nombre.value,\n",
    "                    'Apellido': apellido.value,\n",
    "                    'Fecha de Nacimiento': fecha_nacimiento.value,\n",
    "                    'Género': genero.value,\n",
    "                    'Edad': edad}, ignore_index=True)\n",
    "    \n",
    "    with out:\n",
    "        # Limpiar el output anterior\n",
    "        out.clear_output()\n",
    "        \n",
    "        # Mostrar la información ingresada y el DataFrame actualizado\n",
    "        print(f\"Nombre: {nombre.value}\")\n",
    "        print(f\"Apellido: {apellido.value}\")\n",
    "        print(f\"Fecha de Nacimiento: {fecha_nacimiento.value}\")\n",
    "        print(f\"Género: {genero.value}\")\n",
    "        print(f\"Edad: {edad} años\")\n",
    "        print(\"\\nDataFrame Actualizado:\")\n",
    "        display(df)\n",
    "        \n",
    "        # Limpiar el formulario\n",
    "        nombre.value = ''\n",
    "        apellido.value = ''\n",
    "        fecha_nacimiento.value = None\n",
    "        genero.value = 'Masculino'\n",
    "\n",
    "boton_enviar.on_click(on_button_click)\n",
    "\n",
    "form = widgets.VBox([nombre, apellido, fecha_nacimiento, genero, boton_enviar, out])\n",
    "display(form)\n"
   ]
  },
  {
   "cell_type": "code",
   "execution_count": 8,
   "id": "a7175819-0e0a-4d31-a3d0-82ac168d2f1c",
   "metadata": {},
   "outputs": [
    {
     "data": {
      "text/html": [
       "<div>\n",
       "<style scoped>\n",
       "    .dataframe tbody tr th:only-of-type {\n",
       "        vertical-align: middle;\n",
       "    }\n",
       "\n",
       "    .dataframe tbody tr th {\n",
       "        vertical-align: top;\n",
       "    }\n",
       "\n",
       "    .dataframe thead th {\n",
       "        text-align: right;\n",
       "    }\n",
       "</style>\n",
       "<table border=\"1\" class=\"dataframe\">\n",
       "  <thead>\n",
       "    <tr style=\"text-align: right;\">\n",
       "      <th></th>\n",
       "      <th>Nombre</th>\n",
       "      <th>Apellido</th>\n",
       "      <th>Fecha de Nacimiento</th>\n",
       "      <th>Género</th>\n",
       "      <th>Edad</th>\n",
       "    </tr>\n",
       "  </thead>\n",
       "  <tbody>\n",
       "  </tbody>\n",
       "</table>\n",
       "</div>"
      ],
      "text/plain": [
       "Empty DataFrame\n",
       "Columns: [Nombre, Apellido, Fecha de Nacimiento, Género, Edad]\n",
       "Index: []"
      ]
     },
     "metadata": {},
     "output_type": "display_data"
    }
   ],
   "source": [
    "display(df)"
   ]
  },
  {
   "cell_type": "code",
   "execution_count": 10,
   "id": "3a31eb0a-1042-43d9-a263-fdb97603682b",
   "metadata": {},
   "outputs": [],
   "source": [
    "from tkinter import ttk, messagebox"
   ]
  },
  {
   "cell_type": "code",
   "execution_count": 17,
   "id": "6109abba-9122-4de7-95b5-c0212b5baae6",
   "metadata": {},
   "outputs": [],
   "source": [
    "import tkinter as tk\n",
    "\n",
    "# Función para calcular la edad\n",
    "def calcular_edad(fecha_nac):\n",
    "    delta = date.today() - fecha_nac\n",
    "    edad = delta.days // 365\n",
    "    return edad\n",
    "\n",
    "# Función cuando se presiona el botón \"Enviar\"\n",
    "def on_button_click():\n",
    "    global df\n",
    "    \n",
    "    try:\n",
    "        fecha_nac = date(int(fecha_nacimiento_year.get()), int(fecha_nacimiento_month.get()), int(fecha_nacimiento_day.get()))\n",
    "        edad = calcular_edad(fecha_nac)\n",
    "        \n",
    "        df = df.append({\n",
    "            'Nombre': nombre.get(),\n",
    "            'Apellido': apellido.get(),\n",
    "            'Fecha de Nacimiento': fecha_nac,\n",
    "            'Género': genero_var.get(),\n",
    "            'Edad': edad\n",
    "        }, ignore_index=True)\n",
    "        \n",
    "        messagebox.showinfo(\"Información\", f\"Información agregada con éxito!\\n\\nNombre: {nombre.get()}\\nApellido: {apellido.get()}\\nFecha de Nacimiento: {fecha_nac}\\nGénero: {genero_var.get()}\\nEdad: {edad} años\")\n",
    "        \n",
    "        # Limpiar los campos\n",
    "        nombre.delete(0, tk.END)\n",
    "        apellido.delete(0, tk.END)\n",
    "        fecha_nacimiento_day.set(1)\n",
    "        fecha_nacimiento_month.set(1)\n",
    "        fecha_nacimiento_year.set(2000)\n",
    "        genero_var.set(\"Masculino\")\n",
    "    except Exception as e:\n",
    "        messagebox.showerror(\"Error\", f\"Error al agregar la información: {e}\")\n",
    "\n",
    "# Crear una ventana principal\n",
    "window = tk.Tk()\n",
    "window.title(\"Formulario de Información\")\n",
    "\n",
    "# Variables para guardar la información del formulario\n",
    "nombre = ttk.Entry(window, width=30)\n",
    "apellido = ttk.Entry(window, width=30)\n",
    "fecha_nacimiento_day = tk.IntVar(value=1)\n",
    "fecha_nacimiento_month = tk.IntVar(value=1)\n",
    "fecha_nacimiento_year = tk.IntVar(value=2000)\n",
    "genero_var = tk.StringVar(value=\"Masculino\")\n",
    "\n",
    "# Elementos de la interfaz\n",
    "ttk.Label(window, text=\"Nombre:\").grid(row=0, column=0, padx=10, pady=5)\n",
    "nombre.grid(row=0, column=1, padx=10, pady=5)\n",
    "\n",
    "ttk.Label(window, text=\"Apellido:\").grid(row=1, column=0, padx=10, pady=5)\n",
    "apellido.grid(row=1, column=1, padx=10, pady=5)\n",
    "\n",
    "ttk.Label(window, text=\"Fecha de Nacimiento:\").grid(row=2, column=0, padx=10, pady=5)\n",
    "ttk.Spinbox(window, from_=1, to=31, textvariable=fecha_nacimiento_day, width=5).grid(row=2, column=1, padx=(10, 0), pady=5, sticky='w')\n",
    "ttk.Spinbox(window, from_=1, to=12, textvariable=fecha_nacimiento_month, width=5).grid(row=2, column=1, padx=(70, 0), pady=5, sticky='w')\n",
    "ttk.Spinbox(window, from_=1900, to=2100, textvariable=fecha_nacimiento_year, width=7).grid(row=2, column=1, padx=(140, 10), pady=5, sticky='w')\n",
    "\n",
    "ttk.Label(window, text=\"Género:\").grid(row=3, column=0, padx=10, pady=5)\n",
    "ttk.Radiobutton(window, text=\"Masculino\", variable=genero_var, value=\"Masculino\").grid(row=3, column=1, padx=10, pady=5, sticky='w')\n",
    "ttk.Radiobutton(window, text=\"Femenino\", variable=genero_var, value=\"Femenino\").grid(row=4, column=1, padx=10, pady=5, sticky='w')\n",
    "ttk.Radiobutton(window, text=\"Otro\", variable=genero_var, value=\"Otro\").grid(row=5, column=1, padx=10, pady=5, sticky='w')\n",
    "\n",
    "ttk.Button(window, text=\"Enviar\", command=on_button_click).grid(row=6, column=0, columnspan=2, pady=20)\n",
    "\n",
    "# DataFrame para guardar la información\n",
    "df = pd.DataFrame(columns=['Nombre', 'Apellido', 'Fecha de Nacimiento', 'Género', 'Edad'])\n",
    "\n",
    "window.mainloop()"
   ]
  }
 ],
 "metadata": {
  "kernelspec": {
   "display_name": "Python 3 (ipykernel)",
   "language": "python",
   "name": "python3"
  },
  "language_info": {
   "codemirror_mode": {
    "name": "ipython",
    "version": 3
   },
   "file_extension": ".py",
   "mimetype": "text/x-python",
   "name": "python",
   "nbconvert_exporter": "python",
   "pygments_lexer": "ipython3",
   "version": "3.11.5"
  }
 },
 "nbformat": 4,
 "nbformat_minor": 5
}
