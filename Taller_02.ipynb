{
  "nbformat": 4,
  "nbformat_minor": 0,
  "metadata": {
    "colab": {
      "provenance": [],
      "authorship_tag": "ABX9TyN0644xG61A+6zJntArRAc9",
      "include_colab_link": true
    },
    "kernelspec": {
      "name": "python3",
      "display_name": "Python 3"
    },
    "language_info": {
      "name": "python"
    }
  },
  "cells": [
    {
      "cell_type": "markdown",
      "metadata": {
        "id": "view-in-github",
        "colab_type": "text"
      },
      "source": [
        "<a href=\"https://colab.research.google.com/github/ArcayCo83/ProgramacionUM/blob/main/Taller_02.ipynb\" target=\"_parent\"><img src=\"https://colab.research.google.com/assets/colab-badge.svg\" alt=\"Open In Colab\"/></a>"
      ]
    },
    {
      "cell_type": "markdown",
      "source": [
        "# Taller 02\n",
        "\n",
        "El siguiente taller tiene como objetivo que usted pueda resolver problemas mediante el uso de funciones iterables en Python.\n",
        "\n",
        "Además, deberá crear diferentes objetos y operar con ellos.\n",
        "\n",
        "## Pregunta 01\n",
        "\n",
        "Cree una fórmula en la que se cumpla la siguiente ecuación:\n",
        "\n",
        "$$ \\sum_{i=1}^{15} i^3 - 1 $$\n"
      ],
      "metadata": {
        "id": "vFb5rsW5WtfS"
      }
    },
    {
      "cell_type": "code",
      "execution_count": null,
      "metadata": {
        "colab": {
          "base_uri": "https://localhost:8080/"
        },
        "id": "DaV4w9GnWroT",
        "outputId": "544f2f5c-981e-4989-d7a9-bbd1f9afb1db"
      },
      "outputs": [
        {
          "output_type": "stream",
          "name": "stdout",
          "text": [
            "El resultado de la sumatoria es 14385\n"
          ]
        }
      ],
      "source": [
        "suma = sum(i**3 - 1 for i in range(1, 16))\n",
        "print(f'El resultado de la sumatoria es', suma)"
      ]
    },
    {
      "cell_type": "markdown",
      "source": [
        "# Pregunta 02\n",
        "\n",
        "Cree un diccionario de al menos 5 artistas que guarde los siguientes datos:\n",
        "\n",
        "nombre_artista, cancion, reproducciones.\n",
        "\n",
        "[Puede usar este enlace como referencia](https://www.infobae.com/noticias/2023/09/02/spotify-chile-las-10-canciones-mas-reproducidas-hoy/)\n",
        "\n",
        "O puede simular datos con los artistas que usted prefiera."
      ],
      "metadata": {
        "id": "Iez-cHI6Z67h"
      }
    },
    {
      "cell_type": "code",
      "source": [
        "artistas = {\n",
        "    \"Adele\": {\n",
        "        \"cancion\": \"Hello\",\n",
        "        \"reproducciones\": 1000000\n",
        "    },\n",
        "    \"Taylor Swift\": {\n",
        "        \"cancion\": \"Shake It Off\",\n",
        "        \"reproducciones\": 950000\n",
        "    },\n",
        "    \"Ed Sheeran\": {\n",
        "        \"cancion\": \"Shape of You\",\n",
        "        \"reproducciones\": 1100000\n",
        "    },\n",
        "    \"Bruno Mars\": {\n",
        "        \"cancion\": \"Uptown Funk\",\n",
        "        \"reproducciones\": 900000\n",
        "    },\n",
        "    \"Billie Eilish\": {\n",
        "        \"cancion\": \"Bad Guy\",\n",
        "        \"reproducciones\": 920000\n",
        "    }\n",
        "}\n",
        "\n"
      ],
      "metadata": {
        "colab": {
          "base_uri": "https://localhost:8080/"
        },
        "id": "8i0Y4ypDZ6kh",
        "outputId": "ee801a03-8b9a-41d3-81ac-b880ef6d4d6e"
      },
      "execution_count": null,
      "outputs": [
        {
          "output_type": "execute_result",
          "data": {
            "text/plain": [
              "{'Adele': {'cancion': 'Hello', 'reproducciones': 1000000},\n",
              " 'Taylor Swift': {'cancion': 'Shake It Off', 'reproducciones': 950000},\n",
              " 'Ed Sheeran': {'cancion': 'Shape of You', 'reproducciones': 1100000},\n",
              " 'Bruno Mars': {'cancion': 'Uptown Funk', 'reproducciones': 900000},\n",
              " 'Billie Eilish': {'cancion': 'Bad Guy', 'reproducciones': 920000}}"
            ]
          },
          "metadata": {},
          "execution_count": 2
        }
      ]
    },
    {
      "cell_type": "markdown",
      "source": [
        "# Pregunta 03\n",
        "\n",
        "Usted está jugando a las escondidas con Juan, pero ahora Juan debe contar de 4 en 4 hasta el 200. ¿Cuántas veces contó Juan un número?"
      ],
      "metadata": {
        "id": "BZtNYHltbV5i"
      }
    },
    {
      "cell_type": "code",
      "source": [
        "juan = list(range(4, 201 + 1, 4))\n",
        "\n",
        "vecesquecontojuan = len(juan)\n",
        "\n",
        "print('Juan contó en total', vecesquecontojuan, 'veces')"
      ],
      "metadata": {
        "colab": {
          "base_uri": "https://localhost:8080/"
        },
        "id": "iTnAnTV0cMIm",
        "outputId": "1f3718af-fbe0-4670-a1c8-d40b74325be1"
      },
      "execution_count": null,
      "outputs": [
        {
          "output_type": "stream",
          "name": "stdout",
          "text": [
            "Juan contó en total 50 veces\n"
          ]
        }
      ]
    }
  ]
}