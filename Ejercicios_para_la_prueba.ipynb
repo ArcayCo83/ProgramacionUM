{
  "nbformat": 4,
  "nbformat_minor": 0,
  "metadata": {
    "colab": {
      "provenance": [],
      "authorship_tag": "ABX9TyO43/XXpZ8H5PASax2hZ8GC",
      "include_colab_link": true
    },
    "kernelspec": {
      "name": "python3",
      "display_name": "Python 3"
    },
    "language_info": {
      "name": "python"
    }
  },
  "cells": [
    {
      "cell_type": "markdown",
      "metadata": {
        "id": "view-in-github",
        "colab_type": "text"
      },
      "source": [
        "<a href=\"https://colab.research.google.com/github/ArcayCo83/ProgramacionUM/blob/main/Ejercicios_para_la_prueba.ipynb\" target=\"_parent\"><img src=\"https://colab.research.google.com/assets/colab-badge.svg\" alt=\"Open In Colab\"/></a>"
      ]
    },
    {
      "cell_type": "markdown",
      "source": [
        "Ejercicio 01\n",
        "\n",
        "\n",
        "Usted cuenta con la siguiente información de una base de datos\n",
        "\n",
        "| Cantante         | Género  | Nº Reproducciones |\n",
        "|------------------|---------|-------------------|\n",
        "| C TANGANA        | URBANO  | 233555            |\n",
        "| MON LAFERTE      | POP     | 355744            |\n",
        "| METALLICA        | ROCK    | 433009            |\n",
        "| OZZY OSBOURNE    | ROCK    | 244889            |\n",
        "| CALLE 13         | URBANO  | 322998            |\n",
        "| PAILITA          | URBANO  | 177400            |\n",
        "| OASIS            | POP     | 420988            |\n",
        "| BACKSTREET BOYS  | POP     | 288999            |\n",
        "| CRIS MJ          | URBANO  | 322000            |\n",
        "| QUEEN            | ROCK    | 499888            |\n",
        "\n",
        "\n",
        "\n",
        "\n",
        "En virtud de la anterior base de datos, construya un diccionario en Python que permita acceder a la información de los cantantes, su género y número de reproducciones."
      ],
      "metadata": {
        "id": "f7f24SXtSnPG"
      }
    },
    {
      "cell_type": "code",
      "execution_count": null,
      "metadata": {
        "colab": {
          "base_uri": "https://localhost:8080/"
        },
        "id": "iHkqlJ93SlsX",
        "outputId": "49a79583-ce0f-4566-9ae0-7ffc53a21212"
      },
      "outputs": [
        {
          "output_type": "execute_result",
          "data": {
            "text/plain": [
              "{'C TANGANA': {'URBANO': 233555},\n",
              " 'MON LAFERTE': {'POP': 355744},\n",
              " 'METALLICA': {'ROCK': 433009},\n",
              " 'OZZY OSBOURNE': {'ROCK': 244889},\n",
              " 'CALLE 13': {'URBANO': 322998},\n",
              " 'PAILITA': {'URBANO': 177400},\n",
              " 'OASIS': {'POP': 420988},\n",
              " 'BACKSTREET BOYS': {'POP': 288999},\n",
              " 'CRIS MJ': {'URBANO': 322000},\n",
              " 'QUEEN': {'ROCK': 499888}}"
            ]
          },
          "metadata": {},
          "execution_count": 1
        }
      ],
      "source": [
        "# Primero debe crear una lista, porque su base de datos tiene tres columnas y el diccionario soporta solo dos variables\n",
        "\n",
        "datos = [\n",
        "    {\"cantante\": \"C TANGANA\", \"genero\": \"URBANO\", \"reproducciones\": 233555},\n",
        "    {\"cantante\": \"MON LAFERTE\", \"genero\": \"POP\", \"reproducciones\": 355744},\n",
        "    {\"cantante\": \"METALLICA\", \"genero\": \"ROCK\", \"reproducciones\": 433009},\n",
        "    {\"cantante\": \"OZZY OSBOURNE\", \"genero\": \"ROCK\", \"reproducciones\": 244889},\n",
        "    {\"cantante\": \"CALLE 13\", \"genero\": \"URBANO\", \"reproducciones\": 322998},\n",
        "    {\"cantante\": \"PAILITA\", \"genero\": \"URBANO\", \"reproducciones\": 177400},\n",
        "    {\"cantante\": \"OASIS\", \"genero\": \"POP\", \"reproducciones\": 420988},\n",
        "    {\"cantante\": \"BACKSTREET BOYS\", \"genero\": \"POP\", \"reproducciones\": 288999},\n",
        "    {\"cantante\": \"CRIS MJ\", \"genero\": \"URBANO\", \"reproducciones\": 322000},\n",
        "    {\"cantante\": \"QUEEN\", \"genero\": \"ROCK\", \"reproducciones\": 499888}\n",
        "]\n",
        "\n",
        "# Luego debe crear una iteración porque debe recorrer todos los cantantes uno por uno para irlos guardando, es decir, debe usar FOR\n",
        "\n",
        "diccionario_cantantes = {}\n",
        "for dato in datos:\n",
        "    cantante = dato[\"cantante\"]\n",
        "    genero = dato[\"genero\"]\n",
        "    reproducciones = dato[\"reproducciones\"]\n",
        "    diccionario_cantantes[cantante] = {genero: reproducciones}\n",
        "\n",
        "diccionario_cantantes"
      ]
    },
    {
      "cell_type": "markdown",
      "source": [
        "# Ejercicio 02\n",
        "\n",
        "Promedio de canciones por género musical\n",
        "\n",
        "Nuestra base de datos cuenta con tres diferentes tipos de grupos de datos, estos grupos de datos promedian una cierta cantidad.\n",
        "\n",
        "Para calcular un promedio **SIEMPRE DEBEMOS SUMAR LOS TOTALES POR ELEMENTO Y LUEGO DIVIDIRLO POR LA CANTIDAD DE ELEMENTOS**\n",
        "\n",
        "En otras palabras, debemos hacer una **SUMA** (por lo que debe partir en 0)\n",
        "Y además hacer un **CONTEO** (que también debe partir en 0).\n",
        "\n"
      ],
      "metadata": {
        "id": "zIC9ZL9_Ts1N"
      }
    },
    {
      "cell_type": "code",
      "source": [
        "suma_reproducciones = {}\n",
        "conteo_genero = {}\n",
        "\n",
        "for dato in datos:\n",
        "    genero = dato[\"genero\"]\n",
        "    reproducciones = dato[\"reproducciones\"]\n",
        "\n",
        "    # Sumando las reproducciones\n",
        "    if genero in suma_reproducciones:\n",
        "        suma_reproducciones[genero] += reproducciones\n",
        "    else:\n",
        "        suma_reproducciones[genero] = reproducciones\n",
        "\n",
        "    # Contando las entradas para cada género\n",
        "    if genero in conteo_genero:\n",
        "        conteo_genero[genero] += 1\n",
        "    else:\n",
        "        conteo_genero[genero] = 1\n",
        "\n",
        "# Calculando el promedio de reproducciones por género\n",
        "promedio_reproducciones = {}\n",
        "for genero in suma_reproducciones:\n",
        "    promedio_reproducciones[genero] = suma_reproducciones[genero] / conteo_genero[genero]\n",
        "\n",
        "promedio_reproducciones"
      ],
      "metadata": {
        "colab": {
          "base_uri": "https://localhost:8080/"
        },
        "id": "CpdorlOnUPVw",
        "outputId": "e02dd28e-4632-4fdc-ecae-4114a9178a44"
      },
      "execution_count": null,
      "outputs": [
        {
          "output_type": "execute_result",
          "data": {
            "text/plain": [
              "{'URBANO': 263988.25, 'POP': 355243.6666666667, 'ROCK': 392595.3333333333}"
            ]
          },
          "metadata": {},
          "execution_count": 2
        }
      ]
    },
    {
      "cell_type": "markdown",
      "source": [
        "Como esos números decimales se ven **MAL** estéticamente, haremos un redondeo al primer decimal, usando la función *round*.\n",
        "\n"
      ],
      "metadata": {
        "id": "uw9leGpNUc9q"
      }
    },
    {
      "cell_type": "code",
      "source": [
        "promedio_reproducciones = {}\n",
        "for genero in suma_reproducciones:\n",
        "    promedio_reproducciones[genero] = round(suma_reproducciones[genero] / conteo_genero[genero], 1)\n",
        "\n",
        "promedio_reproducciones"
      ],
      "metadata": {
        "colab": {
          "base_uri": "https://localhost:8080/"
        },
        "id": "ULbuP3orUlWr",
        "outputId": "a6736167-9a8e-47ab-ff85-e7f0863b25f9"
      },
      "execution_count": null,
      "outputs": [
        {
          "output_type": "execute_result",
          "data": {
            "text/plain": [
              "{'URBANO': 263988.2, 'POP': 355243.7, 'ROCK': 392595.3}"
            ]
          },
          "metadata": {},
          "execution_count": 3
        }
      ]
    },
    {
      "cell_type": "markdown",
      "source": [
        "# Ejercicio 03\n",
        "\n",
        "Ahora muestre cuál es el cantante que tiene más reproducciones y el cantante que tiene menos reproducciones.\n",
        "\n",
        "Es decir, debemos encontrar el máximo y el mínimo dentro de nuestro diccionario.\n",
        "\n"
      ],
      "metadata": {
        "id": "o4QssvdgUubc"
      }
    },
    {
      "cell_type": "code",
      "source": [
        "# Inicializando variables para almacenar el cantante con más y menos reproducciones\n",
        "cantante_max_reproducciones = None\n",
        "cantante_min_reproducciones = None\n",
        "max_reproducciones = -1\n",
        "min_reproducciones = float('inf')\n",
        "\n",
        "# Iterando a través de los datos para encontrar el cantante con más y menos reproducciones\n",
        "for dato in datos:\n",
        "    cantante = dato[\"cantante\"]\n",
        "    reproducciones = dato[\"reproducciones\"]\n",
        "\n",
        "    if reproducciones > max_reproducciones:\n",
        "        max_reproducciones = reproducciones\n",
        "        cantante_max_reproducciones = cantante\n",
        "\n",
        "    if reproducciones < min_reproducciones:\n",
        "        min_reproducciones = reproducciones\n",
        "        cantante_min_reproducciones = cantante\n",
        "\n",
        "print(f\"El cantante con más reproducciones es {cantante_max_reproducciones} con {max_reproducciones} reproducciones.\")\n",
        "print(f\"El cantante con menos reproducciones es {cantante_min_reproducciones} con {min_reproducciones} reproducciones.\")"
      ],
      "metadata": {
        "colab": {
          "base_uri": "https://localhost:8080/"
        },
        "id": "UcUvLjN-VIl2",
        "outputId": "d5b17040-343b-477f-b9b3-d28e950f3103"
      },
      "execution_count": null,
      "outputs": [
        {
          "output_type": "stream",
          "name": "stdout",
          "text": [
            "El cantante con más reproducciones es QUEEN con 499888 reproducciones.\n",
            "El cantante con menos reproducciones es PAILITA con 177400 reproducciones.\n"
          ]
        }
      ]
    },
    {
      "cell_type": "markdown",
      "source": [
        "# IMPORTANTE SOBRE EL CÓDIGO ANTERIOR\n",
        "\n",
        "La razón para inicializar `max_reproducciones` con el valor \\(-1\\) es asegurarse de que cualquier número real de reproducciones en los datos será mayor que el valor inicial. De esta manera, cuando revisamos cada entrada en los datos, cualquier cantidad real de reproducciones inmediatamente superará este valor inicial, permitiendo que se actualice con valores reales de reproducciones.\n",
        "\n",
        "Dado que sabemos que el número mínimo de reproducciones en los datos será mayor que \\(-1\\), esta inicialización nos garantiza que `max_reproducciones` se actualice al menos una vez en la primera iteración. Es una técnica común para asegurarse de que el valor se actualice adecuadamente durante la primera comparación en una serie de comprobaciones.\n",
        "\n",
        "De manera similar, inicializamos `min_reproducciones` con `float('inf')` porque queremos que cualquier número real de reproducciones en los datos sea menor que este valor inicial en la primera iteración."
      ],
      "metadata": {
        "id": "klpH-jcJVfKD"
      }
    }
  ]
}