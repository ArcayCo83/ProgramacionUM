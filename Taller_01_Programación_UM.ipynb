{
  "nbformat": 4,
  "nbformat_minor": 0,
  "metadata": {
    "colab": {
      "provenance": [],
      "authorship_tag": "ABX9TyMUp4ZOoHZDsXD8oXBI1JHR",
      "include_colab_link": true
    },
    "kernelspec": {
      "name": "python3",
      "display_name": "Python 3"
    },
    "language_info": {
      "name": "python"
    }
  },
  "cells": [
    {
      "cell_type": "markdown",
      "metadata": {
        "id": "view-in-github",
        "colab_type": "text"
      },
      "source": [
        "<a href=\"https://colab.research.google.com/github/ArcayCo83/ProgramacionUM/blob/main/Taller_01_Programaci%C3%B3n_UM.ipynb\" target=\"_parent\"><img src=\"https://colab.research.google.com/assets/colab-badge.svg\" alt=\"Open In Colab\"/></a>"
      ]
    },
    {
      "cell_type": "markdown",
      "source": [
        "# Taller 01 - Programación\n",
        "\n",
        "El siguiente taller tiene como objetivo el lograr solucionar diversos problemas\n",
        "dentro de un entorno de Python.\n",
        "\n",
        "Para esto, usted tendrá que trabajar con el grupo que usted inscribió.\n",
        "\n",
        "Deberá subir el enlace de su cuaderno con resultados al [campus virtual](https://campusvirtual.umayor.cl/ultra/courses/_129873_1/outline/assessment/test/_4392935_1?courseId=_129873_1&gradeitemView=details&gradebookCategoryId=_2213331_1)\n",
        "\n",
        "## Pregunta 01\n",
        "\n",
        "El lanzamiento vertical en física se refiere al movimiento de un objeto que es lanzado hacia arriba o hacia abajo en un campo gravitacional, como el de la Tierra. Las fórmulas para el lanzamiento vertical son derivadas de las ecuaciones básicas del movimiento uniformemente acelerado.\n",
        "\n",
        "Las principales fórmulas para el lanzamiento vertical son:\n",
        "\n",
        "1. **Posición en función del tiempo**:\n",
        "$$y(t) = y_0 + v_0 t - \\frac{1}{2} g t^2 $$\n",
        "\n",
        "Donde:\n",
        "- $ y(t) $ es la posición del objeto en el tiempo $ t $.\n",
        "- $ y_0$ es la posición inicial del objeto.\n",
        "- $ v_0$ es la velocidad inicial con la que fue lanzado el objeto.\n",
        "- $g$ es la aceleración debida a la gravedad (aproximadamente $9.81 \\, \\text{m/s}^2 $ en la superficie de la Tierra).\n",
        "\n",
        "2. **Velocidad en función del tiempo**\n",
        "$$v(t) = v_0 - g t$$\n",
        "\n",
        "Donde:\n",
        "- $v(t)$ Es la velocidad del objeto en el tiempo $ t $.\n",
        "\n",
        "Recuerde que para usar números decimales usted deberá usar el comando **float** antes del comando **input**.\n",
        "\n",
        "a) Cree un comando para el cálculo de la velocidad para un objeto que fue lanzado con una velocidad inicial de 360 $km/h$ (recuerde transformar al Sistema internacional de medidas), por un tiempo de 4 segundos.\n",
        "\n",
        "Imprima el resultado en un comando que indique las unidades del resultado.\n",
        "\n",
        "b) Cree un comando para el cálculo de la posición en función del tiempo para el objeto anterior en ese mismo tiempo, misma velocidad, pero que fue lanzado desde 50, 100 y 200 metros de altura.\n",
        "\n",
        "3. Cree una aplicación en la que se le pida ingresar **tres números enteros** ($x_1, x_2, x_3$) y realice las siguientes operaciones con ellos:\n",
        "\n",
        "a) Sumar los números y que se imprima el resultado de las sumas con el siguiente resultado:\n",
        "El resultado de la suma de los números $x_1$, $x_2$, $x_3$ es XXX.\n",
        "\n",
        "b) Restar el primer con el tercer número y multiplicarlo por el segundo, indicando el siguiente resultado:\n",
        "\n",
        "El resultado de la operación $(x_1 - x_3) \\times x_2$ es XXX\n",
        "\n",
        "c) Dividir el segundo número por el primero y elevarlo al tercero, indicando el siguiente resultado:\n",
        "\n",
        "El resultado de la operación $ \\left ( \\frac{x_2}{x_1} \\right )^{x_3}$ es XXX.\n",
        "\n"
      ],
      "metadata": {
        "id": "Q00LEGi7Tylm"
      }
    },
    {
      "cell_type": "code",
      "source": [
        "vel_kmh = 360\n",
        "vel_ms = vel_kmh / 3.6\n",
        "\n",
        "print(f'La velocidad en metros por segundo es', vel_ms)"
      ],
      "metadata": {
        "id": "At701ru2bdX5",
        "colab": {
          "base_uri": "https://localhost:8080/"
        },
        "outputId": "90fed35c-e2aa-493b-b946-696f24fc08ec"
      },
      "execution_count": null,
      "outputs": [
        {
          "output_type": "stream",
          "name": "stdout",
          "text": [
            "La velocidad en metros por segundo es 100.0\n"
          ]
        }
      ]
    },
    {
      "cell_type": "code",
      "source": [
        "y_0 = float(input('ingrese el valor de la distancia: '))\n",
        "t = 4\n",
        "g = 9.81"
      ],
      "metadata": {
        "colab": {
          "base_uri": "https://localhost:8080/"
        },
        "id": "pErccIYwT7ly",
        "outputId": "d4891e67-8706-43b9-e406-54aca325bcd2"
      },
      "execution_count": null,
      "outputs": [
        {
          "name": "stdout",
          "output_type": "stream",
          "text": [
            "ingrese el valor de la distancia: 1000\n"
          ]
        }
      ]
    },
    {
      "cell_type": "code",
      "source": [
        "##y(t) = y_0 + v_0 t - \\frac{1}{2} g t^2\n",
        "\n",
        "y_t = y_0 + vel_ms * t - 0.5 * g * t **2\n",
        "\n",
        "print(f'La distancia recorrida es', y_t, 'metros')"
      ],
      "metadata": {
        "colab": {
          "base_uri": "https://localhost:8080/"
        },
        "id": "LeevNdB1TtDT",
        "outputId": "7dffbec3-7a1f-4acc-e23e-8da6e3f674e4"
      },
      "execution_count": null,
      "outputs": [
        {
          "output_type": "stream",
          "name": "stdout",
          "text": [
            "La distancia recorrida es 1321.52 metros\n"
          ]
        }
      ]
    },
    {
      "cell_type": "code",
      "source": [
        "y50 = float(input('ingrese el valor de la distancia: '))\n",
        "\n",
        "y_t = y50 + vel_ms * t - 0.5 * g * t **2\n",
        "\n",
        "print(f'La distancia recorrida es', y_t, 'metros')"
      ],
      "metadata": {
        "colab": {
          "base_uri": "https://localhost:8080/"
        },
        "id": "SSvDYbnmdbDX",
        "outputId": "a3ae65ba-b6d1-443c-cd83-51a815d3ddd8"
      },
      "execution_count": null,
      "outputs": [
        {
          "output_type": "stream",
          "name": "stdout",
          "text": [
            "ingrese el valor de la distancia: 50\n",
            "La distancia recorrida es 371.52 metros\n"
          ]
        }
      ]
    },
    {
      "cell_type": "code",
      "source": [
        "y100 = float(input('ingrese el valor de la distancia: '))\n",
        "\n",
        "y_t = y100 + vel_ms * t - 0.5 * g * t **2\n",
        "\n",
        "print(f'La distancia recorrida es', y_t, 'metros')"
      ],
      "metadata": {
        "colab": {
          "base_uri": "https://localhost:8080/"
        },
        "id": "z3z7iqvGdoxx",
        "outputId": "82dea4c1-e961-4066-d877-3236c5b24723"
      },
      "execution_count": null,
      "outputs": [
        {
          "output_type": "stream",
          "name": "stdout",
          "text": [
            "ingrese el valor de la distancia: 100\n",
            "La distancia recorrida es 421.52 metros\n"
          ]
        }
      ]
    },
    {
      "cell_type": "code",
      "source": [
        "y200 = float(input('ingrese el valor de la distancia: '))\n",
        "\n",
        "y_t = y200 + vel_ms * t - 0.5 * g * t **2\n",
        "\n",
        "print(f'La distancia recorrida es', y_t, 'metros')"
      ],
      "metadata": {
        "colab": {
          "base_uri": "https://localhost:8080/"
        },
        "id": "0ec9h42JdsGc",
        "outputId": "b06c46b5-b9ac-4a24-e1f2-6e19116a35c4"
      },
      "execution_count": null,
      "outputs": [
        {
          "output_type": "stream",
          "name": "stdout",
          "text": [
            "ingrese el valor de la distancia: 200\n",
            "La distancia recorrida es 521.52 metros\n"
          ]
        }
      ]
    },
    {
      "cell_type": "code",
      "source": [
        "# Pára el cálculo de la velocidad\n",
        "# v(t) = v_0 - g t\n",
        "\n",
        "v_t = vel_ms - g * t\n",
        "\n",
        "print('La velocidad final del objeto es', v_t, 'metros/seg')"
      ],
      "metadata": {
        "colab": {
          "base_uri": "https://localhost:8080/"
        },
        "id": "9ndDooexd0P4",
        "outputId": "6837bf47-6df8-4037-c11a-3fb2741c927f"
      },
      "execution_count": null,
      "outputs": [
        {
          "output_type": "stream",
          "name": "stdout",
          "text": [
            "La velocidad final del objeto es 60.76 metros/seg\n"
          ]
        }
      ]
    },
    {
      "cell_type": "code",
      "source": [
        "## Pregunta 2\n",
        "\n",
        "x1 = int(input('ingrese x1: '))\n",
        "x2 = int(input('ingrese x2: '))\n",
        "x3 = int(input('ingrese x3: '))\n",
        "\n",
        "suma = x1 + x2 + x3\n",
        "\n",
        "print(f'El resultado de la suma de x1 + x2 + x3 es:', suma)"
      ],
      "metadata": {
        "colab": {
          "base_uri": "https://localhost:8080/"
        },
        "id": "dNpXU5ZneOTH",
        "outputId": "e045a60e-3fb1-40e4-da7e-2278c0f3b7aa"
      },
      "execution_count": null,
      "outputs": [
        {
          "output_type": "stream",
          "name": "stdout",
          "text": [
            "ingrese x1: 20\n",
            "ingrese x2: 5\n",
            "ingrese x3: -8\n",
            "El resultado de la suma de x1 + x2 + x3 es: 17\n"
          ]
        }
      ]
    },
    {
      "cell_type": "code",
      "source": [
        "operacion2 = (x1 - x3) * x2\n",
        "\n",
        "print(f'El resultado de la operacion (x1 - x3) * x2 es: ', operacion2)"
      ],
      "metadata": {
        "colab": {
          "base_uri": "https://localhost:8080/"
        },
        "id": "tKQyBxQ3enQY",
        "outputId": "aee47777-de0c-4211-bb16-ef6787178299"
      },
      "execution_count": null,
      "outputs": [
        {
          "output_type": "stream",
          "name": "stdout",
          "text": [
            "El resultado de la operacion (x1 - x3) * x2 es:  140\n"
          ]
        }
      ]
    },
    {
      "cell_type": "code",
      "source": [
        "operacion3 = (x2/x1)**x3\n",
        "\n",
        "print(f'El resultado de la operacion (x2/x1) ** x3 es: ', operacion3)"
      ],
      "metadata": {
        "colab": {
          "base_uri": "https://localhost:8080/"
        },
        "id": "Nok2jMyve2tK",
        "outputId": "c1ce812f-1556-4984-b0ff-15841ab1b013"
      },
      "execution_count": null,
      "outputs": [
        {
          "output_type": "stream",
          "name": "stdout",
          "text": [
            "El resultado de la operacion (x2/x1) ** x3 es:  65536.0\n"
          ]
        }
      ]
    }
  ]
}