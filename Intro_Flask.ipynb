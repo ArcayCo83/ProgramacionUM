{
 "cells": [
  {
   "cell_type": "markdown",
   "id": "72b4a933",
   "metadata": {},
   "source": [
    "## Flask\n",
    "\n",
    "Flask es un framework aplicativo escrito en Python, en otras palabras, es una librería que se usa para desarrollar aplicaciones web."
   ]
  },
  {
   "cell_type": "markdown",
   "id": "ff399b1b",
   "metadata": {},
   "source": [
    "### Para instalar Flask\n",
    "pip install flask"
   ]
  },
  {
   "cell_type": "code",
   "execution_count": null,
   "id": "88a81701",
   "metadata": {},
   "outputs": [],
   "source": [
    "pip install flask"
   ]
  },
  {
   "cell_type": "markdown",
   "id": "0f04921d",
   "metadata": {},
   "source": [
    "### Primeros pasos en flask\n",
    "\n",
    "Vamos a escribir 'Hola, Mundo' usando flask"
   ]
  },
  {
   "cell_type": "code",
   "execution_count": 1,
   "id": "4e8c66bc",
   "metadata": {},
   "outputs": [],
   "source": [
    "from flask import Flask"
   ]
  },
  {
   "cell_type": "code",
   "execution_count": null,
   "id": "d7a42d41",
   "metadata": {},
   "outputs": [],
   "source": [
    "# Como esta es una aplicación web, vamos a definirla como una app\n",
    "\n",
    "app = Flask(__name__)\n",
    "\n",
    "# Tenemos que dirigir la app que creamos (app = )\n",
    "\n",
    "@app.route('/')\n",
    "def holamundo():\n",
    "    return 'Hola, Mundo'\n",
    "\n",
    "if __name__ == '__main__':\n",
    "    app.run()"
   ]
  },
  {
   "cell_type": "markdown",
   "id": "f96f7fd6",
   "metadata": {},
   "source": [
    "# ¡Felicidades, has creado tu primera aplicación web!\n",
    "\n",
    "Ahora, ¿qué significa el route('/')?\n",
    "\n",
    "Esto es la dirección web que tendrá nuestro sistema. Vamos a crear otra opción, ahora usando HTML"
   ]
  },
  {
   "cell_type": "code",
   "execution_count": null,
   "id": "f4a458fe",
   "metadata": {
    "scrolled": false
   },
   "outputs": [],
   "source": [
    "app = Flask(__name__)\n",
    "\n",
    "# Tenemos que dirigir la app que creamos (app = )\n",
    "\n",
    "@app.route('/')\n",
    "def holamundo():\n",
    "    return 'Hola, Mundo <h1>Bienvenidos a mi primera app</h1>'\n",
    "\n",
    "if __name__ == '__main__':\n",
    "    app.run()"
   ]
  },
  {
   "cell_type": "markdown",
   "id": "9c30813e",
   "metadata": {},
   "source": [
    "Ahora, ¿recuerdas que hace un tiempo vimos el listado de colores hexadecimal?\n",
    "¿Creías que no servía para nada?\n",
    "\n",
    "Pues, ¡NO!\n",
    "\n",
    "Vamos a eso...\n",
    "\n",
    "[En esta página](https://html-color-codes.info/codigos-de-colores-hexadecimales/) podrás ver los colores en función hexadecimal,  pero antes daremos una introducción a la programación en HTML básica.\n",
    "\n",
    "Usando `Flask` ustedes van a querer componer documentos en HTML (para que se abran en navegadores web), entonces, en la parte del código donde usamos `def holamundo():` luego del comando `return` usaremos:\n",
    "\n",
    "$'''$ <- usamos tres comillas para dar inicio a otro lenguaje, tenemos que ponerlo al final también\n",
    "\n",
    "$< \\text{!DOCTYPE html} >$ <-- esto le da la instrucción que el documento final que regresa la aplicación será un .html\n",
    "\n",
    "$< \\text{html} >$ <-- este comando es para abrir la opción\n",
    "              \n",
    "$< \\text{/html} >$ <-- y este es para cerrar la opción \n",
    "\n",
    "## El comando $<head>$\n",
    "\n",
    "Este comando tiene por finalidad almacenar todas las propiedades que se despliegan a lo largo de un archivo HTML predeterminado. Aquí están las más comunes que puedes encontrar:\n",
    "\n",
    "1. Título del documento ($<title>$): Aquí muestra el título que tendrá en la barra de título del navegador o la pestaña.\n",
    "\n",
    "2. Información Meta ($<meta>$): Información sobre el documento, como el conjunto de caracteres usado, autor, descripción, palabras clave y **metadatos**.\n",
    "\n",
    "3. Enlaces a hojas de estilo externas ($<link>$): Enlaces a hojas de estilo CSS que se pueden utilizar para dar estética al documento.\n",
    "\n",
    "4. Enlaces internos ($<style>$): Bloques de código en CSS dentro del documento HTML.\n",
    "\n",
    "5. Scripts ($<scripts>$): Referencias a scripts externos o bloques de código JavaScript en el documento.\n",
    "\n",
    "6. Relación con otros documentos ($<link rel = '...'>$): Define relaciones con otros docuemntos, como una versión de estilo alternativa o una relación con otro idioma.\n",
    "\n",
    "7. Ícono de Favoritos ($<link rel = 'icon'>$): El ícono que se muestra junto al título en la pestaña del navegador.\n",
    "\n",
    "El comando **head** es CLAVE para poder asegurar que un documento HTML funcione de manera correcta y que pueda ser interpretado por un navegador, como ahora estamos creando aplicaciones web, necesitamos que nuestra app tenga un head, así que, vamos a mejorar nuestro código anterior.\n",
    "  "
   ]
  },
  {
   "cell_type": "code",
   "execution_count": null,
   "id": "55b64870",
   "metadata": {},
   "outputs": [],
   "source": [
    "app = Flask(__name__)\n",
    "\n",
    "# Tenemos que dirigir la app que creamos (app = )\n",
    "\n",
    "@app.route('/')\n",
    "def holamundo():\n",
    "    return '''\n",
    "    <!DOCTYPE html>\n",
    "    <html>\n",
    "    <head>\n",
    "        <style>\n",
    "            body {\n",
    "                    background-color: #2E64FE\n",
    "            }\n",
    "        </style>\n",
    "    </head>\n",
    "    <body>\n",
    "        Hola, Mundo <h1> Bienvenidos a mi primera app </h1>\n",
    "    </body>\n",
    "    </html>\n",
    "    '''\n",
    "    \n",
    "if __name__ == '__main__':\n",
    "    app.run()"
   ]
  },
  {
   "cell_type": "code",
   "execution_count": null,
   "id": "2c75d636",
   "metadata": {},
   "outputs": [],
   "source": [
    "# Ahora agreguemos un título a nuestra app\n",
    "\n",
    "app = Flask(__name__)\n",
    "\n",
    "# Tenemos que dirigir la app que creamos (app = )\n",
    "\n",
    "@app.route('/')\n",
    "def holamundo():\n",
    "    return '''\n",
    "    <!DOCTYPE html>\n",
    "    <html>\n",
    "    <head>\n",
    "        <title>Mi primera app en Flask</title>\n",
    "        <style>\n",
    "            body {\n",
    "                    background-color: #2E64FE\n",
    "            }\n",
    "        </style>\n",
    "    </head>\n",
    "    <body>\n",
    "        Hola, Mundo <h1> Bienvenidos a mi primera app </h1>\n",
    "    </body>\n",
    "    </html>\n",
    "    '''\n",
    "    \n",
    "if __name__ == '__main__':\n",
    "    app.run()"
   ]
  },
  {
   "cell_type": "markdown",
   "id": "f18fb08c",
   "metadata": {},
   "source": [
    "Ahora añadamos algunos metadatos a nuestra app\n",
    "\n",
    "Vamos a añadir palabras clave: Programacion, ProgramacionUMayor, 2Semestre, 2023\n",
    "\n",
    "También pondremos que nosotros somos los autores y le daremos una breve descripción a nuestra app\n"
   ]
  },
  {
   "cell_type": "code",
   "execution_count": null,
   "id": "025101b4",
   "metadata": {},
   "outputs": [],
   "source": [
    "# Añadiendo metadatos\n",
    "\n",
    "app = Flask(__name__)\n",
    "\n",
    "# Tenemos que dirigir la app que creamos (app = )\n",
    "\n",
    "@app.route('/')\n",
    "def holamundo():\n",
    "    return '''\n",
    "    <!DOCTYPE html>\n",
    "    <html>\n",
    "    <head>\n",
    "        <title>Mi primera app en Flask</title>\n",
    "        <meta name = 'keywords' content = \"Programacion, ProgramacionUMayor, 2Semestre, 2023\">\n",
    "        <meta name = 'author' content = 'Pablo Arcay'>\n",
    "        <meta name = 'description' content = 'Primer proyecto en Flask usando Python'>\n",
    "        <style>\n",
    "            body {\n",
    "                    background-color: #2E64FE\n",
    "            }\n",
    "        </style>\n",
    "    </head>\n",
    "    <body>\n",
    "        Hola, Mundo <h1> Bienvenidos a mi primera app </h1>\n",
    "    </body>\n",
    "    </html>\n",
    "    '''\n",
    "    \n",
    "if __name__ == '__main__':\n",
    "    app.run()"
   ]
  },
  {
   "cell_type": "markdown",
   "id": "0b04d552",
   "metadata": {},
   "source": [
    "## ¿Para qué sirven las meta entonces?\n",
    "\n",
    "Las opciones guardadas dentro de los comando meta name sirven para poder potenciar nuestras apps construidas o nuestras páginas diseñadas. Unos ejemplos de cómo se utilizan estos metadatos:\n",
    "\n",
    "+ Optimización de motores de búsqueda: Las etiquetas meta como `description` y `keywords`ayudan a los motores de búsqueda (Google, Yahoo, Bing, etc.) a entender el contenido de la página. \n",
    "\n",
    "\n",
    "+ Desarrollo web: En el uso de JavaScript se pueden leer las informaciones contenidas en las etiquetas `meta` y tomar acciones en relación a esa información.\n",
    "\n",
    "+ Redes sociales: LAs etiquetas meta también son usadas para el control del contenido cuando este se comparte en RRSS. \n",
    "\n",
    "+ Análisis de páginas web.\n",
    "\n",
    "+ Control del navegador: Algunas etiquetas meta pueden controlar el comportamiento del navegador, por ejemplo, existe una etiqueta llamada `viewport` que controla la dimensión de la página en diferentes dispositivos."
   ]
  },
  {
   "cell_type": "code",
   "execution_count": null,
   "id": "e5291117",
   "metadata": {
    "scrolled": true
   },
   "outputs": [],
   "source": [
    "# Creando más páginas dentro de Flask\n",
    "\n",
    "app = Flask(__name__)\n",
    "\n",
    "# Tenemos que dirigir la app que creamos (app = )\n",
    "\n",
    "@app.route('/')\n",
    "def home():\n",
    "    return 'Esta es la página principal'\n",
    "\n",
    "@app.route('/<nombre>')\n",
    "def user(nombre):\n",
    "    return f'¡Hola {nombre}! <h1> ¡Bienvenido! </h1>'\n",
    "\n",
    "@app.route('/holamundo')\n",
    "def holamundo():\n",
    "    return '''\n",
    "    <!DOCTYPE html>\n",
    "    <html>\n",
    "    <head>\n",
    "        <title>Mi primera app en Flask</title>\n",
    "        <meta name = 'keywords' content = \"Programacion, ProgramacionUMayor, 2Semestre, 2023\">\n",
    "        <meta name = 'author' content = 'Pablo Arcay'>\n",
    "        <meta name = 'description' content = 'Primer proyecto en Flask usando Python'>\n",
    "        <style>\n",
    "            body {\n",
    "                    background-color: #2E64FE\n",
    "            }\n",
    "        </style>\n",
    "    </head>\n",
    "    <body>\n",
    "        Hola, Mundo <h1> Bienvenidos a mi primera app </h1>\n",
    "    </body>\n",
    "    </html>\n",
    "    '''\n",
    "\n",
    "\n",
    "if __name__ == '__main__':\n",
    "    app.run()"
   ]
  },
  {
   "cell_type": "markdown",
   "id": "ea9b47fd",
   "metadata": {},
   "source": [
    "# Creación de carpetas de plantillas\n",
    "\n",
    "Una plantilla es denominada como **template** en inglés. Estas plantillas permiten crear o guardar documentos html que podemos hacer referencias dentro de nuestro ambiente de desarrollo.\n",
    "\n",
    "Vamos a crear una nueva plantilla, vas a abrir la pestaña de Jupyter Notebook y vas a navegar dentro de la carpeta **templates** que creamos en el navegador de Windows. Luego de navegar al interior, abriremos la carpeta desde Jupyter Notebook y luego crear un nuevo Text File"
   ]
  },
  {
   "cell_type": "markdown",
   "id": "a7c0db8b",
   "metadata": {},
   "source": [
    "Una vez creada la plantilla, ahora tenemos que importar un nuevo módulo de flask"
   ]
  },
  {
   "cell_type": "code",
   "execution_count": 2,
   "id": "1a0e27d2",
   "metadata": {},
   "outputs": [],
   "source": [
    "from flask import render_template"
   ]
  },
  {
   "cell_type": "code",
   "execution_count": null,
   "id": "b1cf3afd",
   "metadata": {},
   "outputs": [],
   "source": [
    "app = Flask(__name__)\n",
    "\n",
    "@app.route('/')\n",
    "@app.route('/home')\n",
    "def home():\n",
    "    return 'Esta es la página principal'\n",
    "\n",
    "@app.route('/<nombre>')\n",
    "def user(nombre):\n",
    "    return f'¡Hola {nombre}! <h1> ¡Bienvenido! </h1>'\n",
    "\n",
    "@app.route('/holamundo')\n",
    "def holamundo():\n",
    "    return '''\n",
    "    <!DOCTYPE html>\n",
    "    <html>\n",
    "    <head>\n",
    "        <title>Mi primera app en Flask</title>\n",
    "        <meta name = 'keywords' content = \"Programacion, ProgramacionUMayor, 2Semestre, 2023\">\n",
    "        <meta name = 'author' content = 'Pablo Arcay'>\n",
    "        <meta name = 'description' content = 'Primer proyecto en Flask usando Python'>\n",
    "        <style>\n",
    "            body {\n",
    "                    background-color: #2E64FE\n",
    "            }\n",
    "        </style>\n",
    "    </head>\n",
    "    <body>\n",
    "        Hola, Mundo <h1> Bienvenidos a mi primera app </h1>\n",
    "    </body>\n",
    "    </html>\n",
    "    '''\n",
    "\n",
    "@app.route('/template')\n",
    "def template():\n",
    "    return render_template('nuevo.html')\n",
    "\n",
    "if __name__ == '__main__':\n",
    "    app.run()"
   ]
  },
  {
   "cell_type": "code",
   "execution_count": null,
   "id": "6c6f8e24",
   "metadata": {},
   "outputs": [],
   "source": [
    "pip install Flask-WTF"
   ]
  },
  {
   "cell_type": "code",
   "execution_count": 4,
   "id": "388c469b",
   "metadata": {},
   "outputs": [
    {
     "name": "stdout",
     "output_type": "stream",
     "text": [
      "Requirement already satisfied: WTForms in c:\\users\\pablo\\anaconda3\\lib\\site-packages (3.1.0)\n",
      "Requirement already satisfied: markupsafe in c:\\users\\pablo\\anaconda3\\lib\\site-packages (from WTForms) (2.1.1)\n",
      "Note: you may need to restart the kernel to use updated packages.\n"
     ]
    }
   ],
   "source": [
    "pip install WTForms"
   ]
  },
  {
   "cell_type": "markdown",
   "id": "80150b19",
   "metadata": {},
   "source": [
    "# Ahora viene lo chido\n",
    "\n",
    "Pondremos un formulario en nuestra página, para esto, usaremos este código:\n",
    "\n",
    "from flask_wtf import FlaskForm\n",
    "\n",
    "from wtforms import StringField, RadioField, SubmitField\n",
    "\n",
    "from wtforms.validators import DataRequired\n",
    "\n",
    "from wtforms.fields.html5 import DateField\n",
    "\n",
    "class InfoForm(FlaskForm):\n",
    "\n",
    "    nombre = StringField('Nombre', validators=[DataRequired()])\n",
    "    \n",
    "    fecha_nacimiento = DateField('Fecha de Nacimiento', format='%Y-%m-%d', validators=[DataRequired()])\n",
    "    \n",
    "    sexo = RadioField('Sexo', choices=[('M','Masculino'),('F','Femenino')], validators=[DataRequired()])\n",
    "    \n",
    "    submit = SubmitField('Enviar')"
   ]
  },
  {
   "cell_type": "code",
   "execution_count": 6,
   "id": "8b41bf2a",
   "metadata": {},
   "outputs": [],
   "source": [
    "from forms import InfoForm"
   ]
  },
  {
   "cell_type": "code",
   "execution_count": 7,
   "id": "63875494",
   "metadata": {},
   "outputs": [
    {
     "name": "stdout",
     "output_type": "stream",
     "text": [
      " * Serving Flask app '__main__'\n",
      " * Debug mode: off\n"
     ]
    },
    {
     "name": "stderr",
     "output_type": "stream",
     "text": [
      "WARNING: This is a development server. Do not use it in a production deployment. Use a production WSGI server instead.\n",
      " * Running on http://127.0.0.1:5000\n",
      "Press CTRL+C to quit\n",
      "127.0.0.1 - - [31/Oct/2023 00:01:17] \"GET / HTTP/1.1\" 200 -\n",
      "127.0.0.1 - - [31/Oct/2023 00:01:29] \"GET /formulario HTTP/1.1\" 200 -\n"
     ]
    }
   ],
   "source": [
    "app = Flask(__name__)\n",
    "app.config['SECRET_KEY'] = 'mysecret'\n",
    "\n",
    "@app.route('/')\n",
    "@app.route('/home')\n",
    "def home():\n",
    "    return 'Esta es la página principal'\n",
    "\n",
    "@app.route('/<nombre>')\n",
    "def user(nombre):\n",
    "    return f'¡Hola {nombre}! <h1> ¡Bienvenido! </h1>'\n",
    "\n",
    "@app.route('/holamundo')\n",
    "def holamundo():\n",
    "    return '''\n",
    "    <!DOCTYPE html>\n",
    "    <html>\n",
    "    <head>\n",
    "        <title>Mi primera app en Flask</title>\n",
    "        <meta name = 'keywords' content = \"Programacion, ProgramacionUMayor, 2Semestre, 2023\">\n",
    "        <meta name = 'author' content = 'Pablo Arcay'>\n",
    "        <meta name = 'description' content = 'Primer proyecto en Flask usando Python'>\n",
    "        <style>\n",
    "            body {\n",
    "                    background-color: #2E64FE\n",
    "            }\n",
    "        </style>\n",
    "    </head>\n",
    "    <body>\n",
    "        Hola, Mundo <h1> Bienvenidos a mi primera app </h1>\n",
    "    </body>\n",
    "    </html>\n",
    "    '''\n",
    "\n",
    "@app.route('/formulario', methods=['GET', 'POST'])\n",
    "def formulario():\n",
    "    form = InfoForm()\n",
    "    if form.validate_on_submit():\n",
    "        # procesar los datos del formulario\n",
    "        pass\n",
    "    return render_template('formulario.html', form=form)\n",
    "\n",
    "if __name__ == '__main__':\n",
    "    app.run()\n"
   ]
  },
  {
   "cell_type": "markdown",
   "id": "4ede879b",
   "metadata": {},
   "source": [
    "¿Y podemos guardar esto en un dataframe?"
   ]
  },
  {
   "cell_type": "code",
   "execution_count": 8,
   "id": "e523a6b0",
   "metadata": {},
   "outputs": [],
   "source": [
    "import pandas as pd"
   ]
  },
  {
   "cell_type": "code",
   "execution_count": 10,
   "id": "5b7acbdc",
   "metadata": {},
   "outputs": [],
   "source": [
    "df = pd.DataFrame(columns=['Nombre', 'Fecha de Nacimiento', 'Sexo'])"
   ]
  },
  {
   "cell_type": "code",
   "execution_count": 12,
   "id": "d74033b7",
   "metadata": {},
   "outputs": [
    {
     "name": "stdout",
     "output_type": "stream",
     "text": [
      " * Serving Flask app '__main__'\n",
      " * Debug mode: off\n"
     ]
    },
    {
     "name": "stderr",
     "output_type": "stream",
     "text": [
      "WARNING: This is a development server. Do not use it in a production deployment. Use a production WSGI server instead.\n",
      " * Running on http://127.0.0.1:5000\n",
      "Press CTRL+C to quit\n",
      "127.0.0.1 - - [31/Oct/2023 00:08:07] \"GET / HTTP/1.1\" 200 -\n",
      "127.0.0.1 - - [31/Oct/2023 00:08:13] \"GET /formulario HTTP/1.1\" 200 -\n",
      "127.0.0.1 - - [31/Oct/2023 00:08:22] \"POST /formulario HTTP/1.1\" 200 -\n"
     ]
    }
   ],
   "source": [
    "app = Flask(__name__)\n",
    "app.config['SECRET_KEY'] = 'mysecret'\n",
    "\n",
    "@app.route('/')\n",
    "@app.route('/home')\n",
    "def home():\n",
    "    return 'Esta es la página principal'\n",
    "\n",
    "@app.route('/<nombre>')\n",
    "def user(nombre):\n",
    "    return f'¡Hola {nombre}! <h1> ¡Bienvenido! </h1>'\n",
    "\n",
    "@app.route('/holamundo')\n",
    "def holamundo():\n",
    "    return '''\n",
    "    <!DOCTYPE html>\n",
    "    <html>\n",
    "    <head>\n",
    "        <title>Mi primera app en Flask</title>\n",
    "        <meta name = 'keywords' content = \"Programacion, ProgramacionUMayor, 2Semestre, 2023\">\n",
    "        <meta name = 'author' content = 'Pablo Arcay'>\n",
    "        <meta name = 'description' content = 'Primer proyecto en Flask usando Python'>\n",
    "        <style>\n",
    "            body {\n",
    "                    background-color: #2E64FE\n",
    "            }\n",
    "        </style>\n",
    "    </head>\n",
    "    <body>\n",
    "        Hola, Mundo <h1> Bienvenidos a mi primera app </h1>\n",
    "    </body>\n",
    "    </html>\n",
    "    '''\n",
    "\n",
    "@app.route('/formulario', methods=['GET', 'POST'])\n",
    "def formulario():\n",
    "    global df\n",
    "    form = InfoForm()\n",
    "    if form.validate_on_submit():\n",
    "        # procesar los datos del formulario\n",
    "        data = {\n",
    "            'Nombre': form.nombre.data,\n",
    "            'Fecha de Nacimiento': form.fecha_nacimiento.data,\n",
    "            'Sexo': form.sexo.data\n",
    "        }\n",
    "        # Convertir los datos a un DataFrame y agregarlos\n",
    "        df = pd.concat([df, pd.DataFrame([data])], ignore_index = True)\n",
    "    return render_template('formulario.html', form=form)\n",
    "\n",
    "if __name__ == '__main__':\n",
    "    app.run()\n"
   ]
  },
  {
   "cell_type": "code",
   "execution_count": 13,
   "id": "d3d58244",
   "metadata": {},
   "outputs": [
    {
     "data": {
      "text/html": [
       "<div>\n",
       "<style scoped>\n",
       "    .dataframe tbody tr th:only-of-type {\n",
       "        vertical-align: middle;\n",
       "    }\n",
       "\n",
       "    .dataframe tbody tr th {\n",
       "        vertical-align: top;\n",
       "    }\n",
       "\n",
       "    .dataframe thead th {\n",
       "        text-align: right;\n",
       "    }\n",
       "</style>\n",
       "<table border=\"1\" class=\"dataframe\">\n",
       "  <thead>\n",
       "    <tr style=\"text-align: right;\">\n",
       "      <th></th>\n",
       "      <th>Nombre</th>\n",
       "      <th>Fecha de Nacimiento</th>\n",
       "      <th>Sexo</th>\n",
       "    </tr>\n",
       "  </thead>\n",
       "  <tbody>\n",
       "    <tr>\n",
       "      <th>0</th>\n",
       "      <td>PABLO ANDRES</td>\n",
       "      <td>1983-01-23</td>\n",
       "      <td>M</td>\n",
       "    </tr>\n",
       "  </tbody>\n",
       "</table>\n",
       "</div>"
      ],
      "text/plain": [
       "         Nombre Fecha de Nacimiento Sexo\n",
       "0  PABLO ANDRES          1983-01-23    M"
      ]
     },
     "execution_count": 13,
     "metadata": {},
     "output_type": "execute_result"
    }
   ],
   "source": [
    "df"
   ]
  }
 ],
 "metadata": {
  "kernelspec": {
   "display_name": "Python 3 (ipykernel)",
   "language": "python",
   "name": "python3"
  },
  "language_info": {
   "codemirror_mode": {
    "name": "ipython",
    "version": 3
   },
   "file_extension": ".py",
   "mimetype": "text/x-python",
   "name": "python",
   "nbconvert_exporter": "python",
   "pygments_lexer": "ipython3",
   "version": "3.11.5"
  }
 },
 "nbformat": 4,
 "nbformat_minor": 5
}
