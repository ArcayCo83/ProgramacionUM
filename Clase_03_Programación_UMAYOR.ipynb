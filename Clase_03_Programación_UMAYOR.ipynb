{
  "nbformat": 4,
  "nbformat_minor": 0,
  "metadata": {
    "colab": {
      "provenance": [],
      "authorship_tag": "ABX9TyOWIXkU/rglVglvbbgcLX3H",
      "include_colab_link": true
    },
    "kernelspec": {
      "name": "python3",
      "display_name": "Python 3"
    },
    "language_info": {
      "name": "python"
    }
  },
  "cells": [
    {
      "cell_type": "markdown",
      "metadata": {
        "id": "view-in-github",
        "colab_type": "text"
      },
      "source": [
        "<a href=\"https://colab.research.google.com/github/ArcayCo83/ProgramacionUM/blob/main/Clase_03_Programaci%C3%B3n_UMAYOR.ipynb\" target=\"_parent\"><img src=\"https://colab.research.google.com/assets/colab-badge.svg\" alt=\"Open In Colab\"/></a>"
      ]
    },
    {
      "cell_type": "markdown",
      "source": [
        "Hoy vamos a aprender de la numeración en Python, además de las listas y otros tips que son muy importantes al momento de programar con esta herramienta.\n"
      ],
      "metadata": {
        "id": "10OQJc80l4zC"
      }
    },
    {
      "cell_type": "code",
      "source": [
        "# Ejemplo de lista\n",
        "\n",
        "## Creando una lista\n",
        "\n",
        "mi_lista = [1, 2, 3, 4, 5]\n",
        "\n",
        "# Acceda a los siguientes elementos de la lista: Primer elemento, tercer elemento, quinto elemento\n",
        "\n",
        "## Identifique la clase de cada uno de los elementos\n",
        "\n",
        "primer_elemento = mi_lista[0]\n",
        "type(primer_elemento)\n",
        "\n",
        "print(primer_elemento)\n"
      ],
      "metadata": {
        "colab": {
          "base_uri": "https://localhost:8080/"
        },
        "id": "Sy3JX6FMmEv8",
        "outputId": "efb47f73-cc19-46db-bef6-ee6a6e0a31ff"
      },
      "execution_count": 2,
      "outputs": [
        {
          "output_type": "stream",
          "name": "stdout",
          "text": [
            "1\n"
          ]
        }
      ]
    },
    {
      "cell_type": "markdown",
      "source": [
        "Es importante mencionar con esto que, los elementos dentro de una lista de Python empiezan en el 0 y no en el 1. Es decir, esto podríamos definirlo como:\n",
        "\n",
        "$$n_{elemento} = n_{lista} - 1$$\n",
        "\n",
        "Además, podremos usar el comando *type* para conocer qué tipo de elemento es el que estamos procesando en nuestra lista.\n",
        "\n",
        "Crea un programa en donde se imprima cada elemento y su clase."
      ],
      "metadata": {
        "id": "yGtfuFDMmq4n"
      }
    },
    {
      "cell_type": "code",
      "source": [
        "#Creamos la lista nueva\n",
        "\n",
        "listanueva = [1, 'a', 2, 'b', 3]\n",
        "\n",
        "primerelemento = listanueva[0]\n",
        "segundoelemento = listanueva[1]\n",
        "tercerelemento = listanueva[2]\n",
        "cuartoelemento = listanueva[3]\n",
        "quintoelemento = listanueva[4]\n",
        "\n",
        "print(primerelemento)\n",
        "print(segundoelemento)\n",
        "print(tercerelemento)\n",
        "print(cuartoelemento)\n",
        "print(quintoelemento)\n",
        "\n",
        "tipo_1 = type(primerelemento)\n",
        "tipo_2 = type(segundoelemento)\n",
        "tipo_3 = type(tercerelemento)\n",
        "tipo_4 = type(cuartoelemento)\n",
        "tipo_5 = type(quintoelemento)\n",
        "\n",
        "print(f'El valor del primer elemento es: ', primerelemento, 'y su clase es: ', tipo_1)"
      ],
      "metadata": {
        "colab": {
          "base_uri": "https://localhost:8080/"
        },
        "id": "dQfDuZFDn6rH",
        "outputId": "a95a502d-def9-4cb7-c9b1-c5c2094ce763"
      },
      "execution_count": 9,
      "outputs": [
        {
          "output_type": "stream",
          "name": "stdout",
          "text": [
            "1\n",
            "a\n",
            "2\n",
            "b\n",
            "3\n",
            "El valor del primer elemento es:  1 y su clase es:  <class 'int'>\n"
          ]
        }
      ]
    },
    {
      "cell_type": "markdown",
      "source": [
        "¿Qué problema encontramos en el código obtenido?\n",
        "¿Es claro a la vista?\n",
        "¿Es limpio?\n",
        "\n",
        "Para esto usaremos otra subfunción dentro de la función *type*"
      ],
      "metadata": {
        "id": "UzXIYqvXpTDY"
      }
    },
    {
      "cell_type": "code",
      "source": [
        "tipo_1 = type(primerelemento).__name__\n",
        "print(f'El valor del primer elemento es: ', primerelemento, 'y su clase es: ', tipo_1)"
      ],
      "metadata": {
        "colab": {
          "base_uri": "https://localhost:8080/"
        },
        "id": "TWsWhRvUpYSI",
        "outputId": "7a85818d-3f7d-4545-b562-eeeee192f0ca"
      },
      "execution_count": 10,
      "outputs": [
        {
          "output_type": "stream",
          "name": "stdout",
          "text": [
            "El valor del primer elemento es:  1 y su clase es:  int\n"
          ]
        }
      ]
    },
    {
      "cell_type": "markdown",
      "source": [
        "¿Qué hace el código al usar el argumento **__name__** ?\n",
        "\n",
        "Busca solo el nombre de la definición de la función y no toda la respuesta que se entrega en el código de la búsqueda del tipo de dato."
      ],
      "metadata": {
        "id": "t3an2DNlplzn"
      }
    },
    {
      "cell_type": "code",
      "source": [
        " ## Realice el código para obtener el tipo de dato e imprimirlo el de cada una de las listas"
      ],
      "metadata": {
        "id": "N2U_c6lKp82c"
      },
      "execution_count": null,
      "outputs": []
    },
    {
      "cell_type": "markdown",
      "source": [
        "Otro punto fundamental de las listas, es que se pueden ir 'actualizando', es decir, si se recaba más información de algún dato, este es actualizable en la lista asociada.\n",
        "\n",
        "Por ejemplo, la lista que creamos **listanueva** le agregaremos otro dato.\n",
        "\n",
        "Para esto, se usarsá el comando .append()"
      ],
      "metadata": {
        "id": "g8Bkkaq0qQqe"
      }
    },
    {
      "cell_type": "code",
      "source": [
        "#Agregar un nuevo dato a la lista que creamos:\n",
        "\n",
        "listanueva.append(True)\n",
        "\n",
        "print(listanueva)"
      ],
      "metadata": {
        "colab": {
          "base_uri": "https://localhost:8080/"
        },
        "id": "Iirw76ufqumK",
        "outputId": "70a63f63-1925-4ded-8fba-fbd9467ca468"
      },
      "execution_count": 11,
      "outputs": [
        {
          "output_type": "stream",
          "name": "stdout",
          "text": [
            "[1, 'a', 2, 'b', 3, True]\n"
          ]
        }
      ]
    },
    {
      "cell_type": "markdown",
      "source": [
        "¿Qué tipo de dato es el ingresado?\n",
        "\n",
        "Crea un código que permita acceder a él y saber su tipo de dato.\n",
        "\n",
        "¿En qué se caracterizan estos tipos de datos?\n"
      ],
      "metadata": {
        "id": "TbLFCqqzq_zL"
      }
    },
    {
      "cell_type": "code",
      "source": [
        "## Y si queremos eliminar un dato de la listanueva\n",
        "\n",
        "## Puede usar el comando .pop()\n",
        "\n",
        "## Entonces, elimine de la listanueva el cuarto elemento de la lista e imprima el resultado\n",
        "\n",
        "listanueva.pop(3)\n",
        "\n",
        "print(listanueva)"
      ],
      "metadata": {
        "colab": {
          "base_uri": "https://localhost:8080/"
        },
        "id": "AbnzqbxIYkIf",
        "outputId": "10a14743-e2c3-4db8-f5ca-d8984f82230c"
      },
      "execution_count": 12,
      "outputs": [
        {
          "output_type": "stream",
          "name": "stdout",
          "text": [
            "[1, 'a', 2, 3, True]\n"
          ]
        }
      ]
    },
    {
      "cell_type": "markdown",
      "source": [
        "Ahora recordemos un poco de Álgebra I"
      ],
      "metadata": {
        "id": "CK9rVU4oYuzn"
      }
    },
    {
      "cell_type": "code",
      "source": [
        "# Definir una lista de proposiciones con sus valores de verdad\n",
        "\n",
        "proposiciones = [ True, False, True, False ]\n",
        "print(proposiciones)\n",
        "\n"
      ],
      "metadata": {
        "colab": {
          "base_uri": "https://localhost:8080/"
        },
        "id": "SXA9bLXbq3nb",
        "outputId": "047be28e-9765-4153-fb9b-12184cb8a756"
      },
      "execution_count": 2,
      "outputs": [
        {
          "output_type": "stream",
          "name": "stdout",
          "text": [
            "[True, False, True, False]\n"
          ]
        },
        {
          "output_type": "execute_result",
          "data": {
            "text/plain": [
              "bool"
            ]
          },
          "metadata": {},
          "execution_count": 2
        }
      ]
    },
    {
      "cell_type": "markdown",
      "source": [
        "Analice el tipo de datos de cada una de las proposiciones mediante la extracción de cada uno de sus elementos.\n",
        "\n",
        "Ahora, ¿qué pasaría si definimos la lista?\n",
        "\n",
        "$ prop = [ T, F, T, F ] $"
      ],
      "metadata": {
        "id": "iLKUPgLxJOKh"
      }
    },
    {
      "cell_type": "code",
      "source": [
        "prop = [ T, F, T, F ]\n",
        "\n",
        "type(prop[1])"
      ],
      "metadata": {
        "colab": {
          "base_uri": "https://localhost:8080/",
          "height": 210
        },
        "id": "q7UwmTMvJdxq",
        "outputId": "73fbbc9f-ed01-4044-d6bf-73c12ea15f1e"
      },
      "execution_count": 3,
      "outputs": [
        {
          "output_type": "error",
          "ename": "NameError",
          "evalue": "ignored",
          "traceback": [
            "\u001b[0;31m---------------------------------------------------------------------------\u001b[0m",
            "\u001b[0;31mNameError\u001b[0m                                 Traceback (most recent call last)",
            "\u001b[0;32m<ipython-input-3-251fd1d67054>\u001b[0m in \u001b[0;36m<cell line: 1>\u001b[0;34m()\u001b[0m\n\u001b[0;32m----> 1\u001b[0;31m \u001b[0mprop\u001b[0m \u001b[0;34m=\u001b[0m \u001b[0;34m[\u001b[0m \u001b[0mT\u001b[0m\u001b[0;34m,\u001b[0m \u001b[0mF\u001b[0m\u001b[0;34m,\u001b[0m \u001b[0mT\u001b[0m\u001b[0;34m,\u001b[0m \u001b[0mF\u001b[0m \u001b[0;34m]\u001b[0m\u001b[0;34m\u001b[0m\u001b[0;34m\u001b[0m\u001b[0m\n\u001b[0m\u001b[1;32m      2\u001b[0m \u001b[0;34m\u001b[0m\u001b[0m\n\u001b[1;32m      3\u001b[0m \u001b[0mtype\u001b[0m\u001b[0;34m(\u001b[0m\u001b[0mprop\u001b[0m\u001b[0;34m[\u001b[0m\u001b[0;36m1\u001b[0m\u001b[0;34m]\u001b[0m\u001b[0;34m)\u001b[0m\u001b[0;34m\u001b[0m\u001b[0;34m\u001b[0m\u001b[0m\n",
            "\u001b[0;31mNameError\u001b[0m: name 'T' is not defined"
          ]
        }
      ]
    },
    {
      "cell_type": "markdown",
      "source": [
        "¿Y qué pasa si definimos la lista?\n",
        "\n",
        "$ prop2 = [ 0, 1, 0, 1 ] $"
      ],
      "metadata": {
        "id": "4ffgv9ZnJlZx"
      }
    },
    {
      "cell_type": "code",
      "source": [
        "prop2 = [ 0, 1, 0, 1 ]\n",
        "type(prop2[1])\n"
      ],
      "metadata": {
        "colab": {
          "base_uri": "https://localhost:8080/"
        },
        "id": "horhoJWgJtOK",
        "outputId": "f1747182-9067-477e-f210-1c23c42969e2"
      },
      "execution_count": 4,
      "outputs": [
        {
          "output_type": "execute_result",
          "data": {
            "text/plain": [
              "int"
            ]
          },
          "metadata": {},
          "execution_count": 4
        }
      ]
    },
    {
      "cell_type": "markdown",
      "source": [
        "Es por eso que es importante el poder definir los tipos de datos que componen nuestras listas, porque **en otros lenguajes de programación** es posible que:\n",
        "\n",
        "$ T = True = 1 $\n",
        "\n",
        "$ F = False = 0 $\n",
        "\n",
        "**RECUERDE ESTO PORQUE PODRÍA SER UNA PREGUNTA DE PRUEBA**"
      ],
      "metadata": {
        "id": "FWiPHTQMJ0bt"
      }
    },
    {
      "cell_type": "markdown",
      "source": [
        "# Comprobación de los ejercicios\n",
        "\n",
        "Ahora, usted deberá comprobar el valor de verdad de la siguiente proposición:\n",
        "\n",
        "$$ (p \\Lambda q) v (\\overline{r} \\Lambda s) $$"
      ],
      "metadata": {
        "id": "mBLptkXeKepw"
      }
    },
    {
      "cell_type": "code",
      "source": [
        "# Volvamos a nuestra lista proposiciones y vamos a asignarle elementos a esos valores de la lista\n",
        "\n",
        "p, q, r, s = proposiciones\n",
        "\n",
        "# ¿Qué estamos haciendo en esta línea de código?\n",
        "\n",
        "# Ahora calcular el valor de verdad basado en las proposiciones que asignamos\n",
        "\n",
        "# Para esto ocuparemos los operadores lógicos de Python and, or, not\n",
        "\n",
        "valorverdad = (p and q) or (not r and s)\n",
        "\n",
        "print(f'El valor de verdad es', valorverdad)"
      ],
      "metadata": {
        "colab": {
          "base_uri": "https://localhost:8080/"
        },
        "id": "tJ-X_2_EKMM3",
        "outputId": "36204336-518f-49c4-ed89-c575aa7a23cf"
      },
      "execution_count": 5,
      "outputs": [
        {
          "output_type": "stream",
          "name": "stdout",
          "text": [
            "El valor de verdad es False\n"
          ]
        }
      ]
    },
    {
      "cell_type": "markdown",
      "source": [
        "# Los operadores lógicos and, or y not\n",
        "\n",
        "Comprenda el uso de estos operadores para poder considerar los valores de verdad en una proposición computacional.\n",
        "\n",
        "Considere el siguiente ejemplo:\n",
        "\n",
        "Imagina que tienes dos cajas, una caja A y una caja B.\n",
        "\n",
        "El objetivo es **ESTAR FELIZ.**\n",
        "\n",
        "and es como decir \"si ambas cajas A y B tienen un juguete dentro, entonces yo estaré feliz\". Entonces, solo estarás feliz si ambas cajas tienen un juguete. Si una caja está vacía o si ambas están vacías, no estarás feliz.\n",
        "\n",
        "or es como decir \"si al menos una de las cajas A o B tiene un juguete dentro, entonces yo estaré feliz\". Entonces, estarás feliz si la caja A tiene un juguete, o si la caja B tiene un juguete, o si ambas cajas tienen un juguete. Solo estarás triste si ambas cajas están vacías.\n",
        "\n",
        "not es como decir \"lo opuesto\". Entonces, si la caja A tiene un juguete y dices \"not A\", eso significa \"no hay un juguete en la caja A\", lo cual es lo opuesto a la realidad.\n",
        "\n",
        "Entonces, usando and, or y not, puedes decir cosas como:\n",
        "\n",
        "A and B: \"Ambas cajas A y B tienen un juguete\".\n",
        "A or B: \"Al menos una de las cajas A o B tiene un juguete\".\n",
        "not A: \"La caja A no tiene un juguete\"."
      ],
      "metadata": {
        "id": "yLT5GLWaNFuQ"
      }
    },
    {
      "cell_type": "markdown",
      "source": [
        "# Diccionarios\n",
        "\n",
        " A diferencia de las listas, los diccionarios usan el formato clave - valor.\n",
        "\n",
        " ¿Conoces la paleta de colores hexadecimal?\n",
        "\n",
        " [Conócela aquí](https://www.colorhexmap.com/?gclid=Cj0KCQjwi7GnBhDXARIsAFLvH4lm8HF3ydMzmWrQGWFrXryDJ8VVK7JXwXC7k24OD9KM3XjBsL3tC44aAspBEALw_wcB)"
      ],
      "metadata": {
        "id": "B6xh7swBMjVW"
      }
    },
    {
      "cell_type": "code",
      "source": [
        "# Construyamos un diccionario de colores y sus valores hexadecimales\n",
        "\n",
        "colores = { 'rojo': '#FF0000',\n",
        "            'verde': '#00FF00',\n",
        "            'azul': '#0000FF'\n",
        "            }\n",
        "\n",
        "  # ¿Qué obtienes si imprimes el diccionario?\n"
      ],
      "metadata": {
        "colab": {
          "base_uri": "https://localhost:8080/"
        },
        "id": "akvn9xpdNEWI",
        "outputId": "3f10b70b-936b-4403-eae8-9d46ca539cb1"
      },
      "execution_count": 7,
      "outputs": [
        {
          "output_type": "stream",
          "name": "stdout",
          "text": [
            "{'rojo': '#FF0000', 'verde': '#00FF00', 'azul': '#0000FF'}\n"
          ]
        }
      ]
    },
    {
      "cell_type": "markdown",
      "source": [
        "# Ejercicios de diccionarios\n"
      ],
      "metadata": {
        "id": "KlUylASEWgfo"
      }
    },
    {
      "cell_type": "code",
      "source": [
        "frutas = { 'manzana': 'roja',\n",
        "          'banana': 'amarilla',\n",
        "           'naranja': 'naranja'\n",
        "           }\n",
        "# Recuerde el Zen de Python para poder entender los espacios que uno toma\n",
        "\n",
        "print(frutas)"
      ],
      "metadata": {
        "id": "l1jHZDrMXT8s"
      },
      "execution_count": null,
      "outputs": []
    },
    {
      "cell_type": "markdown",
      "source": [
        "¿Y cómo añadimos una nueva fruta?\n",
        "\n",
        "A diferencia de las listas que usamos el comando *.append()*.\n",
        "\n",
        "En un diccionario usamos **EL NOMBRE DEL DICCIONARIO** y luego **[ ' clave ']** para añadir el elemento e **= 'valor'**\n",
        "\n",
        "Añada ahora la fruta sandía al diccionario de frutas."
      ],
      "metadata": {
        "id": "dYD5d1nhX4Ux"
      }
    }
  ]
}