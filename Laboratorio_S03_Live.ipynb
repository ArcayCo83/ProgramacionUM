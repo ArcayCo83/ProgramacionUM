{
  "nbformat": 4,
  "nbformat_minor": 0,
  "metadata": {
    "colab": {
      "provenance": [],
      "authorship_tag": "ABX9TyMk7SNnnxmefQNt9y9aoxMG",
      "include_colab_link": true
    },
    "kernelspec": {
      "name": "python3",
      "display_name": "Python 3"
    },
    "language_info": {
      "name": "python"
    }
  },
  "cells": [
    {
      "cell_type": "markdown",
      "metadata": {
        "id": "view-in-github",
        "colab_type": "text"
      },
      "source": [
        "<a href=\"https://colab.research.google.com/github/ArcayCo83/ProgramacionUM/blob/main/Laboratorio_S03_Live.ipynb\" target=\"_parent\"><img src=\"https://colab.research.google.com/assets/colab-badge.svg\" alt=\"Open In Colab\"/></a>"
      ]
    },
    {
      "cell_type": "markdown",
      "source": [
        "# Laboratorio Semana 3\n",
        "\n",
        "El día de hoy vamos a practicar ejercicios para la prueba.\n",
        "\n",
        "## Ejercicio 01\n",
        "\n",
        "Redacte en formato LaTeX el siguiente enunciado:\n",
        "\n",
        "El triple de un número que está entre 10 y 25 inclusive, sumado por la suma de los cuadrados de ese número menos cinco veces el mismo número."
      ],
      "metadata": {
        "id": "MG5E-FYLHXxY"
      }
    },
    {
      "cell_type": "markdown",
      "source": [
        "# Respuesta en LaTeX\n",
        "\n",
        "$$ 3x + x^2 - 5x $$"
      ],
      "metadata": {
        "id": "nLlFhu3MHibQ"
      }
    },
    {
      "cell_type": "code",
      "execution_count": null,
      "metadata": {
        "id": "jNpNUSmYHLx1"
      },
      "outputs": [],
      "source": [
        "def ejercicio01(x):\n",
        "  # El dominio de la función está entre [10, 25]\n",
        "  if 10 <= x <= 25:\n",
        "    # Qué pasa si x está en el dominio\n",
        "    imagen = 3*x + x**2 - 5*x\n",
        "    return imagen\n",
        "  else:\n",
        "    return 'Error, el número no está en el dominio'"
      ]
    },
    {
      "cell_type": "code",
      "source": [
        "ejercicio01(33)"
      ],
      "metadata": {
        "colab": {
          "base_uri": "https://localhost:8080/",
          "height": 36
        },
        "id": "7ArLhEZdKCkx",
        "outputId": "fb75db27-8424-4d64-baba-86f7e3818b9c"
      },
      "execution_count": null,
      "outputs": [
        {
          "output_type": "execute_result",
          "data": {
            "text/plain": [
              "'Error, el número no está en el dominio'"
            ],
            "application/vnd.google.colaboratory.intrinsic+json": {
              "type": "string"
            }
          },
          "metadata": {},
          "execution_count": 4
        }
      ]
    },
    {
      "cell_type": "markdown",
      "source": [
        "# Demuestre\n",
        "\n",
        "Calcule los resultados para su función creada *(la función ejercicio01(x))* para los siguientes números:\n",
        "  + 10\n",
        "  + 14\n",
        "  + 15\n",
        "  + 21\n",
        "  + 33\n",
        "\n",
        "Imprima los resultados de cada uno de las operaciones ejecutadas con su función *ejercicio01(x)* usando **SOLO UNA FUNCIÓN print**."
      ],
      "metadata": {
        "id": "HitlpA1XKQ5B"
      }
    },
    {
      "cell_type": "code",
      "source": [
        "valor10 = ejercicio01(10)\n",
        "valor14 = ejercicio01(14)\n",
        "valor15 = ejercicio01(15)\n",
        "valor21 = ejercicio01(21)\n",
        "valor33 = ejercicio01(33)\n",
        "\n",
        "print(f'El valor de la imagen para 10 es:', valor10, '\\n',\n",
        "      'El valor de la imagen para 14 es:', valor14, '\\n',\n",
        "      'El valor de la imagen para 15 es:', valor15, '\\n',\n",
        "      'El valor de la imagen para 21 es:', valor21, '\\n',\n",
        "      'El valor de la imagen para 33 es:', valor33)"
      ],
      "metadata": {
        "colab": {
          "base_uri": "https://localhost:8080/"
        },
        "id": "29JmEXyxLpRJ",
        "outputId": "f18cd748-968f-4139-9bdf-255c9a71b372"
      },
      "execution_count": null,
      "outputs": [
        {
          "output_type": "stream",
          "name": "stdout",
          "text": [
            "El valor de la imagen para 10 es: 80 \n",
            " El valor de la imagen para 14 es: 168 \n",
            " El valor de la imagen para 15 es: 195 \n",
            " El valor de la imagen para 21 es: 399 \n",
            " El valor de la imagen para 33 es: Error, el número no está en el dominio\n"
          ]
        }
      ]
    },
    {
      "cell_type": "code",
      "source": [
        "## FORMA INCORRECTA DE HACERLO CON BACK TO BACK CODE\n",
        "\n",
        "print(f'El valor de la imagen para 10 es:', valor10,\n",
        "      'El valor de la imagen para 14 es:', valor14,\n",
        "      'El valor de la imagen para 15 es:', valor15,\n",
        "      'El valor de la imagen para 21 es:', valor21,\n",
        "      'El valor de la imagen para 33 es:', valor33)"
      ],
      "metadata": {
        "colab": {
          "base_uri": "https://localhost:8080/"
        },
        "id": "XS6UfxCHMUEQ",
        "outputId": "0a0a7980-d8bf-4581-8047-1e40bc5e6e1c"
      },
      "execution_count": null,
      "outputs": [
        {
          "output_type": "stream",
          "name": "stdout",
          "text": [
            "El valor de la imagen para 10 es: 80 El valor de la imagen para 14 es: 168 El valor de la imagen para 15 es: 195 El valor de la imagen para 21 es: 399 El valor de la imagen para 33 es: Error, el número no está en el dominio\n"
          ]
        }
      ]
    },
    {
      "cell_type": "markdown",
      "source": [
        "# Ejercicio 02\n",
        "\n",
        "Para el siguiente enunciado, cree la definición en LaTeX y luego haga la fórmula respectiva para el caso:\n",
        "\n",
        "La suma de los números que están entre [-2,5] más la suma de los cuadrados de esos números menos tres."
      ],
      "metadata": {
        "id": "y7ySgCXLMw7n"
      }
    },
    {
      "cell_type": "markdown",
      "source": [
        "# En LaTeX\n",
        "\n",
        "$$ \\sum_{i = -2}^5 i + i^2 - 3 $$"
      ],
      "metadata": {
        "id": "z6zXWsqiM8em"
      }
    },
    {
      "cell_type": "markdown",
      "source": [
        "# Respuesta 02 en código\n",
        "\n",
        "Para crear el código del enunciado, este nos dice que debemos **RECORRER** los números desde el -2 hasta el 5.\n",
        "\n",
        "Como hay que **RECORRER** números, se debe usar el bucle **for**.\n",
        "\n",
        "Recuerda que siempre que vayas a usar una **SUMATORIA** debes **INICIALIZAR LA SUMA EN 0**."
      ],
      "metadata": {
        "id": "d9Ro46ykNTAD"
      }
    },
    {
      "cell_type": "code",
      "source": [
        "suma = 0\n",
        "\n",
        "# Recorrer los números del -2 hasta el 5\n",
        "\n",
        "for i in range(-2, 6): # Recuerde que siempre le debe sumar 1 al límite superior\n",
        "  suma = suma + (i + i**2 - 3)\n",
        "  print('Aquí vemos el paso a paso de la suma', suma)\n",
        "\n",
        "print('Acá solo vemos el resultado de la suma', suma)\n"
      ],
      "metadata": {
        "colab": {
          "base_uri": "https://localhost:8080/"
        },
        "id": "iZG0L5fkNMm6",
        "outputId": "c71cf53f-8931-4bfa-c64f-2db160514869"
      },
      "execution_count": null,
      "outputs": [
        {
          "output_type": "stream",
          "name": "stdout",
          "text": [
            "Aquí vemos el paso a paso de la suma -1\n",
            "Aquí vemos el paso a paso de la suma -4\n",
            "Aquí vemos el paso a paso de la suma -7\n",
            "Aquí vemos el paso a paso de la suma -8\n",
            "Aquí vemos el paso a paso de la suma -5\n",
            "Aquí vemos el paso a paso de la suma 4\n",
            "Aquí vemos el paso a paso de la suma 21\n",
            "Aquí vemos el paso a paso de la suma 48\n",
            "Acá solo vemos el resultado de la suma 48\n"
          ]
        }
      ]
    },
    {
      "cell_type": "markdown",
      "source": [
        "# Opción 2\n",
        "\n",
        "Para la asignación de código, si te das cuenta, en la línea del **for** usamos:\n",
        "\n",
        "suma = **suma** + (i + i**2 - 3)\n",
        "\n",
        "Pero esto puede resumirse de la siguiente manera:\n",
        "\n",
        "suma **+=** (i + i**2 - 3)\n",
        "\n",
        "¿Qué significa el operador **+=**?\n",
        "\n",
        "Cuando usamos este operador, le damos la chance al código de **AHORRARSE ESPACIO Y POR ENDE BITS DE INFORMACIÓN** Haciendo más eficiente el cálculo y por ello más rápido, **ESTO ES PRIMORDIALMENTE ÚTIL CUANDO SE TRABAJA CON GRANDES SET DE DATOS**.\n",
        "\n",
        "Pongámoslo a prueba:"
      ],
      "metadata": {
        "id": "KKekpM0dOU37"
      }
    },
    {
      "cell_type": "code",
      "source": [
        "suma_opcion2 = 0\n",
        "\n",
        "for i in range(-2, 6):\n",
        "  suma_opcion2 += i + i**2 - 3\n",
        "  print('Aquí vemos el paso a paso de la suma opción 2:', suma_opcion2)\n",
        "\n",
        "print('La suma de los números es', suma_opcion2)\n"
      ],
      "metadata": {
        "colab": {
          "base_uri": "https://localhost:8080/"
        },
        "id": "QMrVRQakOsRc",
        "outputId": "845d7678-a218-4b10-ab45-8a8ff96ba491"
      },
      "execution_count": null,
      "outputs": [
        {
          "output_type": "stream",
          "name": "stdout",
          "text": [
            "Aquí vemos el paso a paso de la suma opción 2: -1\n",
            "Aquí vemos el paso a paso de la suma opción 2: -4\n",
            "Aquí vemos el paso a paso de la suma opción 2: -7\n",
            "Aquí vemos el paso a paso de la suma opción 2: -8\n",
            "Aquí vemos el paso a paso de la suma opción 2: -5\n",
            "Aquí vemos el paso a paso de la suma opción 2: 4\n",
            "Aquí vemos el paso a paso de la suma opción 2: 21\n",
            "Aquí vemos el paso a paso de la suma opción 2: 48\n",
            "La suma de los números es 48\n"
          ]
        }
      ]
    },
    {
      "cell_type": "markdown",
      "source": [
        "# Ejercicio 03\n",
        "\n",
        "Construcción de una lista a través de un rango, usando un iterador.\n",
        "\n",
        "Construya una lista que incluya los números del 1 al 99, pero a través de un iterador.\n",
        "\n",
        "Recuerde que en la otra nomenclatura, usted puede crear una lista usando esto:\n",
        "\n",
        "lista_antes = list(range(1, 99+1, 1)\n",
        "\n",
        "De este modo usted crearía una lista con los números del 1 al 99 de uno en uno.\n",
        "\n",
        "Pero ahora se le ha pedido construirla usando un iterador."
      ],
      "metadata": {
        "id": "xMYmRlXOSV4w"
      }
    },
    {
      "cell_type": "code",
      "source": [
        "lista_antes = list(range(1, 99+1, 1))\n",
        "\n",
        "# Construir con un iterador\n",
        "\n",
        "lista_ahora = []\n",
        "\n",
        "rango = range(1,99+1)\n",
        "\n",
        "for numero in rango:\n",
        "  lista_ahora.append(numero)\n"
      ],
      "metadata": {
        "id": "TyPTGHFZSXtJ"
      },
      "execution_count": null,
      "outputs": []
    },
    {
      "cell_type": "markdown",
      "source": [
        "# Ahora viene lo chido\n",
        "\n",
        "Ahora que ya construiste el iterador, vamos a darle operaciones iterables a nuestro rango, para ello deberás construir dentro de la misma función las siguientes funciones:\n",
        "\n",
        "  + La suma de los cuadrados del 1 hasta el 15\n",
        "  + La suma de los cubos del 20 al 30\n",
        "  + La suma de todos los cubos del 50 al 60 menos los cuadrados del 30 al 50 más el doble de la suma de los números del 90 al final"
      ],
      "metadata": {
        "id": "5hqg8Sb2TER2"
      }
    },
    {
      "cell_type": "markdown",
      "source": [
        "# Primero a LaTeX\n",
        "\n",
        "## Suma de los cuadrados del 1 al 15\n",
        "\n",
        "$$ \\sum_{i = 1}^{15} i^2 $$\n",
        "\n",
        "## Suma de los cubos del 20 al 30\n",
        "\n",
        "$$ \\sum_{i = 20}^{30} i^3 $$\n",
        "\n",
        "## Suma final\n",
        "\n",
        " $$ \\sum_{i = 50}^{60} i^3 - \\sum_{i = 30}^{50} i^2 + \\sum_{i = 90}^{99} 2i$$"
      ],
      "metadata": {
        "id": "aHeAf6cGTTWj"
      }
    },
    {
      "cell_type": "code",
      "source": [
        "# IMPORTANTE\n",
        "# Debe llenar la lista para crear el gran iterador\n",
        "# Todas las SUMAS deben partir en 0\n",
        "\n",
        "rango_chido = range(1, 99+1) #Rango del 1 al 99\n",
        "lista_chida = []\n",
        "suma_cuadrados = 0\n",
        "suma_cubos_20al30 = 0\n",
        "suma_final = 0\n",
        "\n",
        "for i in rango_chido:\n",
        "  lista_chida.append(i)\n",
        "\n",
        "  #Sumar los cuadrados del 1 al 15\n",
        "  if 1 <= i <= 15:\n",
        "    suma_cuadrados += i**2\n",
        "\n",
        "  #Sumar los cubos del 20 al 30\n",
        "  if 20 <= i <= 30:\n",
        "    suma_cubos_20al30 += i**3\n",
        "\n",
        "  #Suma final\n",
        "  if 50 <= i <= 60:\n",
        "    suma_final += i**3\n",
        "\n",
        "  elif 30 <= i <= 50:\n",
        "    suma_final -= i**2\n",
        "\n",
        "  elif i >= 90:\n",
        "    suma_final += 2*i\n",
        "\n",
        "print(f'La suma de los cuadrados del 1 al 15 es:', suma_cuadrados, '\\n',\n",
        "      'La suma de los cubos del 20 al 30 es:', suma_cubos_20al30, '\\n',\n",
        "      'La suma final es:', suma_final)\n"
      ],
      "metadata": {
        "colab": {
          "base_uri": "https://localhost:8080/"
        },
        "id": "DJy_R0N2Td4P",
        "outputId": "e799f940-7441-4b2d-fec6-6da5d0303f71"
      },
      "execution_count": null,
      "outputs": [
        {
          "output_type": "stream",
          "name": "stdout",
          "text": [
            "La suma de los cuadrados del 1 al 15 es: 1240 \n",
            " La suma de los cubos del 20 al 30 es: 180125 \n",
            " La suma final es: 1818295\n"
          ]
        }
      ]
    }
  ]
}