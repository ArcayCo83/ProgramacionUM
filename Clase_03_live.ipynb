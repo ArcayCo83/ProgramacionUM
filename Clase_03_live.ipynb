{
  "nbformat": 4,
  "nbformat_minor": 0,
  "metadata": {
    "colab": {
      "provenance": [],
      "authorship_tag": "ABX9TyPNI6LOIqnv8euVOMY1xa6u",
      "include_colab_link": true
    },
    "kernelspec": {
      "name": "python3",
      "display_name": "Python 3"
    },
    "language_info": {
      "name": "python"
    }
  },
  "cells": [
    {
      "cell_type": "markdown",
      "metadata": {
        "id": "view-in-github",
        "colab_type": "text"
      },
      "source": [
        "<a href=\"https://colab.research.google.com/github/ArcayCo83/ProgramacionUM/blob/main/Clase_03_live.ipynb\" target=\"_parent\"><img src=\"https://colab.research.google.com/assets/colab-badge.svg\" alt=\"Open In Colab\"/></a>"
      ]
    },
    {
      "cell_type": "code",
      "execution_count": null,
      "metadata": {
        "colab": {
          "base_uri": "https://localhost:8080/"
        },
        "id": "7TtdnUg0kcwl",
        "outputId": "19c5a3a3-88d8-456b-9212-18080c1ff4b4"
      },
      "outputs": [
        {
          "output_type": "stream",
          "name": "stdout",
          "text": [
            "3\n"
          ]
        }
      ],
      "source": [
        "mi_lista = [ 1, 2, 3, 4, 5,\n",
        "            6, 7, 8, 9, 10,\n",
        "             11, 12, 13, 14, 15,\n",
        "             16, 17, 18, 19, 20 ]\n",
        "tercerelemento = mi_lista[2]\n",
        "print(tercerelemento)\n",
        "## Pésima práctica back to back code"
      ]
    },
    {
      "cell_type": "markdown",
      "source": [
        "¿Qué es el back to back code?\n",
        "\n",
        "Es la práctica de ir de lado a lado en cualquier entorno de programación no respetando los espacios y haciéndolo más difícil de entender.\n"
      ],
      "metadata": {
        "id": "06F0nD_9lJCg"
      }
    },
    {
      "cell_type": "code",
      "source": [
        "# Ejemplo back to back code\n",
        "\n",
        "lista2 = [1,2,3,4,5,6,7,8,9,10,11,12,13,14,15,16,17,18,19,20]"
      ],
      "metadata": {
        "id": "IFI3-uO_lzdk"
      },
      "execution_count": null,
      "outputs": []
    },
    {
      "cell_type": "markdown",
      "source": [
        "Describa qué condiciones inapropiadas encuentra en la *lista2*"
      ],
      "metadata": {
        "id": "tMTDerWal9za"
      }
    },
    {
      "cell_type": "markdown",
      "source": [
        "# Numeración en Python\n",
        "\n",
        "La importancia de la numeración es para poder extraer los elementos de manera apropiada.\n",
        "\n",
        "Todo elemento en Python parte en el 0\n",
        "\n",
        "Es decir\n",
        "\n",
        "Primer elemento = posición 0\n",
        "\n",
        "Segundo elemento = posición 1\n",
        "\n",
        "Tercer elemento = posición 2...\n",
        "\n",
        "$$n_{elemento} = num_{elemento} - 1$$"
      ],
      "metadata": {
        "id": "hjG76CPGnOK1"
      }
    },
    {
      "cell_type": "markdown",
      "source": [
        "# Índice\n",
        "\n",
        "Valor posicional de un elemento dentro de una lista, diccionario o tupla."
      ],
      "metadata": {
        "id": "hRoq2Zi7oB18"
      }
    },
    {
      "cell_type": "markdown",
      "source": [
        "# Ejercicio\n",
        "\n",
        "Calcule para *mi_lista* el siguiente ejercicio:\n",
        "\n",
        "La suma del cuadrado del tercer elemento con la diferencia del doble del quinto menos el duodécimo.\n",
        "\n",
        "$$ x_{3}^2 + (2x_{5} - x_{12}) $$\n"
      ],
      "metadata": {
        "id": "muhL0FlQoOru"
      }
    },
    {
      "cell_type": "code",
      "source": [
        "ejercicio = mi_lista[3-1]**2 + (2 * mi_lista[5-1] - mi_lista[12 - 1])\n",
        "print(f'El resultado del ejercicio es:', ejercicio)"
      ],
      "metadata": {
        "colab": {
          "base_uri": "https://localhost:8080/"
        },
        "id": "ETOn-rPZrB7m",
        "outputId": "89a16064-220d-4ac0-c169-f03c7a1ac26f"
      },
      "execution_count": null,
      "outputs": [
        {
          "output_type": "stream",
          "name": "stdout",
          "text": [
            "El resultado del ejercicio es: 7\n"
          ]
        }
      ]
    },
    {
      "cell_type": "markdown",
      "source": [
        "Calcule para *mi_lista* el siguiente ejercicio, colocando el enunciado en LaTeX:\n",
        "\n",
        "La división entre la raíz del quinto elemento multiplicado por el séptimo con la diferencia entre el triple del sexto y el primero.\n",
        "\n",
        "$$ \\frac{\\sqrt{x_5} \\times x_7}{3 x_6 - x_1} $$\n",
        "\n",
        "Luego, ejecute el código asociado."
      ],
      "metadata": {
        "id": "n-lFstZcrmi0"
      }
    },
    {
      "cell_type": "code",
      "source": [
        "quintoelem = mi_lista[5-1]\n",
        "septimoelem = mi_lista[7-1]\n",
        "sextoelem = mi_lista[6-1]\n",
        "primerelem = mi_lista[1-1]\n",
        "\n",
        "numerador = quintoelem**(1/2) * septimoelem\n",
        "denominador = 3 * sextoelem - primerelem\n",
        "\n",
        "resultado = numerador/denominador\n",
        "\n",
        "print(f'El resultado de la operación es:', resultado)"
      ],
      "metadata": {
        "colab": {
          "base_uri": "https://localhost:8080/"
        },
        "id": "iIcQ8zBMroMT",
        "outputId": "57c4aace-d55e-40a2-c0a4-b31fa34ac4f4"
      },
      "execution_count": null,
      "outputs": [
        {
          "output_type": "stream",
          "name": "stdout",
          "text": [
            "El resultado de la operación es: 0.9207338730881487\n"
          ]
        }
      ]
    },
    {
      "cell_type": "code",
      "source": [
        "#Creamos la lista nueva\n",
        "\n",
        "listanueva = [1, 'a', 2, 'b', 3]\n",
        "\n",
        "primerelemento = listanueva[0]\n",
        "segundoelemento = listanueva[1]\n",
        "tercerelemento = listanueva[2]\n",
        "cuartoelemento = listanueva[3]\n",
        "quintoelemento = listanueva[4]\n",
        "\n",
        "print(primerelemento)\n",
        "print(segundoelemento)\n",
        "print(tercerelemento)\n",
        "print(cuartoelemento)\n",
        "print(quintoelemento)\n",
        "\n",
        "tipo_1 = type(primerelemento)\n",
        "tipo_2 = type(segundoelemento)\n",
        "tipo_3 = type(tercerelemento)\n",
        "tipo_4 = type(cuartoelemento)\n",
        "tipo_5 = type(quintoelemento)\n",
        "\n",
        "print(f'El valor del primer elemento es: ',\n",
        "      primerelemento,\n",
        "      'y su clase es: ', tipo_1)\n",
        "print(f'El valor del segundo elemento es: ',\n",
        "      segundoelemento,\n",
        "      'y su clase es: ', tipo_2)"
      ],
      "metadata": {
        "colab": {
          "base_uri": "https://localhost:8080/"
        },
        "id": "UU681wxQ1veg",
        "outputId": "d65f6d22-5b36-44c1-c690-08cd2dc2be37"
      },
      "execution_count": null,
      "outputs": [
        {
          "output_type": "stream",
          "name": "stdout",
          "text": [
            "1\n",
            "a\n",
            "2\n",
            "b\n",
            "3\n",
            "El valor del primer elemento es:  1 y su clase es:  <class 'int'>\n",
            "El valor del segundo elemento es:  a y su clase es:  <class 'str'>\n"
          ]
        }
      ]
    },
    {
      "cell_type": "markdown",
      "source": [
        "¿Cómo limpiar mi código?\n",
        "\n",
        "Evitar que aparezca <class '...'>"
      ],
      "metadata": {
        "id": "6Ij-EYgW23J4"
      }
    },
    {
      "cell_type": "code",
      "source": [
        "tipo_1 = type(primerelemento).__name__\n",
        "print(f'El valor del primer elemento es: ',\n",
        "      primerelemento,\n",
        "      'y su clase es: ', tipo_1)\n",
        "tipo_2 = type(segundoelemento).__name__\n",
        "print(f'El valor del segundo elemento es: ',\n",
        "      segundoelemento,\n",
        "      'y su clase es: ', tipo_2)\n"
      ],
      "metadata": {
        "colab": {
          "base_uri": "https://localhost:8080/"
        },
        "id": "xO5LlR_u3FBI",
        "outputId": "b016d5f8-faba-44b8-cdae-baa27bcb3e27"
      },
      "execution_count": null,
      "outputs": [
        {
          "output_type": "stream",
          "name": "stdout",
          "text": [
            "El valor del primer elemento es:  1 y su clase es:  int\n",
            "El valor del segundo elemento es:  a y su clase es:  str\n"
          ]
        }
      ]
    },
    {
      "cell_type": "markdown",
      "source": [
        "# Clases de datos\n",
        "\n",
        "## int\n",
        "\n",
        "Int es Integer, lo cual indica un número entero\n",
        "\n",
        "## str\n",
        "\n",
        "Str es String, lo cual indica que es una cadena de texto\n",
        "\n",
        "## bool\n",
        "\n",
        "Bool es boolean ,lo cual indica que es un dato Verdadero o Falso\n",
        "\n",
        "## float\n",
        "\n",
        "Float es Float, lo cual indica que es un dato tipo decimal\n",
        "\n"
      ],
      "metadata": {
        "id": "Isfi_bWS3Xnj"
      }
    },
    {
      "cell_type": "markdown",
      "source": [
        "Otro punto fundamental de las listas, es que se pueden ir 'actualizando', es decir, si se recaba más información de algún dato, este es actualizable en la lista asociada.\n",
        "\n",
        "Por ejemplo, la lista que creamos **listanueva** le agregaremos otro dato.\n",
        "\n",
        "Para esto, se usarsá el comando .append()"
      ],
      "metadata": {
        "id": "tikHPRlQ4PDx"
      }
    },
    {
      "cell_type": "code",
      "source": [
        "listanueva.append(True)\n",
        "# Recordar que Python es Case Sensitive\n",
        "listanueva\n",
        "\n",
        "sextoelemento = listanueva[5]\n",
        "\n",
        "type(sextoelemento)"
      ],
      "metadata": {
        "colab": {
          "base_uri": "https://localhost:8080/"
        },
        "id": "85JUecGX4Uxy",
        "outputId": "dbb19014-ea7d-4b90-df2e-b1658175685d"
      },
      "execution_count": null,
      "outputs": [
        {
          "output_type": "execute_result",
          "data": {
            "text/plain": [
              "bool"
            ]
          },
          "metadata": {},
          "execution_count": 15
        }
      ]
    },
    {
      "cell_type": "code",
      "source": [
        "compras = [ 'Pan', 'papas', 'fideos', 'arroz', 'aceite' ]\n",
        "print(compras)\n",
        "\n",
        "compras.append('tomates')\n",
        "\n",
        "print(compras)\n",
        "\n",
        "type(compras[0])\n",
        "\n",
        "# El comando .pop() sirve para eliminar elementos por su orden posicional (índice)\n",
        "\n",
        "compras.pop(3)\n",
        "\n",
        "print(compras)\n"
      ],
      "metadata": {
        "colab": {
          "base_uri": "https://localhost:8080/"
        },
        "id": "n6BWIp_442Lx",
        "outputId": "e94b39f5-d976-4ff4-a37e-56c9717c4d91"
      },
      "execution_count": null,
      "outputs": [
        {
          "output_type": "stream",
          "name": "stdout",
          "text": [
            "['Pan', 'papas', 'fideos', 'arroz', 'aceite']\n",
            "['Pan', 'papas', 'fideos', 'arroz', 'aceite', 'tomates']\n",
            "['Pan', 'papas', 'fideos', 'aceite', 'tomates']\n"
          ]
        }
      ]
    },
    {
      "cell_type": "markdown",
      "source": [
        "Recordemos Álgebra I"
      ],
      "metadata": {
        "id": "CHSoR4sR6Ars"
      }
    },
    {
      "cell_type": "code",
      "source": [
        "# Definir una lista de proposiciones con sus valores de verdad\n",
        "\n",
        "proposiciones = [ True, False, True, False ]\n",
        "print(proposiciones)\n",
        "\n"
      ],
      "metadata": {
        "colab": {
          "base_uri": "https://localhost:8080/"
        },
        "id": "mW6P5Gqp6EAY",
        "outputId": "762b4e07-d65f-40f5-918f-16e9515a1d65"
      },
      "execution_count": null,
      "outputs": [
        {
          "output_type": "stream",
          "name": "stdout",
          "text": [
            "[True, False, True, False]\n"
          ]
        },
        {
          "output_type": "execute_result",
          "data": {
            "text/plain": [
              "bool"
            ]
          },
          "metadata": {},
          "execution_count": 27
        }
      ]
    },
    {
      "cell_type": "markdown",
      "source": [
        "Analice el tipo de datos de cada una de las proposiciones mediante la extracción de cada uno de sus elementos.\n",
        "\n",
        "Ahora, ¿qué pasaría si definimos la lista?\n",
        "\n",
        "$ prop = [ T, F, T, F ] $"
      ],
      "metadata": {
        "id": "ltUFRy4e6ZsG"
      }
    },
    {
      "cell_type": "code",
      "source": [
        "prop = [T, F, T, F]"
      ],
      "metadata": {
        "colab": {
          "base_uri": "https://localhost:8080/",
          "height": 176
        },
        "id": "Uvcfamdi6jip",
        "outputId": "76194915-0c00-4543-894f-35b87d335c68"
      },
      "execution_count": null,
      "outputs": [
        {
          "output_type": "error",
          "ename": "NameError",
          "evalue": "ignored",
          "traceback": [
            "\u001b[0;31m---------------------------------------------------------------------------\u001b[0m",
            "\u001b[0;31mNameError\u001b[0m                                 Traceback (most recent call last)",
            "\u001b[0;32m<ipython-input-28-8e705aff5f72>\u001b[0m in \u001b[0;36m<cell line: 1>\u001b[0;34m()\u001b[0m\n\u001b[0;32m----> 1\u001b[0;31m \u001b[0mprop\u001b[0m \u001b[0;34m=\u001b[0m \u001b[0;34m[\u001b[0m\u001b[0mT\u001b[0m\u001b[0;34m,\u001b[0m \u001b[0mF\u001b[0m\u001b[0;34m,\u001b[0m \u001b[0mT\u001b[0m\u001b[0;34m,\u001b[0m \u001b[0mF\u001b[0m\u001b[0;34m]\u001b[0m\u001b[0;34m\u001b[0m\u001b[0;34m\u001b[0m\u001b[0m\n\u001b[0m",
            "\u001b[0;31mNameError\u001b[0m: name 'T' is not defined"
          ]
        }
      ]
    },
    {
      "cell_type": "code",
      "source": [
        "prop2 = [ 0, 1, 0, 1 ]\n",
        "type(prop2[0])"
      ],
      "metadata": {
        "colab": {
          "base_uri": "https://localhost:8080/"
        },
        "id": "pdyJuOh26ybs",
        "outputId": "be9299f3-7973-4f17-b5ed-30a0ce01db89"
      },
      "execution_count": null,
      "outputs": [
        {
          "output_type": "execute_result",
          "data": {
            "text/plain": [
              "int"
            ]
          },
          "metadata": {},
          "execution_count": 29
        }
      ]
    },
    {
      "cell_type": "markdown",
      "source": [
        "Es por eso que es importante el poder definir los tipos de datos que componen nuestras listas, porque **en otros lenguajes de programación** es posible que:\n",
        "\n",
        "$ T = True = 1 $\n",
        "\n",
        "$ F = False = 0 $\n",
        "\n",
        "**RECUERDE ESTO PORQUE PODRÍA SER UNA PREGUNTA DE PRUEBA**"
      ],
      "metadata": {
        "id": "Uo86E6lB7BEx"
      }
    },
    {
      "cell_type": "markdown",
      "source": [
        "# Comprobación de los ejercicios\n",
        "\n",
        "Ahora, usted deberá comprobar el valor de verdad de la siguiente proposición:\n",
        "\n",
        "$$ (p \\Lambda q) v (\\overline{r} \\Lambda s) $$"
      ],
      "metadata": {
        "id": "QU058uKa7Ri1"
      }
    },
    {
      "cell_type": "code",
      "source": [
        "p, q, r, s = proposiciones\n",
        "\n",
        "valordeverdad = (p and q) or (not r and s)\n",
        "\n",
        "antecedente = p and q\n",
        "\n",
        "consecuente = not r and s\n",
        "\n",
        "print(antecedente or consecuente)"
      ],
      "metadata": {
        "colab": {
          "base_uri": "https://localhost:8080/"
        },
        "id": "zMlVYAFp7S66",
        "outputId": "ed224d8a-8594-40f8-d46d-52bb66e19c72"
      },
      "execution_count": null,
      "outputs": [
        {
          "output_type": "stream",
          "name": "stdout",
          "text": [
            "False\n"
          ]
        }
      ]
    },
    {
      "cell_type": "markdown",
      "source": [
        "# Los operadores lógicos and, or y not\n",
        "\n",
        "Comprenda el uso de estos operadores para poder considerar los valores de verdad en una proposición computacional.\n",
        "\n",
        "Considere el siguiente ejemplo:\n",
        "\n",
        "Imagina que tienes dos cajas, una caja A y una caja B.\n",
        "\n",
        "El objetivo es **ESTAR FELIZ.**\n",
        "\n",
        "and es como decir \"si ambas cajas A y B tienen un juguete dentro, entonces yo estaré feliz\". Entonces, solo estarás feliz si ambas cajas tienen un juguete. Si una caja está vacía o si ambas están vacías, no estarás feliz.\n",
        "\n",
        "or es como decir \"si al menos una de las cajas A o B tiene un juguete dentro, entonces yo estaré feliz\". Entonces, estarás feliz si la caja A tiene un juguete, o si la caja B tiene un juguete, o si ambas cajas tienen un juguete. Solo estarás triste si ambas cajas están vacías.\n",
        "\n",
        "not es como decir \"lo opuesto\". Entonces, si la caja A tiene un juguete y dices \"not A\", eso significa \"no hay un juguete en la caja A\", lo cual es lo opuesto a la realidad.\n",
        "\n",
        "Entonces, usando and, or y not, puedes decir cosas como:\n",
        "\n",
        "A and B: \"Ambas cajas A y B tienen un juguete\".\n",
        "\n",
        "A or B: \"Al menos una de las cajas A o B tiene un juguete\".\n",
        "\n",
        "not A: \"La caja A no tiene un juguete\"."
      ],
      "metadata": {
        "id": "SGdl_mcq8t3O"
      }
    },
    {
      "cell_type": "markdown",
      "source": [
        "# Diccionarios\n",
        "\n",
        " A diferencia de las listas, los diccionarios usan el formato clave - valor.\n",
        "\n",
        " ¿Conoces la paleta de colores hexadecimal?\n",
        "\n",
        " [Conócela aquí](https://www.colorhexmap.com/?gclid=Cj0KCQjwi7GnBhDXARIsAFLvH4lm8HF3ydMzmWrQGWFrXryDJ8VVK7JXwXC7k24OD9KM3XjBsL3tC44aAspBEALw_wcB)"
      ],
      "metadata": {
        "id": "Z_mopcHi9ro3"
      }
    },
    {
      "cell_type": "code",
      "source": [
        "# Construyamos un diccionario de colores y sus valores hexadecimales\n",
        "\n",
        "colores = { 'rojo': '#FF0000',\n",
        "           'verde': '#00FF00',\n",
        "            'azul': '#0000FF'\n",
        "            }\n",
        "\n",
        "  # ¿Qué obtienes si imprimes el diccionario?\n",
        "\n",
        "print(colores)"
      ],
      "metadata": {
        "colab": {
          "base_uri": "https://localhost:8080/"
        },
        "id": "F6YUAdWw8_M8",
        "outputId": "6cd759d7-b22a-4039-e937-10ad16ca306c"
      },
      "execution_count": null,
      "outputs": [
        {
          "output_type": "stream",
          "name": "stdout",
          "text": [
            "{'rojo': '#FF0000', 'verde': '#00FF00', 'azul': '#0000FF'}\n"
          ]
        }
      ]
    },
    {
      "cell_type": "code",
      "source": [
        "frutas = { 'manzana': 'roja',\n",
        "          'banana': 'amarilla',\n",
        "           'naranja': 'naranja'\n",
        "           }\n",
        "print(frutas)\n",
        "\n",
        "coloresdos = { 'roja': 'rojo',\n",
        "              'amarilla': 'amarillo',\n",
        "               'naranja': 'naranjo'\n",
        "               }\n",
        "\n",
        "print(coloresdos)"
      ],
      "metadata": {
        "colab": {
          "base_uri": "https://localhost:8080/"
        },
        "id": "WuFPl_wf-yZm",
        "outputId": "93749c53-3a5e-461a-c461-def2db729057"
      },
      "execution_count": null,
      "outputs": [
        {
          "output_type": "stream",
          "name": "stdout",
          "text": [
            "{'manzana': 'roja', 'banana': 'amarilla', 'naranja': 'naranja'}\n",
            "{'roja': 'rojo', 'amarilla': 'amarillo', 'naranja': 'naranjo'}\n"
          ]
        }
      ]
    },
    {
      "cell_type": "markdown",
      "source": [
        "¿Y cómo añadimos una nueva fruta?\n",
        "\n",
        "A diferencia de las listas que usamos el comando *.append()*.\n",
        "\n",
        "En un diccionario usamos **EL NOMBRE DEL DICCIONARIO** y luego **[ ' clave ']** para añadir el elemento e **= 'valor'**\n",
        "\n",
        "Añada ahora la fruta sandía al diccionario de frutas."
      ],
      "metadata": {
        "id": "9GRBwban_s5l"
      }
    },
    {
      "cell_type": "code",
      "source": [
        "frutas['sandía'] = 'roja'\n",
        "print(frutas)"
      ],
      "metadata": {
        "colab": {
          "base_uri": "https://localhost:8080/"
        },
        "id": "zsXGdT8q_1vZ",
        "outputId": "32df445c-b2e5-4406-8f92-689db78a387d"
      },
      "execution_count": null,
      "outputs": [
        {
          "output_type": "stream",
          "name": "stdout",
          "text": [
            "{'manzana': 'roja', 'banana': 'amarilla', 'naranja': 'naranja', 'sandía': 'roja'}\n"
          ]
        }
      ]
    },
    {
      "cell_type": "code",
      "source": [
        "# Para eliminar elementos de nuestro diccionario\n",
        "# Podemos usar\n",
        "# del nombrediccionario['clave']\n",
        "\n",
        "\n",
        "del frutas['manzana']\n",
        "\n",
        "print(frutas)"
      ],
      "metadata": {
        "colab": {
          "base_uri": "https://localhost:8080/"
        },
        "id": "cVVSlNNQAOa4",
        "outputId": "6a452002-3b9a-4900-f134-97dfc55e3670"
      },
      "execution_count": null,
      "outputs": [
        {
          "output_type": "stream",
          "name": "stdout",
          "text": [
            "{'naranja': 'naranja', 'sandía': 'roja'}\n"
          ]
        }
      ]
    },
    {
      "cell_type": "code",
      "source": [],
      "metadata": {
        "id": "q9rffxHOBKer"
      },
      "execution_count": null,
      "outputs": []
    }
  ]
}