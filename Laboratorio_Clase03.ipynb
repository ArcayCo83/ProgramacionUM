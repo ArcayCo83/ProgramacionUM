{
  "nbformat": 4,
  "nbformat_minor": 0,
  "metadata": {
    "colab": {
      "provenance": [],
      "authorship_tag": "ABX9TyNSQhqiwvDbXF/s2kpiWfnP",
      "include_colab_link": true
    },
    "kernelspec": {
      "name": "python3",
      "display_name": "Python 3"
    },
    "language_info": {
      "name": "python"
    }
  },
  "cells": [
    {
      "cell_type": "markdown",
      "metadata": {
        "id": "view-in-github",
        "colab_type": "text"
      },
      "source": [
        "<a href=\"https://colab.research.google.com/github/ArcayCo83/ProgramacionUM/blob/main/Laboratorio_Clase03.ipynb\" target=\"_parent\"><img src=\"https://colab.research.google.com/assets/colab-badge.svg\" alt=\"Open In Colab\"/></a>"
      ]
    },
    {
      "cell_type": "markdown",
      "source": [
        "# Bienvenidos al laboratorio\n",
        "\n",
        "La clase anterior vimos todo lo relacionado a las listas y diccionarios.\n",
        "\n",
        "Pero hoy empezaremos a analizar otra parte fundamental en los procesos computacionales, **las iteraciones**.\n",
        "\n",
        "## ¿Qué es una iteración?\n",
        "\n",
        "Es el proceso de **repetir** alguna instrucción de manera constante hasta que se termine el bucle.\n",
        "\n",
        "## ¿Cómo se itera en *Python*?\n",
        "\n",
        "La manera más común de iterar es con el comando **for**.\n",
        "\n",
        "## Conozcamos a **for**\n",
        "\n",
        "De manera general usaremos **for** de la siguiente forma:\n",
        "\n",
        "**for** variable **in** iterable\n",
        "\n",
        "¿Qué quiere decir esto?\n",
        "\n",
        "### Variable\n",
        "\n",
        "Por ahora considere una variable como un **valor del elemento en la secuencia**.\n",
        "\n",
        "### Iterable\n",
        "\n",
        "Secuencia de elementos que iterará.\n",
        "\n",
        "### Bucle\n",
        "\n",
        "Proceso que recorre una secuencia de instrucciones.\n",
        "\n",
        "Veamos nuestro primera instrucción **for**"
      ],
      "metadata": {
        "id": "mvxUtexXohVr"
      }
    },
    {
      "cell_type": "code",
      "execution_count": 2,
      "metadata": {
        "colab": {
          "base_uri": "https://localhost:8080/"
        },
        "id": "jupkRbwJoYj8",
        "outputId": "bc46dbc9-7299-460b-ae60-ce9cb0733166"
      },
      "outputs": [
        {
          "output_type": "stream",
          "name": "stdout",
          "text": [
            "1\n",
            "2\n",
            "3\n",
            "4\n",
            "5\n"
          ]
        }
      ],
      "source": [
        "# Crear una lista de números\n",
        "\n",
        "numeros = [ 1, 2, 3, 4, 5 ]\n",
        "\n",
        "# Crear un bucle\n",
        "\n",
        "for numero in numeros:\n",
        "  print(numero)"
      ]
    },
    {
      "cell_type": "markdown",
      "source": [
        "# Importante\n",
        "\n",
        "Si se da cuenta es que entre la palabra **for** y la palabra **in** va una palabra que llamamos *numero*.\n",
        "\n",
        "Pero, ¿qué pasaría si en lugar de la palabra *numero* colocamos la palabra *noentiendo*?\n",
        "\n",
        "Haga el código aquí debajo:"
      ],
      "metadata": {
        "id": "Ma6FzFKzs6P7"
      }
    },
    {
      "cell_type": "code",
      "source": [],
      "metadata": {
        "id": "eyYpIOB5tN4r"
      },
      "execution_count": null,
      "outputs": []
    },
    {
      "cell_type": "markdown",
      "source": [
        "# Lo importante\n",
        "\n",
        "Entonces, con esto puede comprender que lo que siempre va fijo es:\n",
        "\n",
        "for, in [nombre del iterable] y la operación que quiere realizar\n",
        "\n",
        "Cree un programa que en la lista números imprima la suma de todos los números."
      ],
      "metadata": {
        "id": "mMeYIE0FtTK0"
      }
    },
    {
      "cell_type": "code",
      "source": [
        "suma = 0\n",
        "\n",
        "for numero in numeros:\n",
        "  suma = suma + numero\n",
        "\n",
        "  print('La suma de todos los números es:', suma)\n",
        "\n"
      ],
      "metadata": {
        "colab": {
          "base_uri": "https://localhost:8080/"
        },
        "id": "rw7bADFOtnUe",
        "outputId": "69fea815-6057-425f-9fda-495e1ec67382"
      },
      "execution_count": 4,
      "outputs": [
        {
          "output_type": "stream",
          "name": "stdout",
          "text": [
            "La suma de todos los números es: 1\n",
            "La suma de todos los números es: 3\n",
            "La suma de todos los números es: 6\n",
            "La suma de todos los números es: 10\n",
            "La suma de todos los números es: 15\n",
            "La suma de todos los números es: 15\n"
          ]
        }
      ]
    },
    {
      "cell_type": "markdown",
      "source": [
        "# La indentación\n",
        "\n",
        "La importancia de la indentación es **CLAVE**\n",
        "\n",
        "Dese cuenta de la diferencia entre el código anterior con el código siguiente:\n"
      ],
      "metadata": {
        "id": "AyZbi8SMuOGu"
      }
    },
    {
      "cell_type": "code",
      "source": [
        "suma = 0\n",
        "\n",
        "for numero in numeros:\n",
        "  suma = suma + numero\n",
        "\n",
        "print('La suma de todos los números es:', suma)"
      ],
      "metadata": {
        "colab": {
          "base_uri": "https://localhost:8080/"
        },
        "id": "eseCht8Muc0T",
        "outputId": "dec83dfd-8d77-4148-a6ac-d9136639f293"
      },
      "execution_count": 5,
      "outputs": [
        {
          "output_type": "stream",
          "name": "stdout",
          "text": [
            "La suma de todos los números es: 15\n"
          ]
        }
      ]
    }
  ]
}