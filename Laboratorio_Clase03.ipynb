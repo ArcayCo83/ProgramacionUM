{
  "nbformat": 4,
  "nbformat_minor": 0,
  "metadata": {
    "colab": {
      "provenance": [],
      "authorship_tag": "ABX9TyNAhtl0JPhsRHgV0+LtrZCb",
      "include_colab_link": true
    },
    "kernelspec": {
      "name": "python3",
      "display_name": "Python 3"
    },
    "language_info": {
      "name": "python"
    }
  },
  "cells": [
    {
      "cell_type": "markdown",
      "metadata": {
        "id": "view-in-github",
        "colab_type": "text"
      },
      "source": [
        "<a href=\"https://colab.research.google.com/github/ArcayCo83/ProgramacionUM/blob/main/Laboratorio_Clase03.ipynb\" target=\"_parent\"><img src=\"https://colab.research.google.com/assets/colab-badge.svg\" alt=\"Open In Colab\"/></a>"
      ]
    },
    {
      "cell_type": "markdown",
      "source": [
        "# Bienvenidos al laboratorio\n",
        "\n",
        "La clase anterior vimos todo lo relacionado a las listas y diccionarios.\n",
        "\n",
        "Pero hoy empezaremos a analizar otra parte fundamental en los procesos computacionales, **las iteraciones**.\n",
        "\n",
        "## ¿Qué es una iteración?\n",
        "\n",
        "Es el proceso de **repetir** alguna instrucción de manera constante hasta que se termine el bucle.\n",
        "\n",
        "## ¿Cómo se itera en *Python*?\n",
        "\n",
        "La manera más común de iterar es con el comando **for**.\n",
        "\n",
        "## Conozcamos a **for**\n",
        "\n",
        "De manera general usaremos **for** de la siguiente forma:\n",
        "\n",
        "**for** variable **in** iterable\n",
        "\n",
        "¿Qué quiere decir esto?\n",
        "\n",
        "### Variable\n",
        "\n",
        "Por ahora considere una variable como un **valor del elemento en la secuencia**.\n",
        "\n",
        "### Iterable\n",
        "\n",
        "Secuencia de elementos que iterará.\n",
        "\n",
        "### Bucle\n",
        "\n",
        "Proceso que recorre una secuencia de instrucciones.\n",
        "\n",
        "Veamos nuestro primera instrucción **for**"
      ],
      "metadata": {
        "id": "mvxUtexXohVr"
      }
    },
    {
      "cell_type": "code",
      "execution_count": 2,
      "metadata": {
        "colab": {
          "base_uri": "https://localhost:8080/"
        },
        "id": "jupkRbwJoYj8",
        "outputId": "bc46dbc9-7299-460b-ae60-ce9cb0733166"
      },
      "outputs": [
        {
          "output_type": "stream",
          "name": "stdout",
          "text": [
            "1\n",
            "2\n",
            "3\n",
            "4\n",
            "5\n"
          ]
        }
      ],
      "source": [
        "# Crear una lista de números\n",
        "\n",
        "numeros = [ 1, 2, 3, 4, 5 ]\n",
        "\n",
        "# Crear un bucle\n",
        "\n",
        "for numero in numeros:\n",
        "  print(numero)"
      ]
    },
    {
      "cell_type": "markdown",
      "source": [
        "# Importante\n",
        "\n",
        "Si se da cuenta es que entre la palabra **for** y la palabra **in** va una palabra que llamamos *numero*.\n",
        "\n",
        "Pero, ¿qué pasaría si en lugar de la palabra *numero* colocamos la palabra *noentiendo*?\n",
        "\n",
        "Haga el código aquí debajo:"
      ],
      "metadata": {
        "id": "Ma6FzFKzs6P7"
      }
    },
    {
      "cell_type": "code",
      "source": [],
      "metadata": {
        "id": "eyYpIOB5tN4r"
      },
      "execution_count": null,
      "outputs": []
    },
    {
      "cell_type": "markdown",
      "source": [
        "# Lo importante\n",
        "\n",
        "Entonces, con esto puede comprender que lo que siempre va fijo es:\n",
        "\n",
        "for, in [nombre del iterable] y la operación que quiere realizar\n",
        "\n",
        "Cree un programa que en la lista números imprima la suma de todos los números."
      ],
      "metadata": {
        "id": "mMeYIE0FtTK0"
      }
    },
    {
      "cell_type": "code",
      "source": [
        "suma = 0\n",
        "\n",
        "for numero in numeros:\n",
        "  suma = suma + numero\n",
        "\n",
        "  print('La suma de todos los números es:', suma)\n",
        "\n"
      ],
      "metadata": {
        "colab": {
          "base_uri": "https://localhost:8080/"
        },
        "id": "rw7bADFOtnUe",
        "outputId": "69fea815-6057-425f-9fda-495e1ec67382"
      },
      "execution_count": 4,
      "outputs": [
        {
          "output_type": "stream",
          "name": "stdout",
          "text": [
            "La suma de todos los números es: 1\n",
            "La suma de todos los números es: 3\n",
            "La suma de todos los números es: 6\n",
            "La suma de todos los números es: 10\n",
            "La suma de todos los números es: 15\n",
            "La suma de todos los números es: 15\n"
          ]
        }
      ]
    },
    {
      "cell_type": "markdown",
      "source": [
        "# La indentación\n",
        "\n",
        "La importancia de la indentación es **CLAVE**\n",
        "\n",
        "Dese cuenta de la diferencia entre el código anterior con el código siguiente:\n"
      ],
      "metadata": {
        "id": "AyZbi8SMuOGu"
      }
    },
    {
      "cell_type": "code",
      "source": [
        "suma = 0\n",
        "\n",
        "for numero in numeros:\n",
        "  suma = suma + numero\n",
        "\n",
        "print('La suma de todos los números es:', suma)"
      ],
      "metadata": {
        "colab": {
          "base_uri": "https://localhost:8080/"
        },
        "id": "eseCht8Muc0T",
        "outputId": "dec83dfd-8d77-4148-a6ac-d9136639f293"
      },
      "execution_count": 5,
      "outputs": [
        {
          "output_type": "stream",
          "name": "stdout",
          "text": [
            "La suma de todos los números es: 15\n"
          ]
        }
      ]
    },
    {
      "cell_type": "markdown",
      "source": [
        "# Funciones anidadas\n",
        "\n",
        "¿Qué es la anidación?\n",
        "\n",
        "Es cuando creamos una instrucción dentro de otra instrucción para poder cumplir el objetivo.\n",
        "\n",
        "# Función range\n",
        "\n",
        "Imagine que a usted le dijeran que necesita crear una **secuencia de números**.\n",
        "\n",
        "Usted no va a escribir todos los números uno por uno.\n",
        "\n",
        "Para eso usamos la función **range**\n",
        "\n",
        "La función tiene **argumentos**, *start* (opcional, si no lo especifica será el 0). *Stop* (requerido), cuándo tiene que parar la secuencia. *Step* (opcional) De cuánto en cuánto quiere que sea la diferencia entre cada número.\n",
        "\n",
        "Por ejemplo:\n",
        "\n",
        "Juan está jugando a las escondidas y le dicen que tiene que contar de 3 en 3 hasta el 99, cree una lista que muestre los números que contó Juan."
      ],
      "metadata": {
        "id": "mu0Q9kATu_S_"
      }
    },
    {
      "cell_type": "code",
      "source": [
        "# Juan contó hasta el 99, veamos qué pasa si colocamos\n",
        "\n",
        "range(99)"
      ],
      "metadata": {
        "colab": {
          "base_uri": "https://localhost:8080/"
        },
        "id": "cQLdJboNwhFx",
        "outputId": "b1eba6a7-69b8-4ac4-8757-3ab5993dc841"
      },
      "execution_count": 8,
      "outputs": [
        {
          "output_type": "execute_result",
          "data": {
            "text/plain": [
              "range(0, 99)"
            ]
          },
          "metadata": {},
          "execution_count": 8
        }
      ]
    },
    {
      "cell_type": "code",
      "source": [
        "# Lo que obtenemos es insuficiente, porque el resultado que obtenemos es del 0 al 99,\n",
        "## pero no sabemos nada de lo que pasó entre medio.\n",
        "## Usemos ahora un for para ver qué pasa\n",
        "\n",
        "for Juan in range(99):\n",
        "  print(Juan)\n",
        "\n"
      ],
      "metadata": {
        "colab": {
          "base_uri": "https://localhost:8080/"
        },
        "id": "Qob64fOywwJi",
        "outputId": "bdbd4e71-5de7-4beb-9b32-ca2ded29371c"
      },
      "execution_count": 9,
      "outputs": [
        {
          "output_type": "stream",
          "name": "stdout",
          "text": [
            "0\n",
            "1\n",
            "2\n",
            "3\n",
            "4\n",
            "5\n",
            "6\n",
            "7\n",
            "8\n",
            "9\n",
            "10\n",
            "11\n",
            "12\n",
            "13\n",
            "14\n",
            "15\n",
            "16\n",
            "17\n",
            "18\n",
            "19\n",
            "20\n",
            "21\n",
            "22\n",
            "23\n",
            "24\n",
            "25\n",
            "26\n",
            "27\n",
            "28\n",
            "29\n",
            "30\n",
            "31\n",
            "32\n",
            "33\n",
            "34\n",
            "35\n",
            "36\n",
            "37\n",
            "38\n",
            "39\n",
            "40\n",
            "41\n",
            "42\n",
            "43\n",
            "44\n",
            "45\n",
            "46\n",
            "47\n",
            "48\n",
            "49\n",
            "50\n",
            "51\n",
            "52\n",
            "53\n",
            "54\n",
            "55\n",
            "56\n",
            "57\n",
            "58\n",
            "59\n",
            "60\n",
            "61\n",
            "62\n",
            "63\n",
            "64\n",
            "65\n",
            "66\n",
            "67\n",
            "68\n",
            "69\n",
            "70\n",
            "71\n",
            "72\n",
            "73\n",
            "74\n",
            "75\n",
            "76\n",
            "77\n",
            "78\n",
            "79\n",
            "80\n",
            "81\n",
            "82\n",
            "83\n",
            "84\n",
            "85\n",
            "86\n",
            "87\n",
            "88\n",
            "89\n",
            "90\n",
            "91\n",
            "92\n",
            "93\n",
            "94\n",
            "95\n",
            "96\n",
            "97\n",
            "98\n"
          ]
        }
      ]
    },
    {
      "cell_type": "code",
      "source": [
        "# Con esto nos acercamos un poco, pero aún así tenemos que parte del 0\n",
        "# y la orden es que parta del 3, así que arreglemos eso\n",
        "\n",
        "for Juan2 in range(3, 99):\n",
        "  print(Juan2)\n",
        "\n",
        "## Ahora tenemos el inicio en el número 3, pero nos falta que se salte de tres en tres..."
      ],
      "metadata": {
        "colab": {
          "base_uri": "https://localhost:8080/"
        },
        "id": "082Zt8eexT7Z",
        "outputId": "e8e55bdc-9950-457c-8cea-cc2009ee0a7c"
      },
      "execution_count": 11,
      "outputs": [
        {
          "output_type": "stream",
          "name": "stdout",
          "text": [
            "3\n",
            "4\n",
            "5\n",
            "6\n",
            "7\n",
            "8\n",
            "9\n",
            "10\n",
            "11\n",
            "12\n",
            "13\n",
            "14\n",
            "15\n",
            "16\n",
            "17\n",
            "18\n",
            "19\n",
            "20\n",
            "21\n",
            "22\n",
            "23\n",
            "24\n",
            "25\n",
            "26\n",
            "27\n",
            "28\n",
            "29\n",
            "30\n",
            "31\n",
            "32\n",
            "33\n",
            "34\n",
            "35\n",
            "36\n",
            "37\n",
            "38\n",
            "39\n",
            "40\n",
            "41\n",
            "42\n",
            "43\n",
            "44\n",
            "45\n",
            "46\n",
            "47\n",
            "48\n",
            "49\n",
            "50\n",
            "51\n",
            "52\n",
            "53\n",
            "54\n",
            "55\n",
            "56\n",
            "57\n",
            "58\n",
            "59\n",
            "60\n",
            "61\n",
            "62\n",
            "63\n",
            "64\n",
            "65\n",
            "66\n",
            "67\n",
            "68\n",
            "69\n",
            "70\n",
            "71\n",
            "72\n",
            "73\n",
            "74\n",
            "75\n",
            "76\n",
            "77\n",
            "78\n",
            "79\n",
            "80\n",
            "81\n",
            "82\n",
            "83\n",
            "84\n",
            "85\n",
            "86\n",
            "87\n",
            "88\n",
            "89\n",
            "90\n",
            "91\n",
            "92\n",
            "93\n",
            "94\n",
            "95\n",
            "96\n",
            "97\n",
            "98\n"
          ]
        }
      ]
    },
    {
      "cell_type": "code",
      "source": [
        "# Para lograr esto, nos falta el comando step, por eso definimos\n",
        "\n",
        "for Juan3 in range(3, 99, 3):\n",
        "  print(Juan3)"
      ],
      "metadata": {
        "colab": {
          "base_uri": "https://localhost:8080/"
        },
        "id": "dguIDPeMxd2J",
        "outputId": "2dde4aee-c570-4bed-ea77-5ddcb730d32b"
      },
      "execution_count": 12,
      "outputs": [
        {
          "output_type": "stream",
          "name": "stdout",
          "text": [
            "3\n",
            "6\n",
            "9\n",
            "12\n",
            "15\n",
            "18\n",
            "21\n",
            "24\n",
            "27\n",
            "30\n",
            "33\n",
            "36\n",
            "39\n",
            "42\n",
            "45\n",
            "48\n",
            "51\n",
            "54\n",
            "57\n",
            "60\n",
            "63\n",
            "66\n",
            "69\n",
            "72\n",
            "75\n",
            "78\n",
            "81\n",
            "84\n",
            "87\n",
            "90\n",
            "93\n",
            "96\n"
          ]
        }
      ]
    },
    {
      "cell_type": "markdown",
      "source": [
        "# Función len\n",
        "\n",
        "La función len es para definir la longitud **(NÚMERO DE ELEMENTOS)** de un objeto.\n",
        "\n",
        "Se puede usar en cadenas de texto (str), listas, tuplas, diccionarios, etc.\n",
        "\n",
        "Veamos unos ejemplos:"
      ],
      "metadata": {
        "id": "Tv4NLWkJx7Qr"
      }
    },
    {
      "cell_type": "code",
      "source": [
        "\n",
        "len('hola')\n",
        "\n",
        "\n",
        "diccionario = { 'uno': 1, 'dos': 2, 'tres': 3 }\n",
        "print(len(diccionario))\n",
        "\n",
        "print(len(numeros))\n",
        "\n",
        "print(f'El largo de la cadena de texto hola es', len('hola'),\n",
        "      'el largo del listado de números es', len(numeros),\n",
        "      'el largo del diccionario es', len(diccionario))"
      ],
      "metadata": {
        "colab": {
          "base_uri": "https://localhost:8080/"
        },
        "id": "0lZPnwb5zDp7",
        "outputId": "4e6e93ce-93e0-470a-a323-755ea54465f4"
      },
      "execution_count": 18,
      "outputs": [
        {
          "output_type": "stream",
          "name": "stdout",
          "text": [
            "3\n",
            "5\n",
            "El largo de la cadena de texto hola es 4 el largo del listado de números es 5 el largo del diccionario es 3\n"
          ]
        }
      ]
    }
  ]
}